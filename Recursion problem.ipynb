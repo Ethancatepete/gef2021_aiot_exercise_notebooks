{
 "cells": [
  {
   "cell_type": "code",
   "execution_count": 1,
   "id": "ee69a055",
   "metadata": {},
   "outputs": [],
   "source": [
    "#Calculating sum\n",
    "def sumOfNum(n):\n",
    "    if n == 0:\n",
    "        return 0\n",
    "    else:\n",
    "        return n + sumOfNum(n-1)"
   ]
  },
  {
   "cell_type": "code",
   "execution_count": 6,
   "id": "03678d92",
   "metadata": {},
   "outputs": [
    {
     "data": {
      "text/plain": [
       "55"
      ]
     },
     "execution_count": 6,
     "metadata": {},
     "output_type": "execute_result"
    }
   ],
   "source": [
    "sumOfNum(10)"
   ]
  },
  {
   "cell_type": "code",
   "execution_count": 7,
   "id": "78fad731",
   "metadata": {},
   "outputs": [],
   "source": [
    "#n is y, m is x\n",
    "def gridPath(n, m):\n",
    "    if (n == 1) or (m == 1):\n",
    "        return 1\n",
    "    else:\n",
    "        return gridPath(n, m-1) + gridPath(n-1, m)"
   ]
  },
  {
   "cell_type": "code",
   "execution_count": 11,
   "id": "b229d66d",
   "metadata": {},
   "outputs": [
    {
     "data": {
      "text/plain": [
       "10"
      ]
     },
     "execution_count": 11,
     "metadata": {},
     "output_type": "execute_result"
    }
   ],
   "source": [
    "gridPath(3, 4)"
   ]
  },
  {
   "cell_type": "code",
   "execution_count": 12,
   "id": "d68c00e6",
   "metadata": {},
   "outputs": [],
   "source": [
    "#m is amount of allowed parts\n",
    "def countPartition(n, m):\n",
    "    if n == 0:\n",
    "        return 1\n",
    "    elif m == 0 or n < 0:\n",
    "        return 0\n",
    "    else:\n",
    "        return countPartition(n - m, m) + countPartition(n, m - 1)"
   ]
  },
  {
   "cell_type": "code",
   "execution_count": 14,
   "id": "a7169a6e",
   "metadata": {},
   "outputs": [
    {
     "data": {
      "text/plain": [
       "2"
      ]
     },
     "execution_count": 14,
     "metadata": {},
     "output_type": "execute_result"
    }
   ],
   "source": [
    "countPartition(2, 3)"
   ]
  },
  {
   "cell_type": "code",
   "execution_count": 42,
   "id": "5421bfa4",
   "metadata": {},
   "outputs": [],
   "source": [
    "def powerSet(input_set):\n",
    "    if len(input_set) == 0:\n",
    "        return [[]]\n",
    "    else:\n",
    "        return [[input_set[0]] + i for i in powerSet(input_set[1:])] + powerSet(input_set[1:])\n",
    "        \n",
    "       \n"
   ]
  },
  {
   "cell_type": "code",
   "execution_count": 46,
   "id": "882c2579",
   "metadata": {},
   "outputs": [
    {
     "data": {
      "text/plain": [
       "[[1, 2, 3], [1, 2], [1, 3], [1], [2, 3], [2], [3], []]"
      ]
     },
     "execution_count": 46,
     "metadata": {},
     "output_type": "execute_result"
    }
   ],
   "source": [
    "input_set = [1,2,3]\n",
    "\n",
    "powerSet(input_set)"
   ]
  },
  {
   "cell_type": "code",
   "execution_count": 11,
   "id": "3a94e9c7",
   "metadata": {},
   "outputs": [
    {
     "data": {
      "text/plain": [
       "[[1, 2, 3], [1, 2], [1, 3], [1]]"
      ]
     },
     "execution_count": 11,
     "metadata": {},
     "output_type": "execute_result"
    }
   ],
   "source": [
    "[[input_set[0]] + rest for rest in powerSet(input_set[1:])]"
   ]
  },
  {
   "cell_type": "code",
   "execution_count": 12,
   "id": "b433ca40",
   "metadata": {},
   "outputs": [
    {
     "data": {
      "text/plain": [
       "[[2, 3], [2], [3], []]"
      ]
     },
     "execution_count": 12,
     "metadata": {},
     "output_type": "execute_result"
    }
   ],
   "source": [
    "powerSet(input_set[1:])"
   ]
  },
  {
   "cell_type": "code",
   "execution_count": null,
   "id": "0e9b7921",
   "metadata": {},
   "outputs": [],
   "source": []
  },
  {
   "cell_type": "code",
   "execution_count": null,
   "id": "df0f0fda",
   "metadata": {},
   "outputs": [],
   "source": [
    "#What is the maximum number of squares of size 2x2 that can be fit in a \n",
    "#right angled isosceles triangle of base B.\n",
    "#One side of the square must be parallel to the base of the isosceles triangle.\n",
    "#Base is the shortest side of the triangle"
   ]
  }
 ],
 "metadata": {
  "kernelspec": {
   "display_name": "Python 3 (ipykernel)",
   "language": "python",
   "name": "python3"
  },
  "language_info": {
   "codemirror_mode": {
    "name": "ipython",
    "version": 3
   },
   "file_extension": ".py",
   "mimetype": "text/x-python",
   "name": "python",
   "nbconvert_exporter": "python",
   "pygments_lexer": "ipython3",
   "version": "3.9.7"
  }
 },
 "nbformat": 4,
 "nbformat_minor": 5
}
