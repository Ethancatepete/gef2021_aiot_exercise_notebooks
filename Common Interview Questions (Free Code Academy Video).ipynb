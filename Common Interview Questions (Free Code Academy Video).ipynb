{
 "cells": [
  {
   "cell_type": "code",
   "execution_count": 2,
   "id": "e1a99b1f",
   "metadata": {},
   "outputs": [
    {
     "name": "stdout",
     "output_type": "stream",
     "text": [
      "Please input a word hello\n",
      "Please input another word lleoh\n",
      "{'h': 1, 'e': 1, 'l': 2, 'o': 1}\n",
      "{'l': 2, 'e': 1, 'o': 1, 'h': 1}\n",
      "They are anagrams\n"
     ]
    }
   ],
   "source": [
    "##First problem -- Valid Anagram\n",
    "\n",
    "while True:\n",
    "    try:\n",
    "        word1 = input(\"Please input a word \").lower()\n",
    "        word2 = input(\"Please input another word \").lower()\n",
    "        break\n",
    "        \n",
    "    except(ValueError, TypeError):\n",
    "        print(\"Please enter a valid word\")\n",
    "    \n",
    "    \n",
    "wordDict1 = {}\n",
    "wordDict2 = {}\n",
    "\n",
    "for i in range(len(word1)):\n",
    "    \n",
    "    if word1[i] in wordDict1:\n",
    "        wordDict1[word1[i]] += 1\n",
    "    else:\n",
    "        #Declare \n",
    "        wordDict1[word1[i]] = 1\n",
    "\n",
    "for i in range(len(word2)):\n",
    "    \n",
    "    if word2[i] in wordDict2:\n",
    "        wordDict2[word2[i]] +=1\n",
    "    else:\n",
    "        wordDict2[word2[i]] = 1\n",
    "\n",
    "print(wordDict1)\n",
    "print(wordDict2)\n",
    "        \n",
    "if wordDict1 == wordDict2:\n",
    "    print(\"They are anagrams\")\n",
    "        \n",
    "\n"
   ]
  },
  {
   "cell_type": "code",
   "execution_count": 30,
   "id": "c99cfaa0",
   "metadata": {},
   "outputs": [
    {
     "name": "stdout",
     "output_type": "stream",
     "text": [
      "start index 5\n",
      "end index 5\n"
     ]
    }
   ],
   "source": [
    "##Second Problem -- First and last index in sorted array\n",
    "\n",
    "sorted_array = [\"a\", \"a\", \"b\", \"b\", \"c\", \"d\"]\n",
    "\n",
    "search = \"d\"\n",
    "\n",
    "for i in range(len(sorted_array)):\n",
    "    if sorted_array[i] == search:\n",
    "        startIndex = i\n",
    "        break\n",
    "\n",
    "for i in range(startIndex, len(sorted_array)):\n",
    "    \n",
    "    if sorted_array[i] == search:\n",
    "        endIndex = i\n",
    "        \n",
    "print(\"start index\", startIndex)\n",
    "print(\"end index\", endIndex)"
   ]
  },
  {
   "cell_type": "code",
   "execution_count": 57,
   "id": "e126bcb4",
   "metadata": {},
   "outputs": [
    {
     "data": {
      "text/plain": [
       "4"
      ]
     },
     "execution_count": 57,
     "metadata": {},
     "output_type": "execute_result"
    }
   ],
   "source": [
    "'''\n",
    "def kLargest(arr, k):\n",
    "    for i in range(k - 1):\n",
    "        arr.remove(max(arr))\n",
    "        \n",
    "    return max(arr)\n",
    "        \n",
    "kLargest([1,2,3,6,7,8,10], 4)\n",
    "'''\n",
    "\n",
    "#Going through each element\n",
    "\n",
    "def kLargest(arr, k):\n",
    "    for i in range(len(arr)):\n",
    "        #How many bubblesorts -- need one less because first time it got sorted alr\n",
    "        for j in range(len(arr) - 1):\n",
    "            if arr[j] > arr[j + 1]:\n",
    "                arr[j], arr[j + 1] = arr[j + 1], arr[j]\n",
    "    return arr[-k]\n",
    "\n",
    "        \n",
    "kLargest([5,4,3,2,1,10], 3)"
   ]
  },
  {
   "cell_type": "code",
   "execution_count": null,
   "id": "7ee26f27",
   "metadata": {},
   "outputs": [],
   "source": []
  }
 ],
 "metadata": {
  "kernelspec": {
   "display_name": "Python 3 (ipykernel)",
   "language": "python",
   "name": "python3"
  },
  "language_info": {
   "codemirror_mode": {
    "name": "ipython",
    "version": 3
   },
   "file_extension": ".py",
   "mimetype": "text/x-python",
   "name": "python",
   "nbconvert_exporter": "python",
   "pygments_lexer": "ipython3",
   "version": "3.9.7"
  }
 },
 "nbformat": 4,
 "nbformat_minor": 5
}
