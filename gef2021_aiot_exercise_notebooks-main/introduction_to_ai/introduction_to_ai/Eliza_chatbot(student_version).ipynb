{
 "cells": [
  {
   "cell_type": "markdown",
   "metadata": {
    "id": "89q-GVcSD2uZ"
   },
   "source": [
    "***Credit: This exercise is based on the published paper \"A Python Pattern Matcher Project for an Introduction to Artificial Intelligence Course\" by Dr. Cynthia J. Martincic from Saint Vincent College, Latrobe, PA. Available here: http://citeseerx.ist.psu.edu/viewdoc/download?doi=10.1.1.414.9658&rep=rep1&type=pdf***\n",
    "\n",
    "\n",
    "### Note that:\n",
    "1. The syntax used in the paper is Python 2, but we should write the chatbot in Python3.\n",
    "2. If you get stuck at some point, feel free to refer to the Appendix A of the paper for your reference."
   ]
  },
  {
   "cell_type": "markdown",
   "metadata": {
    "id": "VpTFC3QuMGqF"
   },
   "source": [
    "# Import the required Python libraries"
   ]
  },
  {
   "cell_type": "code",
   "execution_count": 1,
   "metadata": {
    "id": "zGtz2tAG0DYc"
   },
   "outputs": [],
   "source": [
    "import random"
   ]
  },
  {
   "cell_type": "markdown",
   "metadata": {
    "id": "PkfCYwoWgCsy"
   },
   "source": [
    "## Ex. 1"
   ]
  },
  {
   "cell_type": "markdown",
   "metadata": {
    "id": "hKhGsiFW4ah2"
   },
   "source": [
    "Write a function called “isvariable” that returns true if the string passed to it begins with the underscore character and false otherwise, i.e.:\n",
    "\n",
    "\n",
    "\n",
    "1.   isvariable('_x') returns True\n",
    "2.   isvariable('x') returns False\n",
    "\n",
    "\n",
    "\n"
   ]
  },
  {
   "cell_type": "code",
   "execution_count": 2,
   "metadata": {
    "id": "H4h7lcf7gp24"
   },
   "outputs": [],
   "source": [
    "def isvariable(string):\n",
    "    if string[0] == '_':\n",
    "        return True\n",
    "    \n",
    "    else:\n",
    "        return False\n",
    "    \n",
    "\n",
    "        "
   ]
  },
  {
   "cell_type": "markdown",
   "metadata": {
    "id": "LVBYR1BL5Rzt"
   },
   "source": [
    "Test your function by running the cell below:\n"
   ]
  },
  {
   "cell_type": "code",
   "execution_count": 3,
   "metadata": {
    "id": "b1vAKjOs0KUb"
   },
   "outputs": [
    {
     "name": "stdout",
     "output_type": "stream",
     "text": [
      "True\n",
      "False\n"
     ]
    }
   ],
   "source": [
    "print( isvariable('_x') )\n",
    "print( isvariable('x') )"
   ]
  },
  {
   "cell_type": "markdown",
   "metadata": {
    "id": "LrWxh94L4zRJ"
   },
   "source": [
    "Expected output:\n",
    "\n",
    "True \n",
    "\n",
    "False"
   ]
  },
  {
   "cell_type": "markdown",
   "metadata": {
    "id": "43m5vNhZgFoe"
   },
   "source": [
    "## Ex. 2"
   ]
  },
  {
   "cell_type": "markdown",
   "metadata": {
    "id": "2WmU0Ms_8lOK"
   },
   "source": [
    "Write a function called \"isseqvariable\" that returns true if the string passed to it begins with \"S_\" and returns false otherwise, i.e.:\n",
    "\n",
    "\n",
    "1.  isseqvariable('S_x') returns True\n",
    "\n",
    "2.  isseqvariable('_x') returns False\n",
    "\n",
    "3.  isseqvariable('x') returns False\n",
    "\n"
   ]
  },
  {
   "cell_type": "code",
   "execution_count": 4,
   "metadata": {
    "id": "uDCBSqqdxHdC"
   },
   "outputs": [],
   "source": [
    "def isseqvariable(string):\n",
    "    \n",
    "    if string[0] == 'S' and string[1] == '_':\n",
    "        return True\n",
    "    \n",
    "    else:\n",
    "        return False\n",
    "        \n",
    "    "
   ]
  },
  {
   "cell_type": "markdown",
   "metadata": {
    "id": "z5PdPKrp5ZsQ"
   },
   "source": [
    "Test your function by running the cell below:"
   ]
  },
  {
   "cell_type": "code",
   "execution_count": 5,
   "metadata": {
    "id": "_1qeYjbdxRHJ"
   },
   "outputs": [
    {
     "name": "stdout",
     "output_type": "stream",
     "text": [
      "True\n",
      "False\n",
      "False\n"
     ]
    }
   ],
   "source": [
    "print( isseqvariable('S_x') )\n",
    "print( isseqvariable('_x') )\n",
    "print( isseqvariable('x') )"
   ]
  },
  {
   "cell_type": "markdown",
   "metadata": {
    "id": "dIETGjIV47zs"
   },
   "source": [
    "Expected output:\n",
    "\n",
    "True\n",
    "\n",
    "False\n",
    "\n",
    "False"
   ]
  },
  {
   "cell_type": "markdown",
   "metadata": {
    "id": "MIH9Z5TKgINd"
   },
   "source": [
    "## Ex. 3"
   ]
  },
  {
   "cell_type": "markdown",
   "metadata": {
    "id": "MlYfL0Lm9d36"
   },
   "source": [
    "Write a function called \"match_element\" that takes two strings and returns true if the two string are equal or if either of them is a variable as defined by the function in the previous exercise."
   ]
  },
  {
   "cell_type": "code",
   "execution_count": 6,
   "metadata": {
    "id": "spu39XsIg1Vj"
   },
   "outputs": [],
   "source": [
    "def match_element(string1, string2):\n",
    "    if string1 == string2:\n",
    "        return True\n",
    "    \n",
    "    elif isvariable(string1) == True or isvariable(string2) == True:\n",
    "        return True\n",
    "    \n",
    "    else:\n",
    "        return False"
   ]
  },
  {
   "cell_type": "markdown",
   "metadata": {
    "id": "6Xd6Yt0G5aay"
   },
   "source": [
    "Test your function by running the cell below:"
   ]
  },
  {
   "cell_type": "code",
   "execution_count": 7,
   "metadata": {
    "id": "Yqz6ZjTZ3eO6"
   },
   "outputs": [
    {
     "name": "stdout",
     "output_type": "stream",
     "text": [
      "True\n",
      "True\n",
      "True\n",
      "True\n",
      "False\n"
     ]
    }
   ],
   "source": [
    "print( match_element('_X', '_Y') )\n",
    "print( match_element('5', '_Y') )\n",
    "print( match_element('_X', '5') )\n",
    "print( match_element('5', '5') )\n",
    "print( match_element('X', 'Y') )"
   ]
  },
  {
   "cell_type": "markdown",
   "metadata": {
    "id": "-lGay4rY5Asg"
   },
   "source": [
    "Expected output:\n",
    "\n",
    "True\n",
    "\n",
    "True\n",
    "\n",
    "True\n",
    "\n",
    "True\n",
    "\n",
    "False"
   ]
  },
  {
   "cell_type": "markdown",
   "metadata": {
    "id": "MdnQnJRUgJ3y"
   },
   "source": [
    "## Ex. 4"
   ]
  },
  {
   "cell_type": "markdown",
   "metadata": {
    "id": "QWViOXJBAZb8"
   },
   "source": [
    "Write a function called \"dont_care\" that returns true if its argument is a string containing only a question\n",
    "mark and false otherwise"
   ]
  },
  {
   "cell_type": "code",
   "execution_count": 8,
   "metadata": {
    "id": "tbnioGDWg3xT"
   },
   "outputs": [],
   "source": [
    "def dont_care(string):\n",
    "    if string[0] == '?' and len(string) == 1:\n",
    "        return True\n",
    "    \n",
    "    else:\n",
    "        return False"
   ]
  },
  {
   "cell_type": "markdown",
   "metadata": {
    "id": "d3HVGNuP5bbs"
   },
   "source": [
    "Test your function by running the cell below:"
   ]
  },
  {
   "cell_type": "code",
   "execution_count": 9,
   "metadata": {
    "id": "ZVcZs5I10hPv"
   },
   "outputs": [
    {
     "name": "stdout",
     "output_type": "stream",
     "text": [
      "True\n",
      "False\n"
     ]
    }
   ],
   "source": [
    "print(dont_care('?'))\n",
    "print(dont_care('b'))"
   ]
  },
  {
   "cell_type": "markdown",
   "metadata": {
    "id": "uFbhscP25HHV"
   },
   "source": [
    "Expected output:\n",
    "\n",
    "True\n",
    "\n",
    "False"
   ]
  },
  {
   "cell_type": "markdown",
   "metadata": {
    "id": "lrQaGIXcxkIL"
   },
   "source": [
    "## Ex. 5"
   ]
  },
  {
   "cell_type": "markdown",
   "metadata": {
    "id": "t2Rdf6bECp4X"
   },
   "source": [
    "Redefine your match_element function so that it returns true if the two arguments are equal or either is '?'\n",
    "(the dont_care string). If either argument is a variable (recognized by isvariable function), match_element should\n",
    "return a dictionary with one key/value pair in which the key is the variable and the value is the\n",
    "other argument. Otherwise, it should return false."
   ]
  },
  {
   "cell_type": "code",
   "execution_count": 10,
   "metadata": {
    "id": "merA0uvB3Z14"
   },
   "outputs": [],
   "source": [
    "def match_element(string1, string2):\n",
    "    if (string1) == (string2):\n",
    "        return True\n",
    "    \n",
    "    elif isvariable(string1) == True:\n",
    "        #Change it to a returned dictionary\n",
    "        return {string1: string2}\n",
    "    \n",
    "    elif isvariable(string2) == True:\n",
    "        return {string2: string1}\n",
    "    \n",
    "    elif dont_care(string1) == True or dont_care(string2) == True:\n",
    "        return True\n",
    "    else:\n",
    "        return False"
   ]
  },
  {
   "cell_type": "markdown",
   "metadata": {
    "id": "TBBtncAl5cRK"
   },
   "source": [
    "Test your function by running the cell below:"
   ]
  },
  {
   "cell_type": "code",
   "execution_count": 11,
   "metadata": {
    "id": "Zx_MO3GQ5POf"
   },
   "outputs": [
    {
     "name": "stdout",
     "output_type": "stream",
     "text": [
      "True\n",
      "True\n",
      "{'_X': '5'}\n",
      "{'_X': 'hi'}\n",
      "False\n"
     ]
    }
   ],
   "source": [
    "print( match_element('?', '5') )\n",
    "print( match_element(\"hi\", \"?\") )\n",
    "print( match_element('5', '_X') )\n",
    "print( match_element('_X', \"hi\") )\n",
    "print( match_element('5', \"hi\") )"
   ]
  },
  {
   "cell_type": "markdown",
   "metadata": {
    "id": "CbFmaVJ65Kta"
   },
   "source": [
    "Expected output:\n",
    "\n",
    "True\n",
    "\n",
    "True\n",
    "\n",
    "{'_X': '5'}\n",
    "\n",
    "{'_X': 'hi'}\n",
    "\n",
    "False"
   ]
  },
  {
   "cell_type": "markdown",
   "metadata": {
    "id": "yspIuLbMfn55"
   },
   "source": [
    "# Helper functions (Advanced)\n",
    "\n",
    "In this part, you will be instructed to write all the helper functions to support the Eliza chatbot.\n",
    "\n"
   ]
  },
  {
   "cell_type": "markdown",
   "metadata": {
    "id": "OuC2K2ZjVGvH"
   },
   "source": [
    "**Introduction to the `isinstance()` function:**\n",
    "\n",
    "The `isinstance()` function returns `True` if the specified object is of the specified type, otherwise `False`.\n",
    "\n",
    "``` python\n",
    "isinstance(object, classinfo)\n",
    "```\n",
    "It gurantees the input is the desired type in our functions.\n"
   ]
  },
  {
   "cell_type": "markdown",
   "metadata": {
    "id": "ew-q8AsBXyeW"
   },
   "source": [
    "See how it works by running the code block below:"
   ]
  },
  {
   "cell_type": "code",
   "execution_count": 12,
   "metadata": {
    "id": "zX3lSUaPXk32"
   },
   "outputs": [
    {
     "name": "stdout",
     "output_type": "stream",
     "text": [
      "True\n",
      "True\n"
     ]
    }
   ],
   "source": [
    "print(isinstance(5, int))\n",
    "print(isinstance(\"Hello\", (float, int, str, list, dict, tuple)))\n",
    " #Check if \"Hello\" is one of the types in classinfo"
   ]
  },
  {
   "cell_type": "markdown",
   "metadata": {
    "id": "i7wqLO5EXo0U"
   },
   "source": [
    "Expected output:\n",
    "\n",
    "True\n",
    "\n",
    "True"
   ]
  },
  {
   "cell_type": "markdown",
   "metadata": {
    "id": "6UcjyUrnYSEF"
   },
   "source": [
    "## Step 1. Matching Functions\n",
    "\n",
    "### 1.1 `matchlelt()`\n",
    "We define that a pair of list of strings `pat` and `lst`are matched if **all the elements** can be successfully matched as defined in Ex.5 `match_element()`. \n",
    "\n",
    "For example:\n",
    "> pat=['I', 'am', '*_variable*' ]\n",
    "\n",
    "> lst=['I', 'am', 'happy']\n",
    "\n",
    "Then `pat` and `lst` are matched.\n",
    "\n",
    "Write a function called `matchlelt`, which takes two arguments `pat` and `lst`, and:\n",
    "\n",
    "*   checks if both `pat` and `lst` are **list** using the `isinstance` function. Print an error message if the input is illegal.\n",
    "*   checks if the list `pat` and `lst` are matched\n",
    "\n",
    "\n",
    "Hint:  You may use recursion to compare the elements in `pat` and `lst`. If both lists are empty, that means that they matched all the way through, so return True. If the first element of `pat` and `lst` matches, make a recursive call to the function without the first element of both lists, otherwise return False.\n"
   ]
  },
  {
   "cell_type": "markdown",
   "metadata": {
    "id": "Au4seg1Sf9ps"
   },
   "source": []
  },
  {
   "cell_type": "code",
   "execution_count": 13,
   "metadata": {},
   "outputs": [],
   "source": [
    "def matchlelt(pat, lst):\n",
    "    \n",
    "    if isinstance(pat, list) == False or isinstance(lst, list) == False:\n",
    "        return \"Inputs are illegal!\"\n",
    "    \n",
    "    \n",
    "    #Check if length is one\n",
    "    if match_element(pat[0], lst[0]) or isvariable(pat[0]) or isvariable(lst[0]):\n",
    "        return match_element(pat[1:], lst[1:])\n",
    "\n",
    "    else:\n",
    "        return False"
   ]
  },
  {
   "cell_type": "code",
   "execution_count": null,
   "metadata": {},
   "outputs": [],
   "source": []
  },
  {
   "cell_type": "code",
   "execution_count": 14,
   "metadata": {},
   "outputs": [],
   "source": [
    "def matchlelt(pat, lst):\n",
    "    \n",
    "    if isinstance(pat, list) == False or isinstance(lst, list) == False:\n",
    "        return \"Inputs are illegal!\"\n",
    "    \n",
    "    #Check if length is one\n",
    "    if (len(pat) == 0 and len(lst) == 0):\n",
    "        return True\n",
    "    \n",
    "    elif match_element(pat[0], lst[0]) != False:\n",
    "        return matchlelt(pat[1:], lst[1:])\n",
    "        \n",
    "    else:\n",
    "        return False"
   ]
  },
  {
   "cell_type": "code",
   "execution_count": null,
   "metadata": {},
   "outputs": [],
   "source": []
  },
  {
   "cell_type": "code",
   "execution_count": 15,
   "metadata": {},
   "outputs": [
    {
     "data": {
      "text/plain": [
       "0"
      ]
     },
     "execution_count": 15,
     "metadata": {},
     "output_type": "execute_result"
    }
   ],
   "source": [
    "a = ['hi','Ethan']\n",
    "b = [\"hi\",'_X']\n",
    "c = []\n",
    "\n",
    "len(c)\n"
   ]
  },
  {
   "cell_type": "markdown",
   "metadata": {
    "id": "0eqouJrOZd4d"
   },
   "source": [
    "Test your function by running the cell below:"
   ]
  },
  {
   "cell_type": "code",
   "execution_count": 16,
   "metadata": {
    "id": "c3qX0EagZg4F"
   },
   "outputs": [
    {
     "name": "stdout",
     "output_type": "stream",
     "text": [
      "Inputs are illegal!\n",
      "Inputs are illegal!\n",
      "Inputs are illegal!\n",
      "True\n",
      "True\n",
      "False\n"
     ]
    }
   ],
   "source": [
    "print(matchlelt('x','y'))\n",
    "print(matchlelt('x',['y1','y2']))\n",
    "print(matchlelt(['x1','x2'],'y'))\n",
    "print(matchlelt(['x1','x2'],['x1','x2']))\n",
    "print(matchlelt(['x1','x2'],['_y','x2']))\n",
    "print(matchlelt(['x1','x2'],['_y','y2']))\n",
    "#print(matchlelt(['x1', 'x2'], ['x2', 'x2']))"
   ]
  },
  {
   "cell_type": "markdown",
   "metadata": {
    "id": "2lhL-yhVig8b"
   },
   "source": [
    "Expected output:\n",
    "\n",
    "Both arguments are not lists.\n",
    "\n",
    "Argument 1 is not a list.\n",
    "\n",
    "Argument 2 is not a list.\n",
    "\n",
    "True\n",
    "\n",
    "True\n",
    "\n",
    "False"
   ]
  },
  {
   "cell_type": "markdown",
   "metadata": {
    "id": "AYzpDfdUWlYu"
   },
   "source": [
    "### 1.2 `match1()`\n",
    "For a pair of `(pat,lst)` that passes the test in `matchlelt()`, we still need the detailed pairing of variables and its corresponding paired string for further usage.\n",
    "\n",
    "For sucessful matchings:\n",
    "\n",
    "> pat=['I', 'am', '*_variable*' ]\n",
    "\n",
    "> lst=['I', 'am', 'happy']\n",
    "\n",
    "> Output : {'*_variable*': 'happy'}\n",
    "\n",
    "\n",
    "When `(pat,lst)` cannot be matched:\n",
    "\n",
    "\n",
    "> pat=['Are', 'you', '*_variable*' ]\n",
    "\n",
    "> lst=['I', 'am', 'happy']\n",
    "\n",
    "> Output : False\n",
    "\n",
    "\n",
    "If the matching succeeds, the returned value is a **dict** . However, it will return a **bool** (i.e. False) if  fails. Note that having a function that returns multiple types of data is not encouraged in common programming practices. In this case, we will pass a new argument called `pairs` to store the pairing results.\n",
    "\n",
    "Write a function called `match1()`, that:\n",
    "\n",
    "\n",
    "*   receives lists `pat, lst` and a dict `pairs`(to pass the obtained pairing the result in the recursion) as arguments \n",
    "*   return pairs, the obtained dictionary, if `(pat,lst)` can be matched. \n",
    "\n",
    "\n"
   ]
  },
  {
   "cell_type": "code",
   "execution_count": 17,
   "metadata": {
    "id": "4hQebhgiWkFs"
   },
   "outputs": [],
   "source": [
    "def match1(pat, lst, pairs):\n",
    "    \n",
    "    try:\n",
    "        if matchlelt(pat, lst):\n",
    "            for i in range(len(pat)):\n",
    "                if isvariable(pat[i]) or isvariable(lst[i]):\n",
    "                    tempDict = match_element(pat[i], lst[i])\n",
    "                    pairs.update(tempDict)\n",
    "            return pairs\n",
    "\n",
    "        else:\n",
    "            return False\n",
    "    except:\n",
    "        return False"
   ]
  },
  {
   "cell_type": "code",
   "execution_count": 18,
   "metadata": {},
   "outputs": [
    {
     "data": {
      "text/plain": [
       "{'_X': 'hi'}"
      ]
     },
     "execution_count": 18,
     "metadata": {},
     "output_type": "execute_result"
    }
   ],
   "source": [
    "match_element('_X', \"hi\")"
   ]
  },
  {
   "cell_type": "code",
   "execution_count": 19,
   "metadata": {},
   "outputs": [],
   "source": [
    "a = [['_X','x2'], [\"hi\",'x2']]\n",
    "\n"
   ]
  },
  {
   "cell_type": "markdown",
   "metadata": {
    "id": "jHp2PpB_xf6A"
   },
   "source": [
    "Test your function by running the cell below:"
   ]
  },
  {
   "cell_type": "code",
   "execution_count": 20,
   "metadata": {},
   "outputs": [
    {
     "name": "stdout",
     "output_type": "stream",
     "text": [
      "False\n"
     ]
    },
    {
     "data": {
      "text/plain": [
       "'hi'"
      ]
     },
     "execution_count": 20,
     "metadata": {},
     "output_type": "execute_result"
    }
   ],
   "source": [
    "a = ['hi','Ethan']\n",
    "b = [\"hi\",'_X']\n",
    "\n",
    "print(match_element(a[1:], b[1:]))\n",
    "\n",
    "a[0]\n",
    "\n",
    "#matchlelt(a, b)"
   ]
  },
  {
   "cell_type": "code",
   "execution_count": 21,
   "metadata": {
    "id": "UY4bHYjQxggq"
   },
   "outputs": [
    {
     "name": "stdout",
     "output_type": "stream",
     "text": [
      "{'_X': 'hi'}\n",
      "{'_name1': 'Alice', '_name2': 'Bob'}\n",
      "False\n",
      "False\n"
     ]
    }
   ],
   "source": [
    "\n",
    "print(match1(['_X','x2'],[\"hi\",'x2'],{}))\n",
    "print(match1(['My','name','is','_name1','His','name','is','_name2'],['My','name','is','Alice','His','name','is','Bob'],{}))\n",
    "print(match1(['_X','x2'],['hi','y2'],{}))\n",
    "print(match1(['are','you','good'],[],{}))"
   ]
  },
  {
   "cell_type": "code",
   "execution_count": 22,
   "metadata": {},
   "outputs": [
    {
     "name": "stdout",
     "output_type": "stream",
     "text": [
      "{'_X': 'Ethan'}\n"
     ]
    }
   ],
   "source": [
    "print(match1(['hi', '_X'], ['hi', 'Ethan'], {}))"
   ]
  },
  {
   "cell_type": "markdown",
   "metadata": {
    "id": "xMNw02qHxpB5"
   },
   "source": [
    "Expected output:\n",
    "\n",
    "{'_X': 'hi'}\n",
    "\n",
    "{'_name1': 'Alice', '_name2': 'Bob'}\n",
    "\n",
    "False\n",
    "\n",
    "False\n",
    "\n",
    "\n"
   ]
  },
  {
   "cell_type": "markdown",
   "metadata": {
    "id": "74XH8oy6ildt"
   },
   "source": [
    "### 1.2 `backtrack_match()`\n",
    "Note that seqvariables are used to denote that the variable may be mapped to a string sequence. It means that, seqvariables may stand for a long string, like 'Alice and Bob' instead of only 'Alice' for variables.\n",
    "\n",
    "Write a function called `backtrack_match()`, that:\n",
    "\n",
    "*   takes a group of arguments, `sv, x, y, sqce, pairs`. `sv` is the seqvariable 'S_X', `x` is what follows 'S_X' in the original list, `y` is the string list to be matched with `[sv,x]`, `sqce` is an empty list to store the resulted string in the recursion, `pairs` is used to store the pairing result.\n",
    "\n",
    "\n",
    "*   return the matched pair for `sv`.\n",
    "\n",
    "\n",
    "For example, to match `['S_X','are','you','good']` with `['Alice','and','Bob','are','you','good']`, here\n",
    "``` python\n",
    "sv = 'S_X'\n",
    "x =  ['are','you','good']\n",
    "y = ['Alice','and','Bob','are','you','good']\n",
    "sqce = []\n",
    "pairs = {}\n",
    "backtrack_match(sv,x,t,sqce,pairs)= {'S_X': 'Alice and Bob'}\n",
    "```\n",
    "\n",
    "All the test cases for this function should begin with a seqvariable."
   ]
  },
  {
   "cell_type": "code",
   "execution_count": 23,
   "metadata": {
    "id": "YoFXMytWxx24"
   },
   "outputs": [
    {
     "data": {
      "text/plain": [
       "'\\ndef backtrack_match(sv, x, y, sqce, pairs):\\n    \\n    if isseqvariable(sv):\\n        \\n        \\n        if matchlelt(x, y[-len(x):]):\\n        \\n            sqce = \" \".join(y[:-len(x)])\\n            pairs.update({sv: sqce})\\n        \\n            return pairs\\n        \\n        else:\\n            return False\\n'"
      ]
     },
     "execution_count": 23,
     "metadata": {},
     "output_type": "execute_result"
    }
   ],
   "source": [
    "'''\n",
    "def backtrack_match(sv, x, y, sqce, pairs):\n",
    "    \n",
    "    if isseqvariable(sv):\n",
    "        \n",
    "        \n",
    "        if matchlelt(x, y[-len(x):]):\n",
    "        \n",
    "            sqce = \" \".join(y[:-len(x)])\n",
    "            pairs.update({sv: sqce})\n",
    "        \n",
    "            return pairs\n",
    "        \n",
    "        else:\n",
    "            return False\n",
    "'''        \n",
    "        \n",
    "        "
   ]
  },
  {
   "cell_type": "code",
   "execution_count": 33,
   "metadata": {},
   "outputs": [],
   "source": [
    "def backtrack_match1(sv, pat, lst, sqce, pairs):\n",
    "    pairs[sv] = \" \".join(sqce)\n",
    "    if match1(pat, lst, pairs):\n",
    "        return True\n",
    "    \n",
    "def backtrack_match(sv, pat, lst, sqce, pairs):\n",
    "    if not(pat):\n",
    "        newstring = \" \".join(lst)\n",
    "        pairs[sv] = newstring\n",
    "        \n",
    "    elif not(lst):\n",
    "        return False\n",
    "    \n",
    "    elif backtrack_match1(sv, pat, lst[1:], match_append(sqce, lst[0]), pairs):\n",
    "        pairs[sv] = \" \".join(sqce)\n",
    "    \n",
    "    else:\n",
    "        return backtrack_match(sv, pat, lst[1:], sqce, pairs)\n",
    "    \n",
    "    return pairs\n",
    "    \n",
    "    \n",
    "def match_append(sqce, x):\n",
    "    sqce.append(x)\n",
    "    return sqce"
   ]
  },
  {
   "cell_type": "code",
   "execution_count": 34,
   "metadata": {},
   "outputs": [
    {
     "data": {
      "text/plain": [
       "True"
      ]
     },
     "execution_count": 34,
     "metadata": {},
     "output_type": "execute_result"
    }
   ],
   "source": [
    "matchlelt(['are','you','good'], ['are','you','good'])"
   ]
  },
  {
   "cell_type": "code",
   "execution_count": null,
   "metadata": {},
   "outputs": [],
   "source": []
  },
  {
   "cell_type": "markdown",
   "metadata": {
    "id": "X8uDudgWx8TZ"
   },
   "source": [
    "Test your function by running the cell below:"
   ]
  },
  {
   "cell_type": "code",
   "execution_count": 39,
   "metadata": {
    "id": "VSz_NEBYi7Ga"
   },
   "outputs": [
    {
     "name": "stdout",
     "output_type": "stream",
     "text": [
      "{'S_X': 'Alice and Bob'}\n",
      "False\n"
     ]
    }
   ],
   "source": [
    "print(backtrack_match('S_X',['are','you','good'],['Alice','and','Bob','are','you','good'],[],{}))\n",
    "print(backtrack_match('S_X',['are','you','good'],['Alice','and','Bob','are','you','ok'],[],{}))\n"
   ]
  },
  {
   "cell_type": "markdown",
   "metadata": {
    "id": "07EdMa6OioFy"
   },
   "source": [
    "Expected Output:\n",
    "\n",
    "{'S_X': 'Alice and Bob'}\n",
    "\n",
    "False"
   ]
  },
  {
   "cell_type": "markdown",
   "metadata": {
    "id": "k6FQuvifZha8"
   },
   "source": [
    "### 1.3 `match2()` and `match()`\n",
    "\n",
    "\n",
    "Based on `match1()`, write a function called `match2()`, which handles both variables and seqvariables, and returns all the pairing results. \n",
    "\n",
    "*   `match2()` takes arguments `(pat,lst, pairs)`\n",
    "*   `match2()` returns the final pairing dictionary, `pairs`\n",
    "*   `match2()` returns `False` if the matching failed.\n",
    "\n",
    "And write a function called `match()`:\n",
    "*   `match()` takes arguments `(pat,lst)`\n",
    "*   Initialize `pairs` as an emtpy dict\n",
    "*   Call `match1` with `(pat,lst,pairs)` and start the recursion\n"
   ]
  },
  {
   "cell_type": "code",
   "execution_count": 49,
   "metadata": {
    "id": "yjFdVrzsxan0"
   },
   "outputs": [],
   "source": [
    "def match2(pat, lst, pairs):\n",
    "    \n",
    "    #This returns the pairs that are normal variables.\n",
    "    \n",
    "    if match1(pat, lst, pairs):\n",
    "        pairs.update(match1(pat, lst, pairs))\n",
    "    \n",
    "    \n",
    "    #Check this condition\n",
    "    if backtrack_match(pat, lst, pairs):\n",
    "        pairs.update(backtrack_match(pat, lst, pairs))\n",
    "\n",
    "    \n",
    "def seqVariable(pat, lst, pairs):\n",
    "    \n",
    "    #If it can find seq variable already\n",
    "    if backtrack_match(pat, lst, pairs):\n",
    "        pairs.update(backtrack_match)\n",
    "    \n",
    "    elif (len(pat) == 0) or (len(lst) == 0) and len(pairs) == 0: \n",
    "        return False\n",
    "        \n",
    "    else:\n",
    "        return backtrack_match(pat[:-1], lst[:-1], pairs) \n",
    "\n",
    "    return pairs\n",
    "\n",
    "\n",
    "\n",
    "def match(pat, lst):\n",
    "    pairs = {}\n",
    "    \n",
    "    if match1(pat, lst, pairs):\n",
    "        pairs.update(match1(pat, lst, pairs))\n",
    "        \n",
    "    if seqVariable(pat, lst, pairs) == False:\n",
    "        pairs.update(seqVariable(pat, lst, pairs))    \n",
    "    \n",
    "    return pairs\n",
    "    \n",
    "\n",
    "\n",
    "    \n",
    "    "
   ]
  },
  {
   "cell_type": "code",
   "execution_count": 46,
   "metadata": {},
   "outputs": [
    {
     "data": {
      "text/plain": [
       "[1, 2, 3]"
      ]
     },
     "execution_count": 46,
     "metadata": {},
     "output_type": "execute_result"
    }
   ],
   "source": [
    "a =[1, 2, 3, 4, 5]\n",
    "b = a[:-1]\n",
    "\n",
    "b[:-1]\n",
    "\n"
   ]
  },
  {
   "cell_type": "markdown",
   "metadata": {
    "id": "THszytLlgOeE"
   },
   "source": [
    "Test your function by running the cell below:"
   ]
  },
  {
   "cell_type": "code",
   "execution_count": 50,
   "metadata": {
    "id": "WjPQBdVMgRSU"
   },
   "outputs": [
    {
     "ename": "TypeError",
     "evalue": "backtrack_match() missing 2 required positional arguments: 'sqce' and 'pairs'",
     "output_type": "error",
     "traceback": [
      "\u001b[1;31m---------------------------------------------------------------------------\u001b[0m",
      "\u001b[1;31mTypeError\u001b[0m                                 Traceback (most recent call last)",
      "\u001b[1;32m~\\AppData\\Local\\Temp/ipykernel_13400/1252164293.py\u001b[0m in \u001b[0;36m<module>\u001b[1;34m\u001b[0m\n\u001b[1;32m----> 1\u001b[1;33m \u001b[0mprint\u001b[0m\u001b[1;33m(\u001b[0m\u001b[0mmatch\u001b[0m\u001b[1;33m(\u001b[0m\u001b[1;33m[\u001b[0m\u001b[1;34m'my'\u001b[0m\u001b[1;33m,\u001b[0m\u001b[1;34m'_X'\u001b[0m\u001b[1;33m,\u001b[0m \u001b[1;34m'thinks'\u001b[0m\u001b[1;33m,\u001b[0m \u001b[1;34m'i'\u001b[0m\u001b[1;33m,\u001b[0m \u001b[1;34m'am'\u001b[0m\u001b[1;33m,\u001b[0m \u001b[1;34m'_y'\u001b[0m\u001b[1;33m]\u001b[0m\u001b[1;33m,\u001b[0m\u001b[1;33m[\u001b[0m\u001b[1;34m'my'\u001b[0m\u001b[1;33m,\u001b[0m\u001b[1;34m'teacher'\u001b[0m\u001b[1;33m,\u001b[0m \u001b[1;34m'thinks'\u001b[0m\u001b[1;33m,\u001b[0m \u001b[1;34m'i'\u001b[0m\u001b[1;33m,\u001b[0m \u001b[1;34m'am'\u001b[0m\u001b[1;33m,\u001b[0m \u001b[1;34m'excellent'\u001b[0m\u001b[1;33m]\u001b[0m\u001b[1;33m)\u001b[0m\u001b[1;33m)\u001b[0m\u001b[1;33m\u001b[0m\u001b[1;33m\u001b[0m\u001b[0m\n\u001b[0m\u001b[0;32m      2\u001b[0m \u001b[0mprint\u001b[0m\u001b[1;33m(\u001b[0m\u001b[0mmatch\u001b[0m\u001b[1;33m(\u001b[0m\u001b[1;33m[\u001b[0m\u001b[1;34m'i'\u001b[0m\u001b[1;33m,\u001b[0m \u001b[1;34m'feel'\u001b[0m\u001b[1;33m,\u001b[0m \u001b[1;34m'S_X'\u001b[0m\u001b[1;33m,\u001b[0m\u001b[1;34m'now'\u001b[0m\u001b[1;33m]\u001b[0m\u001b[1;33m,\u001b[0m\u001b[1;33m[\u001b[0m\u001b[1;34m'i'\u001b[0m\u001b[1;33m,\u001b[0m \u001b[1;34m'feel'\u001b[0m\u001b[1;33m,\u001b[0m \u001b[1;34m'cheerful'\u001b[0m\u001b[1;33m,\u001b[0m\u001b[1;34m'and'\u001b[0m\u001b[1;33m,\u001b[0m\u001b[1;34m'excited'\u001b[0m\u001b[1;33m,\u001b[0m\u001b[1;34m'now'\u001b[0m\u001b[1;33m]\u001b[0m\u001b[1;33m)\u001b[0m\u001b[1;33m)\u001b[0m\u001b[1;33m\u001b[0m\u001b[1;33m\u001b[0m\u001b[0m\n\u001b[0;32m      3\u001b[0m \u001b[0mprint\u001b[0m\u001b[1;33m(\u001b[0m\u001b[0mmatch\u001b[0m\u001b[1;33m(\u001b[0m\u001b[1;33m[\u001b[0m\u001b[1;34m'i'\u001b[0m\u001b[1;33m,\u001b[0m \u001b[1;34m'feel'\u001b[0m\u001b[1;33m,\u001b[0m \u001b[1;34m'S_X'\u001b[0m\u001b[1;33m,\u001b[0m\u001b[1;34m'now'\u001b[0m\u001b[1;33m]\u001b[0m\u001b[1;33m,\u001b[0m\u001b[1;33m[\u001b[0m\u001b[1;34m'i'\u001b[0m\u001b[1;33m,\u001b[0m \u001b[1;34m'feel'\u001b[0m\u001b[1;33m,\u001b[0m \u001b[1;34m'cheerful'\u001b[0m\u001b[1;33m,\u001b[0m\u001b[1;34m'and'\u001b[0m\u001b[1;33m,\u001b[0m\u001b[1;34m'excited'\u001b[0m\u001b[1;33m,\u001b[0m\u001b[1;34m'now'\u001b[0m\u001b[1;33m,\u001b[0m\u001b[1;34m'x'\u001b[0m\u001b[1;33m]\u001b[0m\u001b[1;33m)\u001b[0m\u001b[1;33m)\u001b[0m\u001b[1;33m\u001b[0m\u001b[1;33m\u001b[0m\u001b[0m\n",
      "\u001b[1;32m~\\AppData\\Local\\Temp/ipykernel_13400/3534531273.py\u001b[0m in \u001b[0;36mmatch\u001b[1;34m(pat, lst)\u001b[0m\n\u001b[0;32m     34\u001b[0m         \u001b[0mpairs\u001b[0m\u001b[1;33m.\u001b[0m\u001b[0mupdate\u001b[0m\u001b[1;33m(\u001b[0m\u001b[0mmatch1\u001b[0m\u001b[1;33m(\u001b[0m\u001b[0mpat\u001b[0m\u001b[1;33m,\u001b[0m \u001b[0mlst\u001b[0m\u001b[1;33m,\u001b[0m \u001b[0mpairs\u001b[0m\u001b[1;33m)\u001b[0m\u001b[1;33m)\u001b[0m\u001b[1;33m\u001b[0m\u001b[1;33m\u001b[0m\u001b[0m\n\u001b[0;32m     35\u001b[0m \u001b[1;33m\u001b[0m\u001b[0m\n\u001b[1;32m---> 36\u001b[1;33m     \u001b[1;32mif\u001b[0m \u001b[0mseqVariable\u001b[0m\u001b[1;33m(\u001b[0m\u001b[0mpat\u001b[0m\u001b[1;33m,\u001b[0m \u001b[0mlst\u001b[0m\u001b[1;33m,\u001b[0m \u001b[0mpairs\u001b[0m\u001b[1;33m)\u001b[0m \u001b[1;33m==\u001b[0m \u001b[1;32mFalse\u001b[0m\u001b[1;33m:\u001b[0m\u001b[1;33m\u001b[0m\u001b[1;33m\u001b[0m\u001b[0m\n\u001b[0m\u001b[0;32m     37\u001b[0m         \u001b[0mpairs\u001b[0m\u001b[1;33m.\u001b[0m\u001b[0mupdate\u001b[0m\u001b[1;33m(\u001b[0m\u001b[0mseqVariable\u001b[0m\u001b[1;33m(\u001b[0m\u001b[0mpat\u001b[0m\u001b[1;33m,\u001b[0m \u001b[0mlst\u001b[0m\u001b[1;33m,\u001b[0m \u001b[0mpairs\u001b[0m\u001b[1;33m)\u001b[0m\u001b[1;33m)\u001b[0m\u001b[1;33m\u001b[0m\u001b[1;33m\u001b[0m\u001b[0m\n\u001b[0;32m     38\u001b[0m \u001b[1;33m\u001b[0m\u001b[0m\n",
      "\u001b[1;32m~\\AppData\\Local\\Temp/ipykernel_13400/3534531273.py\u001b[0m in \u001b[0;36mseqVariable\u001b[1;34m(pat, lst, pairs)\u001b[0m\n\u001b[0;32m     15\u001b[0m \u001b[1;33m\u001b[0m\u001b[0m\n\u001b[0;32m     16\u001b[0m     \u001b[1;31m#If it can find seq variable already\u001b[0m\u001b[1;33m\u001b[0m\u001b[1;33m\u001b[0m\u001b[0m\n\u001b[1;32m---> 17\u001b[1;33m     \u001b[1;32mif\u001b[0m \u001b[0mbacktrack_match\u001b[0m\u001b[1;33m(\u001b[0m\u001b[0mpat\u001b[0m\u001b[1;33m,\u001b[0m \u001b[0mlst\u001b[0m\u001b[1;33m,\u001b[0m \u001b[0mpairs\u001b[0m\u001b[1;33m)\u001b[0m\u001b[1;33m:\u001b[0m\u001b[1;33m\u001b[0m\u001b[1;33m\u001b[0m\u001b[0m\n\u001b[0m\u001b[0;32m     18\u001b[0m         \u001b[0mpairs\u001b[0m\u001b[1;33m.\u001b[0m\u001b[0mupdate\u001b[0m\u001b[1;33m(\u001b[0m\u001b[0mbacktrack_match\u001b[0m\u001b[1;33m)\u001b[0m\u001b[1;33m\u001b[0m\u001b[1;33m\u001b[0m\u001b[0m\n\u001b[0;32m     19\u001b[0m \u001b[1;33m\u001b[0m\u001b[0m\n",
      "\u001b[1;31mTypeError\u001b[0m: backtrack_match() missing 2 required positional arguments: 'sqce' and 'pairs'"
     ]
    }
   ],
   "source": [
    "print(match(['my','_X', 'thinks', 'i', 'am', '_y'],['my','teacher', 'thinks', 'i', 'am', 'excellent']))\n",
    "print(match(['i', 'feel', 'S_X','now'],['i', 'feel', 'cheerful','and','excited','now']))\n",
    "print(match(['i', 'feel', 'S_X','now'],['i', 'feel', 'cheerful','and','excited','now','x']))"
   ]
  },
  {
   "cell_type": "markdown",
   "metadata": {
    "id": "8nmNOCtlhNoz"
   },
   "source": [
    "Expected Output:\n",
    "\n",
    "{'_X': 'teacher', '_y': 'excellent'}\n",
    "\n",
    "{'S_X': 'cheerful and excited'}\n",
    "\n",
    "False"
   ]
  },
  {
   "cell_type": "markdown",
   "metadata": {
    "id": "nQSuZVIcvD9S"
   },
   "source": [
    "\n",
    "\n",
    "## Step 2. Mutation Functions\n",
    "\n",
    "\n",
    "\n",
    "\n"
   ]
  },
  {
   "cell_type": "markdown",
   "metadata": {
    "id": "BOmq3p7Z6ANI"
   },
   "source": [
    "### 2.1 Bounding function\n",
    "Now we have a dictionary of all the variables and their corresponding values. Write a function called `bound_to()`. Given a dictionary and the desired variable `x`, or seqvariable `S_X`,  `bound_to()`will return its corresponding value in the dictionary.\n"
   ]
  },
  {
   "cell_type": "code",
   "execution_count": null,
   "metadata": {
    "id": "m9zTNOZNbgAD"
   },
   "outputs": [],
   "source": [
    "def bound_to(variable_wanted, final_dict):\n",
    "    \n",
    "    if variable_wanted in final_dict:\n",
    "        return final_dict[variable_wanted]\n",
    "    else:\n",
    "        return False\n",
    "    \n",
    "    "
   ]
  },
  {
   "cell_type": "markdown",
   "metadata": {
    "id": "f84nM7VZbmzF"
   },
   "source": [
    "Test your function by running the cell below:"
   ]
  },
  {
   "cell_type": "code",
   "execution_count": null,
   "metadata": {
    "id": "LmT901txbmSM"
   },
   "outputs": [],
   "source": [
    "print(bound_to('_name1',{'_name1': 'Alice', '_name2':'Bob'}))\n",
    "print(bound_to('_name2',{'_name1': 'Alice', '_name2':'Bob'}))\n",
    "print(bound_to('_name3',{'_name1': 'Alice', '_name2':'Bob'}))\n",
    "print(bound_to('S_X',{'_name1': 'Alice', '_name2':'Bob','S_X':'Alice and Bob'}))"
   ]
  },
  {
   "cell_type": "markdown",
   "metadata": {
    "id": "aem-nd4dc9Nr"
   },
   "source": [
    "Expected Output:\n",
    "\n",
    "Alice\n",
    "\n",
    "Bob\n",
    "\n",
    "False\n",
    "\n",
    "Alice and Bob\n",
    "\n",
    "### 2.2 Substitution Function\n",
    "\n",
    "With `bound_to()`, write a function called `substitute()`, which takes a list and a dictionary as its arguments. `substitute()` look for the value of each variable in the list, and replace it with the value stored in the dictionary."
   ]
  },
  {
   "cell_type": "code",
   "execution_count": null,
   "metadata": {
    "id": "srbHwxMRbSnk"
   },
   "outputs": [],
   "source": [
    "def substitute(x_list, final_dict):\n",
    "    \n",
    "    for i in range(len(x_list)):\n",
    "        if bound_to(x_list[i], final_dict) != False:\n",
    "            x_list[i] = bound_to(x_list[i], final_dict)\n",
    "    \n",
    "    return x_list"
   ]
  },
  {
   "cell_type": "markdown",
   "metadata": {
    "id": "v7IWzfhRdO6K"
   },
   "source": [
    "Test your function by running the cell below:"
   ]
  },
  {
   "cell_type": "code",
   "execution_count": null,
   "metadata": {},
   "outputs": [],
   "source": []
  },
  {
   "cell_type": "code",
   "execution_count": null,
   "metadata": {
    "id": "rNFuomimdPR6"
   },
   "outputs": [],
   "source": [
    "print(substitute(['My','name','is','_name1'],{'_name1': 'Alice', '_name2':'Bob'}))\n",
    "print(substitute(['Our','name','is','S_X'],{'_name1': 'Alice', '_name2':'Bob','S_X':'Alice and Bob'}))"
   ]
  },
  {
   "cell_type": "markdown",
   "metadata": {
    "id": "_nwfO51Xdi3B"
   },
   "source": [
    "Expected Output:\n",
    "\n",
    "['My', 'name', 'is', 'Alice']\n",
    "\n",
    "['Our', 'name', 'is', 'Alice and Bob']\n"
   ]
  },
  {
   "cell_type": "markdown",
   "metadata": {
    "id": "-uLOW8FgDKGW"
   },
   "source": [
    "## Step 3. Rule Functions\n",
    "\n",
    " \n",
    "We would like to include some **rules** for our chatbot. A rule consists of a predefined **pattern** and a **response**. Take the following chat as an example:\n",
    "\n",
    "> <ins>User input</ins>: I feel unhappy.\n",
    "\n",
    "> <ins>Chatboot Output</ins>: Why do you think you feel unhappy ?\n",
    "\n",
    "\n",
    "In the example above, we can write the `[pattern]` and `[response]` as:\n",
    "\n",
    "> <ins>Pattern</ins> : I feel S_X\n",
    "\n",
    "> <ins>Response</ins>: Why do you think you feel S_X ?\n",
    "\n",
    "Recall that the S_X here stands for a seqvariable.\n",
    "\n"
   ]
  },
  {
   "cell_type": "markdown",
   "metadata": {
    "id": "yqNYyl2tIo7l"
   },
   "source": [
    "\n",
    "### 3.1 `isrule(), lhs(), rhs()`\n",
    "\n",
    "A **rule** is defined as:\n",
    "\n",
    "``` python\n",
    "r = ['rule', id, [pattern], [response]]\n",
    "```\n",
    "\n"
   ]
  },
  {
   "cell_type": "markdown",
   "metadata": {
    "id": "xdzhMOqs6ANL"
   },
   "source": [
    "#### 3.1.1 Write a bool function called `isrule()` that checks if the argument satisfies the definition of a rule:\n",
    "\n",
    "The function will take a rule as an argument, and return True if the first element is the string ‘rule’, and if the third and fourth elements are lists. Otherwise, it should return False."
   ]
  },
  {
   "cell_type": "code",
   "execution_count": null,
   "metadata": {
    "id": "qYgbHL7Q_frd"
   },
   "outputs": [],
   "source": [
    "def isrule(listGiven):\n",
    "    \n",
    "    \n",
    "    if len(listGiven) == 4 and listGiven[0] == 'rule' and isinstance(listGiven[2], list) and isinstance(listGiven[3], list):\n",
    "        return True\n",
    "    else:\n",
    "        return False\n",
    "    \n",
    "    "
   ]
  },
  {
   "cell_type": "markdown",
   "metadata": {
    "id": "n3DIPp7k_ha2"
   },
   "source": [
    "Test your function by running the cell below:"
   ]
  },
  {
   "cell_type": "code",
   "execution_count": null,
   "metadata": {
    "id": "KPDqhAQ__gxV"
   },
   "outputs": [],
   "source": [
    "r1 = ['rule',1, ['my','_X', 'thinks', 'i', 'am', '_y'], ['Do you think you are', '_y', '?']]\n",
    "r2 = ['']\n",
    "r3 = []\n",
    "r4 = ['rule',1,'x',['Do you think you are', '_y', '?']]\n",
    "r5 = ['rule',1,5,['Do you think you are', '_y', '?']]\n",
    "\n",
    "\n",
    "\n",
    "print(isrule(r1))\n",
    "print(isrule(r2))\n",
    "print(isrule(r3))\n",
    "print(isrule(r4))\n",
    "print(isrule(r5))"
   ]
  },
  {
   "cell_type": "markdown",
   "metadata": {
    "id": "5t4stJXzABEF"
   },
   "source": [
    "Expected Output:\n",
    "\n",
    "True\n",
    "\n",
    "False\n",
    "\n",
    "False\n",
    "\n",
    "False\n",
    "\n",
    "False"
   ]
  },
  {
   "cell_type": "markdown",
   "metadata": {
    "id": "I4G40Sym6ANM"
   },
   "source": [
    "#### 3.1.2 Add a function called `lhs` that takes a rule as an argument and returns the left hand side of the rule, i.e. `pattern`"
   ]
  },
  {
   "cell_type": "code",
   "execution_count": null,
   "metadata": {
    "id": "ywjZxR4s6ANN"
   },
   "outputs": [],
   "source": [
    "def lhs(rule):\n",
    "    if isrule(rule):\n",
    "        return rule[2]"
   ]
  },
  {
   "cell_type": "markdown",
   "metadata": {
    "id": "TuYSxVge6ANN"
   },
   "source": [
    "Test your function by running the cell below:"
   ]
  },
  {
   "cell_type": "code",
   "execution_count": null,
   "metadata": {
    "id": "mlKGRAgV6ANN"
   },
   "outputs": [],
   "source": [
    "print(lhs(r1))"
   ]
  },
  {
   "cell_type": "markdown",
   "metadata": {
    "id": "z9zKICCS6ANN"
   },
   "source": [
    "Expected Output:\n",
    "    \n",
    "['my', '_X', 'thinks', 'i', 'am', '_y']"
   ]
  },
  {
   "cell_type": "markdown",
   "metadata": {
    "id": "ia6oFpSU6ANO"
   },
   "source": [
    "#### 3.1.3 Add a function called `rhs` that takes a rule as an argument and returns the right hand side of the rule, i.e. `response`"
   ]
  },
  {
   "cell_type": "code",
   "execution_count": null,
   "metadata": {
    "id": "svWUAAo46ANO"
   },
   "outputs": [],
   "source": [
    "def rhs(rule):\n",
    "    if isrule(rule):\n",
    "        return rule[3]"
   ]
  },
  {
   "cell_type": "markdown",
   "metadata": {
    "id": "QLdPcR2l6ANO"
   },
   "source": [
    "Test your function by running the cell below:"
   ]
  },
  {
   "cell_type": "code",
   "execution_count": null,
   "metadata": {
    "id": "uD0O0un-6ANO"
   },
   "outputs": [],
   "source": [
    "print(rhs(r1))"
   ]
  },
  {
   "cell_type": "markdown",
   "metadata": {
    "id": "9uOvvt-M6ANO"
   },
   "source": [
    "Expected Output:\n",
    "    \n",
    "['Do you think you are', '_y', '?']"
   ]
  },
  {
   "cell_type": "markdown",
   "metadata": {
    "id": "sdrTgx3lEv7z"
   },
   "source": [
    "### 3.2 `fire_rule()`\n",
    "\n",
    "Write a function called `fire_rule()`, that takes the `pattern`, the desired `response`, and the variable dictionary as arguments\n",
    "\n",
    "\n",
    "*   Return the final response with all the variables replaced by its value\n",
    "\n"
   ]
  },
  {
   "cell_type": "code",
   "execution_count": null,
   "metadata": {
    "id": "anBX_y2zHzfs"
   },
   "outputs": [],
   "source": [
    "def fire_rule(pattern, response, final_dict):\n",
    "    \n",
    "    return substitute(response, final_dict)"
   ]
  },
  {
   "cell_type": "markdown",
   "metadata": {
    "id": "4DkcGke1ICPs"
   },
   "source": [
    "Test your function by running the cell below:"
   ]
  },
  {
   "cell_type": "code",
   "execution_count": null,
   "metadata": {
    "id": "UQCIVmyBIGaj"
   },
   "outputs": [],
   "source": [
    "print(fire_rule(['My','name','is','_name1','He','is','Bob'],['Hello','_name1','and','_name2'],{'_name1':'Alice','_name2':'Bob'}))\n",
    "print(fire_rule(['Our','name','is','S_X'],['Hello','S_X'],{'S_X':'Alice and Bob'}))"
   ]
  },
  {
   "cell_type": "markdown",
   "metadata": {
    "id": "mPnOnmb_is9b"
   },
   "source": [
    "Expected Output:\n",
    "\n",
    "['Hello', 'Alice', 'and', 'Bob']\n",
    "\n",
    "['Hello', 'Alice and Bob']\n"
   ]
  },
  {
   "cell_type": "markdown",
   "metadata": {
    "id": "mokVQv8MEup8"
   },
   "source": [
    "### 3.3 `apply_rule()` \n",
    "\n",
    "Wrtie a function called `apply_rule`, that:\n",
    "\n",
    "\n",
    "*   takes the user input `pat`, and the defined rule `rule` as arguments\n",
    "*   returns the final response as defined in `rule`, if the rule can be applied to `pat`\n",
    "\n"
   ]
  },
  {
   "cell_type": "code",
   "execution_count": null,
   "metadata": {
    "id": "TT3bMR_3lp9X"
   },
   "outputs": [],
   "source": [
    "def apply_rule(pat, rule):\n",
    "    "
   ]
  },
  {
   "cell_type": "markdown",
   "metadata": {
    "id": "x9SuU9P8LEU0"
   },
   "source": [
    "Test your function by running the cell below:"
   ]
  },
  {
   "cell_type": "code",
   "execution_count": null,
   "metadata": {
    "id": "L7fQixMjrPD6"
   },
   "outputs": [],
   "source": [
    "r1 = ['rule', 1, ['my','_X', 'thinks', 'i', 'am', '_y'], ['Do you think you are', '_y', '?']]\n",
    "r2 = ['rule', 2, ['S_X', 'thinks', 'i', 'am', '_y'], ['Do you think you are', '_y', '?']]\n",
    "r3 = ['rule', 3, ['i', 'feel', 'S_X'], ['Why do you think you feel', 'S_X', '?']]\n",
    "print(apply_rule(['my','teacher', 'thinks', 'i', 'am', 'excellent'],r1))\n",
    "print(apply_rule(['Alice','and','Bob','thinks', 'i', 'am', 'outgoing'],r2))\n",
    "print(apply_rule(['i', 'feel', 'cheerful', 'and','excited'],r3))\n"
   ]
  },
  {
   "cell_type": "markdown",
   "metadata": {
    "id": "XE0hZHHCrSZQ"
   },
   "source": [
    "Expected Output:\n",
    "\n",
    "['Do you think you are', 'excellent', '?']\n",
    "\n",
    "['Do you think you are', 'outgoing', '?']\n",
    "\n",
    "['Why do you think you feel', 'cheerful and excited', '?']"
   ]
  },
  {
   "cell_type": "markdown",
   "metadata": {
    "id": "bXRDH7FktlH7"
   },
   "source": [
    "### 3.4 `apply_rules()`\n",
    "\n",
    "Write a function called `apply_rules`, that:\n",
    "\n",
    "*   takes a list of rules, and the user input as its arguments\n",
    "*   returns the response if any of the rules can be applied to the user input sentence.\n",
    "\n"
   ]
  },
  {
   "cell_type": "code",
   "execution_count": null,
   "metadata": {
    "id": "IL7qK7c3rNHz"
   },
   "outputs": [],
   "source": []
  },
  {
   "cell_type": "markdown",
   "metadata": {
    "id": "l0G84uHAuii7"
   },
   "source": [
    "Test your function by running the cell below:"
   ]
  },
  {
   "cell_type": "code",
   "execution_count": null,
   "metadata": {
    "id": "UXPIdWPiLHfL"
   },
   "outputs": [],
   "source": [
    "r1 = ['rule', 1, ['my','_X', 'thinks', 'i', 'am', '_y'], ['Do you think you are', '_y', '?']]\n",
    "r2 = ['rule', 2, ['S_X', 'thinks', 'i', 'am', '_y'], ['Do you think you are', '_y', '?']]\n",
    "r3 = ['rule', 3, ['i', 'feel', 'S_X'], ['Why do you think you feel', 'S_X', '?']]\n",
    "r4 = ['rule', 4, ['_X', 'are', 'all', '_y'], ['In what way?']]\n",
    "r5 = ['rule', 5, ['they', 'are', 'always', 'S_Z'], ['Can you think of a specific example?']]\n",
    "r6 = ['rule', 6, ['my', '_X', 'made', 'me', 'S_X'], ['Your','_X', 'made you','S_X']]\n",
    "rule_lst = [r1, r2, r3, r4, r5, r6]\n",
    "\n",
    "print(apply_rules('hello world'.lower().split(), rule_lst))\n",
    "print(apply_rules('my dog made me happpy'.lower().split(), rule_lst))\n",
    "print(apply_rules('I feel cheerful and excited now'.lower().split(), rule_lst))"
   ]
  },
  {
   "cell_type": "markdown",
   "metadata": {
    "id": "EQW-mbJYuyqS"
   },
   "source": [
    "Expected Output:\n",
    "\n",
    "No rules appliable\n",
    "\n",
    "Your dog made you happpy\n",
    "\n",
    "Why do you think you feel cheerful and excited now ?"
   ]
  },
  {
   "cell_type": "markdown",
   "metadata": {
    "id": "VrHjzfn2fyzP"
   },
   "source": [
    "# Rules definition"
   ]
  },
  {
   "cell_type": "markdown",
   "metadata": {
    "id": "NYDsvOo3DTvy"
   },
   "source": [
    "You can define your transformation rules for your chatbot here. Feel free to add your own rules to the chatbot to make it more intelligent!"
   ]
  },
  {
   "cell_type": "code",
   "execution_count": null,
   "metadata": {
    "id": "rB398RkO96B2"
   },
   "outputs": [],
   "source": [
    "# r0 = ['rule', id, [pattern], [response]]\n",
    "\n",
    "r1 = ['rule', 1, ['my','_X', 'thinks', 'i', 'am', '_y'], ['Do you think you are', '_y', '?']]\n",
    "r2 = ['rule', 2, ['S_X', 'thinks', 'i', 'am', '_y'], ['Do you think you are', '_y', '?']]\n",
    "r3 = ['rule', 3, ['i', 'feel', 'S_X'], ['Why do you think you feel', 'S_X', '?']]\n",
    "r4 = ['rule', 4, ['_X', 'are', 'all', '_y'], ['In what way?']]\n",
    "r5 = ['rule', 5, ['they', 'are', 'always', 'S_Z'], ['Can you think of a specific example?']]\n",
    "r6 = ['rule', 6, ['my', '_X', 'made', 'me', 'S_X'], ['Your','_X', 'made you','S_X']]\n",
    "\n",
    "\n",
    "rule_lst = [r1, r2, r3, r4, r5, r6]"
   ]
  },
  {
   "cell_type": "markdown",
   "metadata": {
    "id": "H589_bRwrmCF"
   },
   "source": [
    "Try to transform any sentences with the rule list and the apply_rules() function defined above.\n",
    "\n",
    "Remember to convert all the letters into lowercase first using `.lower()` and split the sentence into a list using `.split()` ."
   ]
  },
  {
   "cell_type": "code",
   "execution_count": null,
   "metadata": {
    "id": "z1xsBfRTpP9q"
   },
   "outputs": [],
   "source": [
    "apply_rules()"
   ]
  },
  {
   "cell_type": "markdown",
   "metadata": {
    "id": "vMuv4lJhf16t"
   },
   "source": [
    "# Final exercise -- Eliza chatbot"
   ]
  },
  {
   "cell_type": "markdown",
   "metadata": {
    "id": "bt3LC1Oc6ANX"
   },
   "source": [
    "Finally, write the function for your Eliza chatbot, the function should take the rule list `rule_lst` as argument. \n",
    "\n",
    "The function should ask the user for the name first and greet the user using his/her name, then use a while loop to maintain a conversation. The while loop should be terminated when the `user_input` is \"stop\", otherwise use the `apply_rules()` function to generate a reply to the user given a `user_input`.\n",
    "\n",
    "\n",
    "Inside the function, you should define a list of default responses `default_responses`. If no rules are applicable, the chatbot should randomly pick a response from `default_responses` to reply the user, you can use `random.choice(default_responses)` to randomly pick the response.\n",
    "\n",
    "An example conversation with Eliza is given in the expected output below."
   ]
  },
  {
   "cell_type": "code",
   "execution_count": 31,
   "metadata": {
    "id": "MefhvTPi-LxK"
   },
   "outputs": [],
   "source": [
    "def eliza(rule_lst):\n",
    "    default_responses = [\"Sorry I don't understand\", \"Tell me more\", \"Go on\"]\n",
    "    fname = input(\"Please sign in with your first name\")\n",
    "    print(f'Hello {fname} Eliza will be with you shortly')\n",
    "    randtime = randrange(1, 5)\n",
    "    time1 = time()\n",
    "    while time() < time1 + randtime:\n",
    "        x = 1\n",
    "    \n",
    "    print(f\"Hello {fname}, this is Eliza. What do you want to talk about today\")\n",
    "    \n",
    "    user_input = input()\n",
    "    \n",
    "    while user_input != \"stop\" and num_inputs < 10:\n",
    "        num_inputs += 1\n",
    "        user_input = string.split(user_input)\n",
    "        resp = apply_rules(user_input, rule_lst)\n",
    "        if resp == \"\":\n",
    "            resp = default_response[randrange(0, 2)]\n",
    "        print(resp)\n",
    "        user_input = input()\n",
    "        \n",
    "    if user_input == \"stop\":\n",
    "        print(\"Your time is up\")\n",
    "        "
   ]
  },
  {
   "cell_type": "code",
   "execution_count": null,
   "metadata": {},
   "outputs": [],
   "source": []
  },
  {
   "cell_type": "markdown",
   "metadata": {
    "id": "dzEeU1pVDlCh"
   },
   "source": [
    "Call the \"eliza\" function to run the chatbot"
   ]
  },
  {
   "cell_type": "code",
   "execution_count": 32,
   "metadata": {
    "id": "8scZxxrR-ME1"
   },
   "outputs": [
    {
     "ename": "NameError",
     "evalue": "name 'rule_lst' is not defined",
     "output_type": "error",
     "traceback": [
      "\u001b[1;31m---------------------------------------------------------------------------\u001b[0m",
      "\u001b[1;31mNameError\u001b[0m                                 Traceback (most recent call last)",
      "\u001b[1;32m~\\AppData\\Local\\Temp/ipykernel_13400/1126732613.py\u001b[0m in \u001b[0;36m<module>\u001b[1;34m\u001b[0m\n\u001b[1;32m----> 1\u001b[1;33m \u001b[0meliza\u001b[0m\u001b[1;33m(\u001b[0m\u001b[0mrule_lst\u001b[0m\u001b[1;33m)\u001b[0m\u001b[1;33m\u001b[0m\u001b[1;33m\u001b[0m\u001b[0m\n\u001b[0m",
      "\u001b[1;31mNameError\u001b[0m: name 'rule_lst' is not defined"
     ]
    }
   ],
   "source": [
    "eliza(rule_lst)"
   ]
  },
  {
   "cell_type": "markdown",
   "metadata": {
    "id": "BrNMEhY76ANY"
   },
   "source": [
    "Expected output:\n",
    "\n",
    "`Please sign in with your first name: Mary\n",
    "Hello, Mary. This is Eliza. What do you want to talk about today?\n",
    "Men are all alike\n",
    "In what way?\n",
    "They are always bugging us about something or other\n",
    "Can you think of a specific example?\n",
    "My boyfriend made me come here\n",
    "Your boyfriend made you come here\n",
    "errrr.....\n",
    "Tell me more\n",
    "errrr.....\n",
    "Sorry I don't understand\n",
    "errr......\n",
    "Go on\n",
    "stop\n",
    "Goodbye!`\n",
    "\n"
   ]
  },
  {
   "cell_type": "code",
   "execution_count": null,
   "metadata": {
    "id": "JCpOle_U-vGd"
   },
   "outputs": [],
   "source": []
  }
 ],
 "metadata": {
  "colab": {
   "collapsed_sections": [],
   "name": "Eliza_chatbot(student_version).ipynb",
   "provenance": []
  },
  "kernelspec": {
   "display_name": "Python 3 (ipykernel)",
   "language": "python",
   "name": "python3"
  },
  "language_info": {
   "codemirror_mode": {
    "name": "ipython",
    "version": 3
   },
   "file_extension": ".py",
   "mimetype": "text/x-python",
   "name": "python",
   "nbconvert_exporter": "python",
   "pygments_lexer": "ipython3",
   "version": "3.9.7"
  }
 },
 "nbformat": 4,
 "nbformat_minor": 1
}
