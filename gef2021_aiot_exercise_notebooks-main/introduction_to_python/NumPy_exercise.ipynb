{
 "cells": [
  {
   "cell_type": "markdown",
   "metadata": {},
   "source": [
    "# Import required packages"
   ]
  },
  {
   "cell_type": "code",
   "execution_count": 1,
   "metadata": {
    "id": "Nx1ZIFazsDA9"
   },
   "outputs": [],
   "source": [
    "import numpy as np\n",
    "from matplotlib import pyplot as plt\n",
    "plt.style.use('seaborn')"
   ]
  },
  {
   "cell_type": "markdown",
   "metadata": {},
   "source": [
    "# Exercise 1"
   ]
  },
  {
   "cell_type": "code",
   "execution_count": 2,
   "metadata": {},
   "outputs": [
    {
     "name": "stdout",
     "output_type": "stream",
     "text": [
      "[1 2 3 4 5]\n",
      "[1 2 3 4]\n",
      "[1000    2    3    4    5]\n",
      "[1000    2    3    4]\n"
     ]
    }
   ],
   "source": [
    "a_array = np.array([1, 2, 3, 4, 5])\n",
    "\n",
    "#Up to 4, not including 1\n",
    "b_array = a_array[0:4]\n",
    "\n",
    "print(a_array)\n",
    "print(b_array)\n",
    "\n",
    "b_array[0] = 1000\n",
    "\n",
    "##Array affect each other\n",
    "\n",
    "print(a_array)\n",
    "print(b_array)"
   ]
  },
  {
   "cell_type": "code",
   "execution_count": 3,
   "metadata": {},
   "outputs": [
    {
     "name": "stdout",
     "output_type": "stream",
     "text": [
      "[1 2 3 4 5]\n",
      "[1000    2    3    4]\n"
     ]
    }
   ],
   "source": [
    "#You can duplicate inorder to not change each array that are related.\n",
    "copy = a_array.copy()\n",
    "copy[0] = 1\n",
    "\n",
    "print(copy)\n",
    "print(b_array)"
   ]
  },
  {
   "cell_type": "code",
   "execution_count": 4,
   "metadata": {},
   "outputs": [
    {
     "data": {
      "text/plain": [
       "array([[1],\n",
       "       [2],\n",
       "       [3],\n",
       "       [4],\n",
       "       [5]])"
      ]
     },
     "execution_count": 4,
     "metadata": {},
     "output_type": "execute_result"
    }
   ],
   "source": [
    "copy.reshape(5, 1)"
   ]
  },
  {
   "cell_type": "code",
   "execution_count": 5,
   "metadata": {},
   "outputs": [
    {
     "data": {
      "text/plain": [
       "array([ 0,  2,  4,  6,  8, 10])"
      ]
     },
     "execution_count": 5,
     "metadata": {},
     "output_type": "execute_result"
    }
   ],
   "source": [
    "#Not including last number\n",
    "np.arange(0, 11, 2)"
   ]
  },
  {
   "cell_type": "markdown",
   "metadata": {},
   "source": [
    "# Exercise 2"
   ]
  },
  {
   "cell_type": "code",
   "execution_count": 6,
   "metadata": {},
   "outputs": [
    {
     "name": "stdout",
     "output_type": "stream",
     "text": [
      "[1 2 3 4 5 6]\n",
      "(6,)\n"
     ]
    }
   ],
   "source": [
    "#Negative one is a unknown side \n",
    "\n",
    "x = np.arange(1, 7)\n",
    "x.reshape(-1, 2)\n",
    "print(x)\n",
    "print(x.shape)"
   ]
  },
  {
   "cell_type": "code",
   "execution_count": 7,
   "metadata": {},
   "outputs": [
    {
     "data": {
      "text/plain": [
       "array([[1, 2]])"
      ]
     },
     "execution_count": 7,
     "metadata": {},
     "output_type": "execute_result"
    }
   ],
   "source": [
    "#Can you try reshape(-1,2) on the arrays returned by np.arange(1,n) with\n",
    "#different values of n, where n is an integer?\n",
    "# What is the condition for n which no error is returned ?\n",
    "\n",
    "#### Condition is - the amount of elements must be even and has to be a natural number\n",
    "\n",
    "y = np.arange(1, 3)\n",
    "y.reshape(-1, 2)"
   ]
  },
  {
   "cell_type": "code",
   "execution_count": null,
   "metadata": {},
   "outputs": [],
   "source": []
  },
  {
   "cell_type": "code",
   "execution_count": null,
   "metadata": {},
   "outputs": [],
   "source": []
  },
  {
   "cell_type": "markdown",
   "metadata": {},
   "source": [
    "# Exercise 3"
   ]
  },
  {
   "cell_type": "code",
   "execution_count": 8,
   "metadata": {},
   "outputs": [
    {
     "name": "stdout",
     "output_type": "stream",
     "text": [
      "90.0\n",
      "1.5707963267948966\n"
     ]
    }
   ],
   "source": [
    "a = np.array([0, 1, 2])\n",
    "b = np.array([3, 0, 0])\n",
    "\n",
    "Numerator = np.dot(a, b)\n",
    "Denominator = np.dot(np.linalg.norm(a), np.linalg.norm(b))\n",
    "\n",
    "print(np.arccos(Numerator / Denominator) * 180/np.pi)\n",
    "\n",
    "#print(np.arccos(0))\n",
    "print(np.pi/2)\n",
    "\n"
   ]
  },
  {
   "cell_type": "code",
   "execution_count": null,
   "metadata": {},
   "outputs": [],
   "source": []
  },
  {
   "cell_type": "code",
   "execution_count": null,
   "metadata": {},
   "outputs": [],
   "source": []
  },
  {
   "cell_type": "code",
   "execution_count": null,
   "metadata": {},
   "outputs": [],
   "source": []
  },
  {
   "cell_type": "markdown",
   "metadata": {},
   "source": [
    "# Exercise 4 - Linear Regression Exercise"
   ]
  },
  {
   "cell_type": "markdown",
   "metadata": {},
   "source": [
    "## Simulation of mock data \n",
    "\n",
    "Suppose the independent variable $x$ and the response variable $y$ follow a linear relationship, i.e.:\n",
    "\n",
    "$$ y  = \\mathbf{\\beta}^\\top \\cdot \\mathbf{x} = \\beta_0 + \\beta_1 x$$\n",
    "\n",
    "where\n",
    "\n",
    "$$\n",
    "\\mathbf{\\beta}\n",
    "=\n",
    "\\begin{bmatrix} \n",
    "\\beta_0 \\\\\n",
    "\\beta_1\n",
    "\\end{bmatrix} \n",
    "\\text{     and,    } \n",
    "\\mathbf{x}\n",
    "=\n",
    "\\begin{bmatrix} \n",
    "1 \\\\\n",
    "x\n",
    "\\end{bmatrix} \n",
    "$$\n",
    "\n",
    "\n",
    "$\\beta_0$ is the intercept term and $\\beta_1$ is the slope term."
   ]
  },
  {
   "cell_type": "code",
   "execution_count": 9,
   "metadata": {},
   "outputs": [
    {
     "data": {
      "text/plain": [
       "'\\ny = mx + c\\nm is the gradient\\nc is the y-intercept\\n\\nso y = 𝛽1 * x + 𝛽0\\n'"
      ]
     },
     "execution_count": 9,
     "metadata": {},
     "output_type": "execute_result"
    }
   ],
   "source": [
    "'''\n",
    "y = mx + c\n",
    "m is the gradient\n",
    "c is the y-intercept\n",
    "\n",
    "so y = 𝛽1 * x + 𝛽0\n",
    "'''"
   ]
  },
  {
   "cell_type": "markdown",
   "metadata": {},
   "source": [
    "We want to create some mock data $(X,Y)$ of $N=1000$ data points with certain amount of Gaussian noise $\\epsilon \\sim \\mathcal{N} (0,1) $.\n",
    "\n",
    "\n",
    "Where \n",
    "\n",
    "$$\n",
    "X\n",
    "=\n",
    "\\begin{bmatrix}\n",
    "\\mathbf{x_1}, \n",
    "\\mathbf{x_2}, \n",
    "\\cdots,\n",
    "\\mathbf{x_N}\n",
    "\\end{bmatrix}\n",
    "=\n",
    "\\begin{bmatrix}\n",
    "1 & 1& & 1\\\\\n",
    "& &\\cdots &\\\\\n",
    "x_1 & x_2& & x_N\n",
    "\\end{bmatrix}\n",
    "\\text{         and ,     }\n",
    "Y\n",
    "=\n",
    "\\begin{bmatrix}\n",
    "y_1,\n",
    "y_2,\n",
    "\\cdots,\n",
    "y_N\n",
    "\\end{bmatrix}\n",
    "$$\n",
    "\n",
    "\n"
   ]
  },
  {
   "cell_type": "markdown",
   "metadata": {},
   "source": [
    "and\n",
    "\n",
    "$$ y_i = \\mathbf{\\beta}^\\top \\cdot \\mathbf{x}_i + \\epsilon_i = \\beta_0 + \\beta_1 x_i + \\epsilon_i $$ for $i=1 \\ldots N$\n",
    "\n",
    "\n",
    "Let's assume $\\beta_0 = 3$ and $\\beta_1 = 10$."
   ]
  },
  {
   "cell_type": "code",
   "execution_count": 10,
   "metadata": {
    "colab": {
     "base_uri": "https://localhost:8080/",
     "height": 365
    },
    "id": "mTVqxx2BsO7t",
    "outputId": "7fc940f7-3cac-4d47-e709-ff6a7dfabeee"
   },
   "outputs": [
    {
     "data": {
      "text/plain": [
       "<matplotlib.collections.PathCollection at 0x26c25fe4d60>"
      ]
     },
     "execution_count": 10,
     "metadata": {},
     "output_type": "execute_result"
    },
    {
     "data": {
      "image/png": "[encoded data removed]",
      "text/plain": [
       "<Figure size 576x396 with 1 Axes>"
      ]
     },
     "metadata": {},
     "output_type": "display_data"
    }
   ],
   "source": [
    "N = 1000 #sample size\n",
    "\n",
    "true_beta = np.array([3,10])\n",
    "x = np.linspace(-1,1,N)\n",
    "x1 = np.vstack([np.ones(x.shape), x])\n",
    "\n",
    "eps = np.random.normal(0,1,N)\n",
    "\n",
    "y = np.matmul(true_beta, x1) + eps\n",
    "\n",
    "\n",
    "plt.scatter(x,y)"
   ]
  },
  {
   "cell_type": "code",
   "execution_count": 11,
   "metadata": {},
   "outputs": [
    {
     "data": {
      "text/plain": [
       "array([[ 1.      ,  1.      ,  1.      , ...,  1.      ,  1.      ,\n",
       "         1.      ],\n",
       "       [-1.      , -0.997998, -0.995996, ...,  0.995996,  0.997998,\n",
       "         1.      ]])"
      ]
     },
     "execution_count": 11,
     "metadata": {},
     "output_type": "execute_result"
    }
   ],
   "source": [
    "x1"
   ]
  },
  {
   "cell_type": "code",
   "execution_count": 12,
   "metadata": {},
   "outputs": [
    {
     "data": {
      "text/plain": [
       "array([-8.48207564, -6.58786038, -4.96000564, -8.19448069, -8.32066663,\n",
       "       -6.98235815, -6.42055143, -7.00481766, -7.15285565, -6.92652715,\n",
       "       -6.73051297, -7.29603268, -5.86939585, -7.26311703, -7.56020295,\n",
       "       -5.69246854, -6.92110508, -7.5362867 , -6.9271896 , -7.22548294,\n",
       "       -6.09873814, -6.05351829, -6.55183168, -8.14503946, -5.83029138,\n",
       "       -5.46865408, -4.76643881, -4.96333949, -5.17656007, -5.55837793,\n",
       "       -5.8210366 , -6.21554879, -6.28144308, -5.88289851, -4.3923548 ,\n",
       "       -6.39042888, -7.64332009, -7.24397458, -6.08038466, -5.67975889,\n",
       "       -8.23642104, -7.25358916, -4.75586709, -6.27472427, -6.80152837,\n",
       "       -6.33738447, -6.11168279, -7.08381367, -5.43784195, -5.51301644,\n",
       "       -6.01142898, -7.73635109, -5.5500672 , -6.14398639, -4.8084981 ,\n",
       "       -5.18648209, -6.65394044, -4.90863994, -3.35904152, -5.41878937,\n",
       "       -6.11330615, -6.8593812 , -5.69715787, -4.58246876, -4.57796645,\n",
       "       -5.09458401, -4.68195637, -5.43576094, -5.14648581, -6.72077808,\n",
       "       -4.0690726 , -5.85566054, -4.25127673, -6.66136095, -5.61883441,\n",
       "       -5.97860959, -5.98702893, -5.36670601, -5.4279513 , -5.89874781,\n",
       "       -4.54891922, -4.6734433 , -6.89876707, -6.22340111, -6.127218  ,\n",
       "       -7.43036174, -5.31782894, -4.36800381, -5.54749319, -5.24927964,\n",
       "       -5.5072038 , -3.80094215, -4.65555557, -6.25517623, -4.52019485,\n",
       "       -6.00375251, -5.26779688, -4.73672484, -5.88911022, -4.7635308 ,\n",
       "       -5.34695612, -7.83890672, -4.33935636, -5.60199533, -4.4629216 ,\n",
       "       -3.70519528, -3.99062938, -5.14165821, -5.95110139, -4.32220366,\n",
       "       -4.9144589 , -5.01109807, -5.71919936, -4.71614172, -4.71608393,\n",
       "       -5.4917864 , -5.35915338, -5.80752915, -4.72151041, -7.02875391,\n",
       "       -4.62792433, -3.86274186, -3.31430399, -5.57570831, -7.90888807,\n",
       "       -4.4584166 , -4.97949328, -4.59419292, -4.2655804 , -2.94539942,\n",
       "       -4.57078712, -4.21493519, -3.5860546 , -5.13334757, -3.41024102,\n",
       "       -6.11633441, -3.83492757, -3.8556773 , -4.54352452, -4.42997311,\n",
       "       -3.51663089, -5.97169661, -4.99822012, -4.46829117, -4.55118862,\n",
       "       -5.13141944, -4.28948367, -4.62706841, -5.1357451 , -2.68854308,\n",
       "       -2.88588221, -4.46094138, -3.09007182, -3.52916192, -4.28386634,\n",
       "       -3.52574208, -4.59566256, -3.66237235, -3.18778495, -3.89428084,\n",
       "       -3.32064209, -3.69032128, -2.79438017, -3.83508698, -3.33266407,\n",
       "       -4.63551245, -4.57180997, -3.36763788, -2.68637423, -2.88682198,\n",
       "       -5.01405012, -4.01745004, -4.3474774 , -3.22298526, -4.59233028,\n",
       "       -3.39069142, -5.47398954, -3.42590761, -2.52330713, -2.97497341,\n",
       "       -4.74149686, -1.53597293, -3.89205346, -2.18864818, -2.0000104 ,\n",
       "       -2.95575966, -3.15538245, -4.09336848, -1.3525185 , -3.35894653,\n",
       "       -1.8165812 , -2.3139054 , -2.5172944 , -4.75534614, -3.1739112 ,\n",
       "       -2.97502986, -3.28501372, -2.5704021 , -2.37083096, -4.07818001,\n",
       "       -2.72584159, -3.48996655, -3.39955149, -1.63928927, -2.01880987,\n",
       "       -3.04303457, -1.27086978, -3.47012598, -2.83396816, -2.52940685,\n",
       "       -3.33092333, -1.20689556, -3.12541841, -2.48506831, -3.38790493,\n",
       "       -3.52179653, -3.7002683 , -0.69312101, -2.00326169, -5.2695678 ,\n",
       "       -3.55276622, -2.86144301, -2.44829652, -2.52844497, -3.11683294,\n",
       "       -2.64163084, -1.16922667, -2.64076175, -2.13420646, -2.97089153,\n",
       "       -1.61128436, -4.21334737, -3.1253783 , -1.87489889, -0.57613947,\n",
       "       -2.25702847, -1.09989572, -3.70600378, -1.38944813, -1.89125174,\n",
       "       -2.74081504, -1.56860456, -3.86586917, -1.78865128, -2.65111364,\n",
       "       -3.74332031, -3.03278503, -1.30994447, -1.93516823,  0.43538329,\n",
       "       -1.24526982, -3.27840236, -1.22572576, -2.25014758, -1.76811267,\n",
       "        0.24395074, -1.93687908, -2.48193134, -2.26153671, -3.08154237,\n",
       "       -3.71826319, -2.11553479, -2.27643749, -2.50062053, -2.88141916,\n",
       "       -1.85810847, -2.04119313, -0.113671  , -0.689899  , -1.75605674,\n",
       "       -0.6680828 , -1.77070361, -1.863676  , -2.03195756, -1.67415327,\n",
       "        0.12975025, -2.67950457, -1.31326412, -1.33368959, -1.35083709,\n",
       "       -2.56842698, -2.46144791, -0.90364152, -2.49001219, -2.05427159,\n",
       "       -1.0587076 , -0.56416971, -0.04574615, -1.55400097, -1.44394848,\n",
       "       -0.14307268, -1.11302606, -2.79433358,  0.35471892, -1.01962912,\n",
       "       -1.31605506, -0.83994413, -2.19946804, -0.71106465,  0.01795553,\n",
       "       -2.18132943, -0.711599  , -3.05574822,  0.05475757, -0.57992174,\n",
       "       -0.93678447, -1.31671871, -0.02997288,  0.37784432,  1.1548968 ,\n",
       "       -0.55526821, -1.78619135, -0.07540897,  0.09586837, -0.40876314,\n",
       "       -1.12013769, -0.08555096, -1.31373105, -0.25499975, -1.8177207 ,\n",
       "       -2.12327709, -1.90629883, -0.14747091,  0.60379065,  0.36539991,\n",
       "        0.38731935, -0.28321943,  0.12422776,  1.14746175,  1.67473607,\n",
       "        0.16409983,  0.07692053, -0.27536783,  0.46438937, -0.77605193,\n",
       "       -1.01884258, -0.43989091,  0.59411485,  0.83592087, -1.86498994,\n",
       "       -1.74259645, -1.12320362,  1.07875328, -0.37987675, -1.10056713,\n",
       "       -1.90998149, -0.2333334 ,  0.33094166, -0.86742414,  0.03579823,\n",
       "        0.05352744,  0.82996549,  0.17848052,  0.68393474,  0.48561718,\n",
       "       -0.3858561 ,  0.67143104,  0.26060216, -1.2454458 ,  1.05693317,\n",
       "       -1.79971435,  0.2421029 ,  0.25549129,  0.54224334,  0.87389902,\n",
       "        1.06974145, -0.63431005,  1.92175906,  0.18564797,  0.24084414,\n",
       "        0.55267151,  0.61087947,  1.3975388 ,  0.35600764,  1.1660084 ,\n",
       "        0.20653019,  1.02928377,  0.45362081,  1.10514039, -0.25544016,\n",
       "        0.31087417,  0.13599732, -0.25122396, -0.12288154,  0.23900494,\n",
       "        0.75426986,  1.50620689, -0.06865578, -1.08026448,  1.26160049,\n",
       "        0.41723882,  2.02798079, -0.15343249,  1.39902607,  2.2766288 ,\n",
       "        1.56363396,  1.24525045,  0.195865  ,  0.43881589, -0.88713763,\n",
       "        0.74585197, -0.43242302,  1.60834696,  1.79650451,  2.6659222 ,\n",
       "        2.43369226,  1.99334271,  1.74409385,  0.22881955, -1.05018387,\n",
       "        0.14186956,  1.83100479,  0.64647774,  1.12589553, -0.2156166 ,\n",
       "        1.06616999, -0.09049396,  1.84213485,  2.45370256,  0.88158733,\n",
       "       -0.57803041,  1.86952833,  2.06090457,  2.43677437,  1.59634601,\n",
       "        1.88697999,  1.99463346, -1.17336282,  1.69552808,  1.89577834,\n",
       "        1.83924203,  2.02794085,  0.92100336,  0.86241049,  2.23800142,\n",
       "        1.65347763,  0.5083669 ,  1.9869285 ,  1.47404347,  2.38300375,\n",
       "        1.84980011,  1.00989986,  2.3811618 ,  2.64032495,  1.98736889,\n",
       "        1.50018037,  1.15674374,  1.23663457,  1.52609352,  2.40949577,\n",
       "        4.23736463,  2.8988283 ,  2.5333508 ,  0.93104723,  2.00602911,\n",
       "        2.5366358 ,  1.24079519,  2.09854584,  1.86786743,  1.5413224 ,\n",
       "        1.50699521,  1.5893398 ,  1.25329004,  3.49976653,  3.86745825,\n",
       "        1.14322492,  2.34908653,  0.81514219,  3.20740056,  3.90772476,\n",
       "        2.75498474,  2.31733451,  4.49181459,  3.74311736,  2.23093228,\n",
       "        1.42567619,  3.70803144,  5.08406488,  4.81643273,  0.64838778,\n",
       "        1.6254719 ,  3.30500324,  1.46011021,  1.80109918,  4.38045904,\n",
       "        3.76929644,  3.72418269,  2.69942036,  1.89705866,  3.81960246,\n",
       "        2.98939285,  3.74954027,  3.42897493,  2.72221805,  3.62167464,\n",
       "        2.25262558,  2.31388617,  3.30526633,  2.88471469,  3.01215588,\n",
       "        2.50962573,  1.67490676,  3.2533769 ,  3.62603606,  3.44470074,\n",
       "        2.84947884,  2.40117087,  1.84103669,  2.05610545,  5.40061342,\n",
       "        3.67211743,  3.4357958 ,  4.21650484,  3.8423956 ,  1.81254287,\n",
       "        2.05584949,  3.08031203,  2.73856711,  4.55056755,  2.68083274,\n",
       "        2.22813532,  3.01282554,  4.16849274,  4.46077965,  2.39543438,\n",
       "        2.81275124,  2.67588123,  3.58234189,  2.6218687 ,  3.04334845,\n",
       "        2.87054311,  4.08234909,  2.70941734,  4.49490447,  4.38677859,\n",
       "        5.16230852,  3.52875121,  5.53694924,  3.28017711,  4.53649299,\n",
       "        4.38984017,  3.59803968,  4.55243458,  3.52940466,  4.53806855,\n",
       "        2.80761898,  2.85879519,  4.8116557 ,  3.0686228 ,  3.29889764,\n",
       "        5.89583452,  3.26412375,  1.21213842,  4.95715026,  4.36620416,\n",
       "        6.52786667,  4.51023598,  5.48325955,  4.82142195,  3.5808865 ,\n",
       "        5.23267687,  1.61277965,  4.33461751,  2.84410031,  5.09269201,\n",
       "        3.79191048,  3.62499184,  4.74146913,  4.44706541,  2.01687993,\n",
       "        4.20782307,  5.01755233,  4.55682455,  5.70440605,  5.93010914,\n",
       "        5.15175325,  4.93380645,  4.57395268,  3.97928059,  4.36206745,\n",
       "        1.74766007,  5.84655399,  4.90347515,  4.54905349,  7.17714872,\n",
       "        5.01402134,  2.24810426,  4.82495423,  4.58801969,  3.64603523,\n",
       "        5.52619121,  5.31688284,  6.31669154,  3.9187617 ,  5.32525905,\n",
       "        4.50953996,  5.69972972,  4.20834595,  3.99715544,  4.2413218 ,\n",
       "        5.28741584,  4.42673292,  4.31755953,  5.5898843 ,  3.11577566,\n",
       "        6.21079718,  6.20245842,  5.6932126 ,  3.97651829,  4.5284199 ,\n",
       "        4.31722802,  3.55620849,  5.87319105,  4.71041349,  5.24464841,\n",
       "        5.20988974,  5.81893713,  3.97098285,  6.24442664,  4.0443058 ,\n",
       "        4.62234472,  7.69882046,  5.60428432,  6.24624186,  4.56206085,\n",
       "        4.55424384,  5.55817799,  5.98478875,  5.79585457,  5.8268722 ,\n",
       "        5.80112995,  4.68347872,  5.97905335,  5.64775374,  5.28925643,\n",
       "        5.4250646 ,  6.22229747,  4.88478407,  4.14461773,  6.4078743 ,\n",
       "        6.18755735,  6.56429986,  6.51824918,  6.19762553,  7.04452433,\n",
       "        5.33363916,  6.38824582,  4.18550821,  4.70314874,  6.10474235,\n",
       "        5.90096964,  6.84172873,  4.86180908,  6.47200098,  5.50508441,\n",
       "        7.31542802,  4.69330915,  4.95926684,  3.90473573,  3.68127374,\n",
       "        4.93712805,  7.3391732 ,  5.12309962,  6.23883229,  5.2715051 ,\n",
       "        4.15859066,  5.91364739,  5.47421284,  7.76039374,  5.99827891,\n",
       "        7.94936441,  4.43870256,  7.21360471,  7.17792484,  5.21168143,\n",
       "        5.78665204,  8.00620639,  6.12584219,  5.26660887,  6.84566505,\n",
       "        6.15748657,  6.92235036,  7.22357913,  6.58803012,  6.48797893,\n",
       "        4.8419273 ,  7.84336027,  8.03405387,  5.08577459,  5.76781969,\n",
       "        4.72483385,  7.62049219,  7.47625396,  5.53733661,  7.47038263,\n",
       "        6.62332107,  7.90279175,  4.73880736,  8.04778769,  6.18253251,\n",
       "        6.2213182 ,  6.13844333,  8.32218105,  8.96672466,  8.08219736,\n",
       "        6.96953873,  7.36076436,  7.50438524,  7.85449191,  6.82052872,\n",
       "        5.36128233,  6.05611216,  6.89072014,  8.4336521 ,  6.73649804,\n",
       "        7.52497047,  6.97811445,  8.52397259,  6.3780512 ,  6.39788596,\n",
       "        7.4251583 ,  6.88505285,  6.40325302,  5.75102114,  6.24788181,\n",
       "        8.95433473,  6.84288541,  6.96451953,  9.3069721 ,  7.98552361,\n",
       "        7.50753872,  7.65751931,  7.58283981,  8.22958129,  7.25369945,\n",
       "        8.05261838,  6.04582255,  8.91829888,  7.04090339,  9.53299163,\n",
       "        8.13475024,  8.218665  ,  5.7168399 ,  7.48484684,  9.08093007,\n",
       "        8.31760978,  6.43199816,  8.62750991,  7.25794874,  7.34340624,\n",
       "        7.85260995,  7.37946517,  8.1852822 ,  8.61704914,  9.14039707,\n",
       "        8.52111068,  7.73263215,  7.84863009, 10.07110513,  5.19293072,\n",
       "       10.0634756 ,  9.82062585,  7.95149579,  6.87346995,  8.81392108,\n",
       "        8.68452388,  8.7456394 ,  9.71905538,  9.1400813 ,  7.43069777,\n",
       "        9.31609843,  8.09637181,  8.50024275,  7.23616297,  7.03033055,\n",
       "        9.54905281,  8.41580968,  9.35685287,  8.15497651,  8.46093975,\n",
       "        9.98838972,  7.01799559,  9.38638879, 11.64970612,  8.9587905 ,\n",
       "        9.16963421,  8.92179356,  7.75325635,  7.18547159,  7.54427805,\n",
       "        6.73745487,  7.3462678 , 10.84260911,  7.40622159,  7.51021681,\n",
       "        9.62960422,  9.27230582, 10.88026889, 10.53694075,  8.1938853 ,\n",
       "        8.99732288,  9.64675578, 10.52861776,  8.25798727,  8.52373053,\n",
       "        9.30330013, 10.74105385,  9.52794373,  9.63680804,  9.53641979,\n",
       "        9.3329934 ,  9.11386221,  9.92995641,  8.16876791,  7.59775759,\n",
       "        8.76483774,  9.02257073, 10.52014043,  6.87562469, 11.3799213 ,\n",
       "        9.16249413, 10.22124854, 10.95192934,  9.28476764, 13.16007343,\n",
       "        8.7727309 , 10.07546574, 11.88402703, 10.15254242,  7.18128426,\n",
       "        9.32644297,  8.99861811,  9.2928583 ,  9.6928633 ,  8.80210743,\n",
       "        8.64373416,  8.69090703,  8.63928787,  8.0028967 , 11.46668159,\n",
       "        9.41907494, 11.22781186, 10.05588856, 10.22240797,  9.87787249,\n",
       "        8.29185387,  9.79691341, 11.30038676,  9.62599011, 10.76910686,\n",
       "        8.90806693, 10.58769308,  9.80653578, 10.09101723, 10.68212237,\n",
       "       10.49970851, 10.62439215, 10.74104616,  7.34176753,  8.64335297,\n",
       "        8.06481173,  9.05689853,  8.94389139, 10.14548163,  9.58367619,\n",
       "        9.77279821, 11.6579271 ,  9.85779167, 10.55992973, 11.9047884 ,\n",
       "       10.87881663, 10.33164762, 11.3165825 , 10.16215596, 11.359852  ,\n",
       "       10.6662934 , 10.45057145, 11.26051479, 11.56692159, 12.51659504,\n",
       "        9.47894515, 11.21546462,  9.39401571, 10.91652747,  9.72362447,\n",
       "       10.2894263 , 10.71800881,  9.94951285, 11.30292889, 11.1062789 ,\n",
       "       12.42996153, 11.54011929, 10.21185183,  9.09093349, 11.34755192,\n",
       "       11.43952933, 12.91239842, 12.26436344, 10.30166645, 12.08573842,\n",
       "       10.71553261, 10.8971591 , 10.61520343, 10.20784071, 10.97615503,\n",
       "       11.22232406, 11.96886438, 10.79411018, 12.32024897, 11.25476447,\n",
       "       12.47075701, 11.0151918 , 10.18184988, 10.09628912, 10.40938713,\n",
       "       11.62429604, 11.66329549,  9.66315646, 11.31852306,  9.64749971,\n",
       "       10.77497864, 12.02383136, 12.7393545 ,  9.34466838, 11.8249903 ,\n",
       "       10.52190246, 10.7862576 , 11.47098019, 12.17770548, 10.32236033,\n",
       "       12.87814558, 13.09987917,  9.26165361, 11.31135657, 12.09315906,\n",
       "       11.5402982 , 11.12204354, 12.06884964, 11.33925099, 10.88894013,\n",
       "       10.80731742,  9.62607789, 11.77552865, 12.54702225, 12.35999025,\n",
       "       13.11786889, 10.62544361, 13.3493453 , 12.44577261, 11.86561045,\n",
       "       10.70568237, 11.93482507, 13.04219578, 10.17043077, 11.71935037,\n",
       "       11.26074877, 12.26976657, 10.97908349, 11.45847343, 13.00983602,\n",
       "       10.73769256, 12.15968612, 10.69805181, 12.51301534, 11.55619812,\n",
       "       11.03606376, 14.26696271, 11.79294496, 12.0791988 , 13.17590438,\n",
       "       12.56692402, 11.31560003, 13.17092222, 12.6498082 , 14.68425943,\n",
       "       13.87634334, 12.59367545, 14.29861574, 12.66442037, 14.13715263,\n",
       "       12.41187787, 11.67519808, 12.87378779, 11.17186582, 12.79741199,\n",
       "       10.78631197, 13.46676585, 13.42687275, 12.69104191, 13.0336275 ,\n",
       "       12.13457601, 12.12669446, 13.65986186, 13.14922154, 13.44727972,\n",
       "       13.36449468, 12.29981913, 12.2213488 , 12.55443918, 11.73121504])"
      ]
     },
     "execution_count": 12,
     "metadata": {},
     "output_type": "execute_result"
    }
   ],
   "source": [
    "y"
   ]
  },
  {
   "cell_type": "code",
   "execution_count": null,
   "metadata": {},
   "outputs": [],
   "source": []
  },
  {
   "cell_type": "markdown",
   "metadata": {},
   "source": [
    "## Linear Regression"
   ]
  },
  {
   "cell_type": "markdown",
   "metadata": {},
   "source": [
    "Suppose that we know $x$ and $y$ follow a linear relationship, but we do not know the value of $\\mathbf{\\beta}$. \n",
    "We want to build a linear model $f(\\mathbf{x}; \\beta)$ and estimate the value of $\\mathbf{\\beta}$ from data samples $(x_i,y_i)$, so that given any input $\\mathbf{x}_i$, we can make a prediction $\\hat{y_i}$:\n",
    "\n",
    "\n",
    "$$ \\hat{y_i} = f(\\mathbf{x}_i; \\beta) = \\mathbf{\\beta}^\\top \\cdot \\mathbf{x}_i  = \\beta_0 + \\beta_1 x_i  $$\n",
    "\n",
    "\n"
   ]
  },
  {
   "cell_type": "markdown",
   "metadata": {},
   "source": [
    "Define the mean squared error loss function which measure the error between our predictions and the actual values:"
   ]
  },
  {
   "cell_type": "markdown",
   "metadata": {
    "id": "_7g8A-Cb6svF"
   },
   "source": [
    "$$ l = \\frac{1}{N} \\sum_{i=1}^{N} (y_i-\\hat{y_i})^2 $$"
   ]
  },
  {
   "cell_type": "markdown",
   "metadata": {},
   "source": [
    "We can estimate the value of $\\beta$ by finding the minimizer which minimizes $l$ using the Newton-Raphson algorithm."
   ]
  },
  {
   "cell_type": "markdown",
   "metadata": {},
   "source": [
    "$$\n",
    "\\mathbf{\\hat{\\beta}}\n",
    "=\n",
    "\\text{argmin}_\\beta \\   l(\\beta)\n",
    "$$"
   ]
  },
  {
   "cell_type": "markdown",
   "metadata": {},
   "source": [
    "## Gradient and Hessian"
   ]
  },
  {
   "cell_type": "markdown",
   "metadata": {},
   "source": [
    "To use the Newton-Raphson algorithm, we need to calculate the gradient and Hessian of the loss function, which are the first order and second order partial derivatives of the loss function respectively."
   ]
  },
  {
   "cell_type": "markdown",
   "metadata": {},
   "source": [
    "### The first order partial derivatives of the loss function are:"
   ]
  },
  {
   "cell_type": "markdown",
   "metadata": {},
   "source": [
    "$$\n",
    "\\begin{align}\n",
    "\\frac{\\partial l}{\\partial \\beta_0} &= -\\frac{2}{N} \\sum_{i=1}^N (y_i-\\hat{y_i}) \\\\\n",
    "\\frac{\\partial l}{\\partial \\beta_1} &= -\\frac{2}{N} \\sum_{i=1}^N x_i \\cdot (y_i-\\hat{y_i}) \n",
    "\\end{align}\n",
    "$$"
   ]
  },
  {
   "cell_type": "markdown",
   "metadata": {},
   "source": [
    "### The gradient of the loss function is: "
   ]
  },
  {
   "cell_type": "markdown",
   "metadata": {},
   "source": [
    "$$\n",
    "\\nabla l\n",
    "=\n",
    "\\begin{bmatrix} \n",
    "\\frac{\\partial l}{\\partial \\beta_0} \\\\ \n",
    "\\frac{\\partial l}{\\partial \\beta_1}\n",
    "\\end{bmatrix}\n",
    "= \n",
    "-2 \\cdot\n",
    "\\begin{bmatrix} \n",
    "\\frac{1}{N} \\sum_{i=1}^N (y_i -\\hat{y_i}) \\\\ \n",
    "\\frac{1}{N} \\sum_{i=1}^N x_i \\cdot (y_i -\\hat{y_i})\n",
    "\\end{bmatrix}\n",
    "$$"
   ]
  },
  {
   "cell_type": "code",
   "execution_count": 13,
   "metadata": {},
   "outputs": [],
   "source": [
    "# -2/N * (y - (mx + b))^2\n",
    "#Y is the point at the time \n",
    "\n",
    "#You are tweeking m and b to make x,y as close as possible\n"
   ]
  },
  {
   "cell_type": "markdown",
   "metadata": {},
   "source": [
    "### The second order partial derivatives of the loss function are:"
   ]
  },
  {
   "cell_type": "markdown",
   "metadata": {},
   "source": [
    "$$ \n",
    "\\begin{align}\n",
    "\\frac{\\partial^2 l}{\\partial \\beta_0^2} &= 2 \\\\\n",
    "\\frac{\\partial^2 l}{\\partial \\beta_1^2} &=  \\frac{2}{N} \\sum_{i=1}^N x_i^2 \\\\\n",
    "\\frac{\\partial^2 l}{\\partial \\beta_0 \\partial \\beta_1}  \n",
    "&=  \n",
    "\\frac{\\partial^2 l}{\\partial \\beta_1 \\partial \\beta_0}\n",
    "=\n",
    "\\frac{2}{N} \\sum_{i=1}^N x_i \n",
    "\\end{align}\n",
    "$$\n"
   ]
  },
  {
   "cell_type": "markdown",
   "metadata": {},
   "source": [
    "### The Hessian of the loss function is: "
   ]
  },
  {
   "cell_type": "markdown",
   "metadata": {},
   "source": [
    "$$ \n",
    "H \n",
    "= \n",
    "\\begin{bmatrix} \n",
    "\\frac{\\partial^2 l}{\\partial \\beta_0^2} & \\frac{\\partial^2 l}{\\partial \\beta_0 \\partial \\beta_1} \\\\ \\frac{\\partial^2 l}{\\partial \\beta_1 \\partial \\beta_0} & \\frac{\\partial^2 l}{\\partial \\beta_1^2} \n",
    "\\end{bmatrix} \n",
    "= \n",
    "2 \\cdot\n",
    "\\begin{bmatrix}\n",
    "1 & \\frac{1}{N} \\sum_{i=1}^N x_i \\\\\n",
    "\\frac{1}{N} \\sum_{i=1}^N x_i & \\frac{1}{N} \\sum_{i=1}^N x_i^2\n",
    "\\end{bmatrix}\n",
    "$$"
   ]
  },
  {
   "cell_type": "markdown",
   "metadata": {
    "id": "QHy-SEHM3Nd7"
   },
   "source": [
    "## Newton-Raphson Algorithm (2nd Order Optimization)\n",
    "\n",
    "\n",
    "\n",
    "\n",
    "\n",
    "\n"
   ]
  },
  {
   "cell_type": "markdown",
   "metadata": {},
   "source": [
    "Define the functions for our linear model and the loss function"
   ]
  },
  {
   "cell_type": "code",
   "execution_count": 14,
   "metadata": {},
   "outputs": [
    {
     "ename": "ValueError",
     "evalue": "cannot reshape array of size 2000 into shape (20,2)",
     "output_type": "error",
     "traceback": [
      "\u001b[1;31m---------------------------------------------------------------------------\u001b[0m",
      "\u001b[1;31mValueError\u001b[0m                                Traceback (most recent call last)",
      "\u001b[1;32m~\\AppData\\Local\\Temp/ipykernel_15048/2257971152.py\u001b[0m in \u001b[0;36m<module>\u001b[1;34m\u001b[0m\n\u001b[1;32m----> 1\u001b[1;33m \u001b[0mnp\u001b[0m\u001b[1;33m.\u001b[0m\u001b[0mreshape\u001b[0m\u001b[1;33m(\u001b[0m\u001b[0mx1\u001b[0m \u001b[1;33m,\u001b[0m\u001b[1;33m(\u001b[0m\u001b[1;36m20\u001b[0m\u001b[1;33m,\u001b[0m \u001b[1;36m2\u001b[0m\u001b[1;33m)\u001b[0m\u001b[1;33m)\u001b[0m\u001b[1;33m\u001b[0m\u001b[1;33m\u001b[0m\u001b[0m\n\u001b[0m",
      "\u001b[1;32m<__array_function__ internals>\u001b[0m in \u001b[0;36mreshape\u001b[1;34m(*args, **kwargs)\u001b[0m\n",
      "\u001b[1;32m~\\Anaconda3\\lib\\site-packages\\numpy\\core\\fromnumeric.py\u001b[0m in \u001b[0;36mreshape\u001b[1;34m(a, newshape, order)\u001b[0m\n\u001b[0;32m    297\u001b[0m            [5, 6]])\n\u001b[0;32m    298\u001b[0m     \"\"\"\n\u001b[1;32m--> 299\u001b[1;33m     \u001b[1;32mreturn\u001b[0m \u001b[0m_wrapfunc\u001b[0m\u001b[1;33m(\u001b[0m\u001b[0ma\u001b[0m\u001b[1;33m,\u001b[0m \u001b[1;34m'reshape'\u001b[0m\u001b[1;33m,\u001b[0m \u001b[0mnewshape\u001b[0m\u001b[1;33m,\u001b[0m \u001b[0morder\u001b[0m\u001b[1;33m=\u001b[0m\u001b[0morder\u001b[0m\u001b[1;33m)\u001b[0m\u001b[1;33m\u001b[0m\u001b[1;33m\u001b[0m\u001b[0m\n\u001b[0m\u001b[0;32m    300\u001b[0m \u001b[1;33m\u001b[0m\u001b[0m\n\u001b[0;32m    301\u001b[0m \u001b[1;33m\u001b[0m\u001b[0m\n",
      "\u001b[1;32m~\\Anaconda3\\lib\\site-packages\\numpy\\core\\fromnumeric.py\u001b[0m in \u001b[0;36m_wrapfunc\u001b[1;34m(obj, method, *args, **kwds)\u001b[0m\n\u001b[0;32m     56\u001b[0m \u001b[1;33m\u001b[0m\u001b[0m\n\u001b[0;32m     57\u001b[0m     \u001b[1;32mtry\u001b[0m\u001b[1;33m:\u001b[0m\u001b[1;33m\u001b[0m\u001b[1;33m\u001b[0m\u001b[0m\n\u001b[1;32m---> 58\u001b[1;33m         \u001b[1;32mreturn\u001b[0m \u001b[0mbound\u001b[0m\u001b[1;33m(\u001b[0m\u001b[1;33m*\u001b[0m\u001b[0margs\u001b[0m\u001b[1;33m,\u001b[0m \u001b[1;33m**\u001b[0m\u001b[0mkwds\u001b[0m\u001b[1;33m)\u001b[0m\u001b[1;33m\u001b[0m\u001b[1;33m\u001b[0m\u001b[0m\n\u001b[0m\u001b[0;32m     59\u001b[0m     \u001b[1;32mexcept\u001b[0m \u001b[0mTypeError\u001b[0m\u001b[1;33m:\u001b[0m\u001b[1;33m\u001b[0m\u001b[1;33m\u001b[0m\u001b[0m\n\u001b[0;32m     60\u001b[0m         \u001b[1;31m# A TypeError occurs if the object does have such a method in its\u001b[0m\u001b[1;33m\u001b[0m\u001b[1;33m\u001b[0m\u001b[0m\n",
      "\u001b[1;31mValueError\u001b[0m: cannot reshape array of size 2000 into shape (20,2)"
     ]
    }
   ],
   "source": [
    "np.reshape(x1 ,(20, 2))"
   ]
  },
  {
   "cell_type": "code",
   "execution_count": 22,
   "metadata": {
    "id": "DrghUjgCtJ52"
   },
   "outputs": [],
   "source": [
    "# Define the function for our linear model\n",
    "#Will take tuple\n",
    "\n",
    "#Beta * xi\n",
    "def model(param,x1):\n",
    "    return np.matmul(param, x1)\n",
    "\n",
    "\n",
    "\n",
    "# Define the function for our loss function\n",
    "def loss_func(param, x1, y):\n",
    "    \n",
    "    #print(np.shape(x1))\n",
    "    \n",
    "    y_hat = model(param, x1)\n",
    "    \n",
    "    return np.mean((y - y_hat) ** 2)\n",
    "\n",
    "\n"
   ]
  },
  {
   "cell_type": "code",
   "execution_count": null,
   "metadata": {},
   "outputs": [],
   "source": []
  },
  {
   "cell_type": "markdown",
   "metadata": {
    "id": "jN03rwVr6qsN"
   },
   "source": [
    "Newton-Raphson algorithm:\n",
    "\n",
    "1. Initialize $\\mathbf{\\beta}$ by sampling from the standard normal distribution  $\\mathcal{N} (0,1)$ \n",
    "\n",
    "\n",
    "\n",
    "2. At each iteration $k$, update the parameters $\\mathbf{\\beta}$ by this equation: \\\n",
    "   $$ \\mathbf{\\beta_{k+1}} = \\mathbf{\\beta_k} - H^{-1} \\mathbf{\\nabla} l(\\beta_k) $$\n",
    "     \n",
    "     \n",
    "3. Stop the algorithm when $|l(\\beta_{k+1}) - l(\\beta_k)| < \\text{tolerance}$, we can use a small number, i.e. $10^{-7}$, as our tolerance value \n",
    "\n",
    "\n",
    "Hint:\n",
    "1. You can use np.abs(delta) to compute the absolute value of delta\n"
   ]
  },
  {
   "cell_type": "code",
   "execution_count": null,
   "metadata": {},
   "outputs": [],
   "source": []
  },
  {
   "cell_type": "markdown",
   "metadata": {},
   "source": []
  },
  {
   "cell_type": "code",
   "execution_count": 17,
   "metadata": {},
   "outputs": [
    {
     "name": "stdout",
     "output_type": "stream",
     "text": [
      "[-89.57185179 -44.7859259 ] [[ 0.79975995 -0.5995199 ]\n",
      " [-0.5995199   1.19903981]]\n"
     ]
    },
    {
     "data": {
      "text/plain": [
       "array([3.55265902e-08, 6.34666336e-08])"
      ]
     },
     "execution_count": 17,
     "metadata": {},
     "output_type": "execute_result"
    }
   ],
   "source": [
    "beta = np.random.normal(0,1,2) #initialize beta\n",
    "tol = 1e-7 #toloerance\n",
    "delta = 1\n",
    "\n",
    "fBeta = loss_func(beta, x1, y)\n",
    "gradient = -2 * np.array([np.mean(fBeta), np.mean(fBeta * x1)])\n",
    "hessian = 2 * np.array([[1, np.mean(x1)], [np.mean(x1), np.mean(x1 ** 2)]])\n",
    "hessian = np.linalg.inv(hessian)\n",
    "\n",
    "print(gradient, hessian)\n",
    "\n",
    "def decreasing(currentBeta, gradient, hessian, tol):\n",
    "    \n",
    "    #Hessian does not change, gradient changes\n",
    "    #Solving for beta1\n",
    "    leftSide = -1 * (currentBeta)\n",
    "    rightSide = -1 *(hessian * gradient)\n",
    "    NewBeta = np.linalg.solve(rightSide, leftSide)\n",
    "    \n",
    "    #New Gradient\n",
    "    learning = loss_func(NewBeta, x1, y)\n",
    "    NewGradient = -2 * np.array([np.mean(learning), np.mean(learning * x1)])\n",
    "    \n",
    "    #Calculating difference\n",
    "    delta = np.subtract(NewBeta, currentBeta)\n",
    "    delta = np.abs(delta)\n",
    "    \n",
    "    #Condition\n",
    "    try:\n",
    "        if  delta[0] < tol or delta[1] < tol:\n",
    "            return currentBeta\n",
    "        else:\n",
    "            return decreasing(NewBeta, NewGradient, hessian, tol)\n",
    "    \n",
    "    except:\n",
    "        print(\"Crashed\")\n",
    "\n",
    "beta = decreasing(beta, gradient, hessian, tol)\n",
    "#beta = beta[1], beta[0]\n",
    "\n",
    "beta"
   ]
  },
  {
   "cell_type": "code",
   "execution_count": 24,
   "metadata": {},
   "outputs": [
    {
     "name": "stdout",
     "output_type": "stream",
     "text": [
      "At 0-th step, the loss is 1.018\n",
      "At 1-th step, the loss is 1.018\n"
     ]
    }
   ],
   "source": [
    "beta = np.random.normal(0,1,2) #initialize beta\n",
    "tol = 1e-7 #toloerance\n",
    "delta = 1 #a variable to store the value for l(\\beta_{k+1}) - l(\\beta_{k}), initialized to be 1\n",
    "k = 0\n",
    "h =  2*np.array([ [1, np.mean(x) ], [np.mean(x), np.mean(x**2)] ])\n",
    "\n",
    "'''\n",
    "Only the gradient changes each time, and also mean square error for each point\n",
    "\n",
    "'''\n",
    "\n",
    "\n",
    "\n",
    "while np.abs(delta) >= tol:\n",
    "    \n",
    "    y_hat = model(beta, x1)\n",
    "    gradient = -2 * np.array([np.mean(y - y_hat), np.mean(x * (y - y_hat))])\n",
    "    \n",
    "    prev_loss = loss_func(beta, x1, y)\n",
    "    \n",
    "    #solution 1\n",
    "    beta -= np.linalg.solve(h,gradient)\n",
    "    \n",
    "    #solution 2\n",
    "    #inv_h = np.linalg.inv(h)\n",
    "    #beta -= np.matmul(inv_h,g)\n",
    "    current_loss = loss_func(beta, x1, y)\n",
    "    \n",
    "    delta = current_loss - prev_loss\n",
    "    \n",
    "    print('At {}-th step, the loss is {:.3f}'.format(k, current_loss))\n",
    "    k += 1\n",
    "    \n",
    "    "
   ]
  },
  {
   "cell_type": "markdown",
   "metadata": {},
   "source": [
    "# "
   ]
  },
  {
   "cell_type": "code",
   "execution_count": null,
   "metadata": {},
   "outputs": [],
   "source": []
  },
  {
   "cell_type": "code",
   "execution_count": null,
   "metadata": {},
   "outputs": [],
   "source": [
    "\n",
    "\n",
    "def decreasing(FirstBeta, FinalDelta, tolerance, m1, m2):\n",
    "    \n",
    "    if (FinalDelta[0] < tolerance) or (FinalDelta[1] < tolerance):\n",
    "        print(\"Hello\")\n",
    "        \n",
    "    else:\n",
    "        Beta2 = FirstBeta - (np.dot(m1, m2))\n",
    "        FinalDelta = np.abs(NextBeta - FirstBeta)\n",
    "        \n",
    "        print(FirstBeta, Beta2, FinalDelta)\n",
    "        \n",
    "        return decreasing(NextBeta, FinalDelta, tol, m1, m2)\n",
    "    \n",
    "\n"
   ]
  },
  {
   "cell_type": "code",
   "execution_count": null,
   "metadata": {},
   "outputs": [],
   "source": []
  },
  {
   "cell_type": "code",
   "execution_count": null,
   "metadata": {},
   "outputs": [],
   "source": [
    "#Old code\n",
    "beta = np.random.normal(0,1,2) #initialize beta\n",
    "tol = 1e-7 #toloerance\n",
    "delta = [100, 100] #a variable to store the value for l(\\beta_{k+1}) - l(\\beta_{k}), initialized to be 1\n",
    "\n",
    "#beta0, beta1 * x\n",
    "#data is y \n",
    "#xIndependent = input(\"independent variable\")\n",
    "\n",
    "##Run X from above\n",
    "def loss(bias, beta_value, points, mode):\n",
    "    totalSum = 0\n",
    "    \n",
    "    if mode == 1:\n",
    "        for i in range(len(bias)):\n",
    "            xi = np.array([1, bias[i]])\n",
    "            Y = points[i] - (np.matmul(beta_value.T, xi))\n",
    "            \n",
    "                             \n",
    "            totalSum += Y\n",
    "            \n",
    "    elif mode == 2:\n",
    "        \n",
    "        for i in range(len(bias)):\n",
    "            xi = np.array([1, bias[i]])\n",
    "            Y = points[i] - (np.matmul(beta_value.T, xi))\n",
    "            \n",
    "            totalSum += xi * Y\n",
    "        \n",
    "        \n",
    "    else:\n",
    "        totalSum = np.zeros(2)\n",
    "        for i in range(len(bias)):\n",
    "            xi = np.array([1, bias[i]])\n",
    "            \n",
    "            \n",
    "            #Replace beta_value with power\n",
    "            totalSum = totalSum + xi ** beta_value\n",
    "            \n",
    "            \n",
    "            \n",
    "    \n",
    "    return (totalSum / len(bias))\n",
    "\n",
    "#Do calc later\n",
    "#Fix matrixes\n",
    "\n",
    "learning = -2 * np.array([loss(x, beta, y, 1), loss(x, beta, y, 2)], dtype = object)\n",
    "HMatrix = 2 * [[1, loss(x, 1, y, 3)], [loss(x, 1, y, 3), loss(x, 2, y, 3)]]\n",
    "\n",
    "def decreasing(FirstBeta, FinalDelta, tolerance, m1, m2):\n",
    "    \n",
    "    if (FinalDelta[0] < tolerance) or (FinalDelta[1] < tolerance):\n",
    "        print(\"Hello\")\n",
    "        \n",
    "    else:\n",
    "        Beta2 = FirstBeta - np.dot(np.dot(m1, m2), FirstBeta)\n",
    "        FinalDelta = np.subtract(Beta2, FirstBeta)\n",
    "        \n",
    "        print(f\"FirstBeta: {FirstBeta} Beta2: {Beta2}, FinalDelta: {np.abs(FinalDelta)}\")\n",
    "        \n",
    "        return decreasing(Beta2, np.abs(FinalDelta), tol, m1, m2)\n",
    "    \n",
    "decreasing(beta, delta, tol, np.linalg.inv(HMatrix), learning)\n",
    "\n"
   ]
  },
  {
   "cell_type": "code",
   "execution_count": null,
   "metadata": {},
   "outputs": [],
   "source": [
    "#Old code\n",
    "# Define the function for our linear model\n",
    "#Will take tuple\n",
    "def model(param,x1):\n",
    "    xTotal, yTotal = (0, 0)\n",
    "    \n",
    "    for i in range(len(param)):\n",
    "        xTotal += param[i][0]   \n",
    "        yTotal += param[i][1]\n",
    "    xMean = xTotal / len(param)\n",
    "    yMean = yTotal / len(param)\n",
    "    \n",
    "    Sxx, Sxy = (0, 0)\n",
    "    \n",
    "    for i in range(len(param)):\n",
    "        Sxx += (param[i][0] - xMean) ** 2\n",
    "        Sxy += (param[i][0] - xMean) * (param[i][1] - yMean)\n",
    "    \n",
    "    Beta1 = Sxy / Sxx\n",
    "    Beta0 = yMean - (Beta1)*(xMean)\n",
    "        \n",
    "    return Beta0 + (Beta1 * x1)\n",
    "\n",
    "\n",
    "\n",
    "# Define the function for our loss function\n",
    "loss_func = lambda param, x1, y : ((y - model(param, x1)) ** 2)"
   ]
  },
  {
   "cell_type": "code",
   "execution_count": null,
   "metadata": {},
   "outputs": [],
   "source": []
  },
  {
   "cell_type": "markdown",
   "metadata": {},
   "source": [
    "## Visualizing the result"
   ]
  },
  {
   "cell_type": "code",
   "execution_count": 25,
   "metadata": {
    "colab": {
     "base_uri": "https://localhost:8080/",
     "height": 361
    },
    "id": "xIXU02pRu9jy",
    "outputId": "cb9b7e97-7290-4170-dac5-6568835c9cfc"
   },
   "outputs": [
    {
     "name": "stdout",
     "output_type": "stream",
     "text": [
      "The estimated value for beta is: [2.95057896 9.95608178]\n",
      "The true value for beta is: [ 3 10]\n"
     ]
    },
    {
     "data": {
      "image/png": "[encoded data removed]",
      "text/plain": [
       "<Figure size 576x396 with 1 Axes>"
      ]
     },
     "metadata": {},
     "output_type": "display_data"
    }
   ],
   "source": [
    "print('The estimated value for beta is:', beta)\n",
    "print('The true value for beta is:', true_beta)\n",
    "\n",
    "y_pred = np.matmul(beta,x1)\n",
    "\n",
    "plt.plot(x, y_pred, 'r')\n",
    "plt.scatter(x,y)\n",
    "plt.ylabel('y')\n",
    "plt.xlabel('x')\n",
    "plt.show()"
   ]
  },
  {
   "cell_type": "code",
   "execution_count": null,
   "metadata": {},
   "outputs": [],
   "source": [
    "# Define the function for our linear model\n",
    "#Will take tuple\n",
    "\n",
    "#Beta * xi\n",
    "def model(param,x1):\n",
    "    return param * x1.T\n",
    "\n",
    "\n",
    "\n",
    "# Define the function for our loss function\n",
    "def loss_func(param, x1, y):\n",
    "    \n",
    "    #print(np.shape(x1))\n",
    "    \n",
    "    #Y - Y hat\n",
    "    y_hat = (model(param, x1).T) \n",
    "    \n",
    "    return np.mean((y - y_hat) ** 2)\n"
   ]
  },
  {
   "cell_type": "code",
   "execution_count": null,
   "metadata": {},
   "outputs": [],
   "source": [
    "loss_func(beta, x1, y)"
   ]
  },
  {
   "cell_type": "markdown",
   "metadata": {
    "id": "_eEc80S_4y4p"
   },
   "source": [
    "## Gradient Descent Algorithm (1st Order Optimization) [Optional Exercise]"
   ]
  },
  {
   "cell_type": "markdown",
   "metadata": {
    "id": "sWziMZP96hSH"
   },
   "source": [
    "Gradient descent algorithm:\n",
    "\n",
    "\n",
    "1. Initialize $\\mathbf{\\beta}$ by sampling from the standard normal distribution  $\\mathcal{N} (0,1)$ \n",
    "\n",
    "\n",
    "\n",
    "2. At each iteration $k$, update the parameters $\\mathbf{\\beta}$ by this equation: \\\n",
    "   $$ \\mathbf{\\beta_{k+1}} = \\mathbf{\\beta_k} - \\alpha \\mathbf{\\nabla} l(\\beta_k) $$\n",
    "   where $\\alpha \\sim 10^{-1}$ is the step size\n",
    "\n",
    "\n",
    "\n",
    "3. Stop the algorithm when $|l(\\beta_{k+1}) - l(\\beta_k)| < \\text{tolerance}$, we can use a small number, i.e. $10^{-7}$, as our tolerance value \n",
    "\n"
   ]
  },
  {
   "cell_type": "code",
   "execution_count": null,
   "metadata": {
    "colab": {
     "base_uri": "https://localhost:8080/",
     "height": 1000
    },
    "id": "pWPNUYyAxm8q",
    "outputId": "b9e8fb27-f39c-4b2d-cac9-b2fda707b6e4",
    "scrolled": true
   },
   "outputs": [],
   "source": [
    "#Beta 1 is slope\n",
    "#Beta 0 is intercept\n",
    "\n",
    "beta = np.random.normal(0,1,2)\n",
    "\n",
    "alpha = 3e-1\n",
    "tol = 1e-7\n",
    "delta = 1\n",
    "\n",
    "#Intercept and Slope\n",
    "gradient = -2 * np.array([loss_func(beta, x1, y), np.mean(x1 * loss_func(beta, x1, y))])\n",
    "\n",
    "stepSize = gradient * alpha\n",
    "\n",
    "#stepSize[0] is intercept, stepSize[1] is gradient\n",
    "\n",
    "\n",
    "def SGD(beta, stepsize, tol):\n",
    "    \n",
    "    \n",
    "    #Calculating Beta\n",
    "    newBeta = beta - stepSize\n",
    "    delta = np.abs(newBeta - beta)\n",
    "    \n",
    "    if delta.any() < tol:\n",
    "        return beta\n",
    "    \n",
    "    else:\n",
    "        newStep = gradient * alpha\n",
    "        \n",
    "        return SGD(newBeta, newStep, tol)\n",
    "\n",
    "SGD(beta, stepSize, tol)"
   ]
  },
  {
   "cell_type": "code",
   "execution_count": 26,
   "metadata": {},
   "outputs": [
    {
     "name": "stdout",
     "output_type": "stream",
     "text": [
      "At 0-th step, the loss is 12.168\n",
      "At 1-th step, the loss is 4.733\n",
      "At 2-th step, the loss is 2.341\n",
      "At 3-th step, the loss is 1.493\n",
      "At 4-th step, the loss is 1.189\n",
      "At 5-th step, the loss is 1.079\n",
      "At 6-th step, the loss is 1.040\n",
      "At 7-th step, the loss is 1.026\n",
      "At 8-th step, the loss is 1.021\n",
      "At 9-th step, the loss is 1.019\n",
      "At 10-th step, the loss is 1.019\n",
      "At 11-th step, the loss is 1.018\n",
      "At 12-th step, the loss is 1.018\n",
      "At 13-th step, the loss is 1.018\n",
      "At 14-th step, the loss is 1.018\n",
      "At 15-th step, the loss is 1.018\n",
      "At 16-th step, the loss is 1.018\n",
      "At 17-th step, the loss is 1.018\n",
      "At 18-th step, the loss is 1.018\n",
      "At 19-th step, the loss is 1.018\n"
     ]
    }
   ],
   "source": [
    "beta = np.random.normal(0,1,2)\n",
    "\n",
    "alpha = 6e-1\n",
    "tol = 1e-7\n",
    "delta = 1\n",
    "k = 0\n",
    "\n",
    "while np.abs(delta) >= tol:\n",
    "    \n",
    "    y_hat = model(beta, x1)\n",
    "    g = -2*np.array([ np.mean(y-y_hat), np.mean(x*(y-y_hat)) ])\n",
    "    \n",
    "    \n",
    "    prev_loss = loss_func(beta, x1, y)\n",
    "\n",
    "    #solution for gradient descent\n",
    "    beta -= alpha*g \n",
    "    \n",
    "    current_loss = loss_func(beta, x1, y)\n",
    "    \n",
    "    delta = current_loss - prev_loss\n",
    "    \n",
    "    print('At {}-th step, the loss is {:.3f}'.format(k, current_loss))\n",
    "    k += 1"
   ]
  },
  {
   "cell_type": "code",
   "execution_count": null,
   "metadata": {},
   "outputs": [],
   "source": []
  },
  {
   "cell_type": "code",
   "execution_count": null,
   "metadata": {},
   "outputs": [],
   "source": [
    "temp = (y - (model(beta, x1).T)) \n",
    "    \n",
    "#(np.sum(temp) / len(x1[0]))\n",
    "\n",
    "temp"
   ]
  },
  {
   "cell_type": "code",
   "execution_count": null,
   "metadata": {},
   "outputs": [],
   "source": []
  },
  {
   "cell_type": "markdown",
   "metadata": {},
   "source": [
    "## Visualizing the result"
   ]
  },
  {
   "cell_type": "code",
   "execution_count": 27,
   "metadata": {
    "colab": {
     "base_uri": "https://localhost:8080/",
     "height": 361
    },
    "id": "hmG0WtzI5C0N",
    "outputId": "f44eede9-3dcb-4974-b2ea-1738e3a2d23b"
   },
   "outputs": [
    {
     "name": "stdout",
     "output_type": "stream",
     "text": [
      "The estimated value for beta is: [2.95057896 9.95575272]\n",
      "The true value for beta is: [ 3 10]\n"
     ]
    },
    {
     "data": {
      "image/png": "[encoded data removed]",
      "text/plain": [
       "<Figure size 576x396 with 1 Axes>"
      ]
     },
     "metadata": {},
     "output_type": "display_data"
    }
   ],
   "source": [
    "print('The estimated value for beta is:', beta)\n",
    "print('The true value for beta is:', true_beta)\n",
    "\n",
    "y_pred = np.matmul(beta,x1)\n",
    "\n",
    "plt.plot(x, y_pred, 'r')\n",
    "plt.scatter(x,y)\n",
    "plt.ylabel('y')\n",
    "plt.xlabel('x')\n",
    "plt.show()"
   ]
  },
  {
   "cell_type": "code",
   "execution_count": null,
   "metadata": {},
   "outputs": [],
   "source": []
  }
 ],
 "metadata": {
  "colab": {
   "name": "linear_regression.ipynb",
   "provenance": []
  },
  "kernelspec": {
   "display_name": "Python 3 (ipykernel)",
   "language": "python",
   "name": "python3"
  },
  "language_info": {
   "codemirror_mode": {
    "name": "ipython",
    "version": 3
   },
   "file_extension": ".py",
   "mimetype": "text/x-python",
   "name": "python",
   "nbconvert_exporter": "python",
   "pygments_lexer": "ipython3",
   "version": "3.9.7"
  }
 },
 "nbformat": 4,
 "nbformat_minor": 1
}
