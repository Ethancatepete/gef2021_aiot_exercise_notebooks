{
 "cells": [
  {
   "cell_type": "code",
   "execution_count": 1,
   "id": "7f86adf5",
   "metadata": {},
   "outputs": [],
   "source": [
    "import pandas as pd\n",
    "from sklearn import datasets\n",
    "import numpy as np\n",
    "import matplotlib.pyplot as plt"
   ]
  },
  {
   "cell_type": "markdown",
   "id": "9ea40205",
   "metadata": {},
   "source": [
    "Load Iris Dataset\n"
   ]
  },
  {
   "cell_type": "code",
   "execution_count": 2,
   "id": "e822b0bf",
   "metadata": {},
   "outputs": [],
   "source": [
    "iris = datasets.load_iris()"
   ]
  },
  {
   "cell_type": "code",
   "execution_count": 3,
   "id": "75a5b07c",
   "metadata": {},
   "outputs": [
    {
     "data": {
      "text/plain": [
       "{'data': array([[5.1, 3.5, 1.4, 0.2],\n",
       "        [4.9, 3. , 1.4, 0.2],\n",
       "        [4.7, 3.2, 1.3, 0.2],\n",
       "        [4.6, 3.1, 1.5, 0.2],\n",
       "        [5. , 3.6, 1.4, 0.2],\n",
       "        [5.4, 3.9, 1.7, 0.4],\n",
       "        [4.6, 3.4, 1.4, 0.3],\n",
       "        [5. , 3.4, 1.5, 0.2],\n",
       "        [4.4, 2.9, 1.4, 0.2],\n",
       "        [4.9, 3.1, 1.5, 0.1],\n",
       "        [5.4, 3.7, 1.5, 0.2],\n",
       "        [4.8, 3.4, 1.6, 0.2],\n",
       "        [4.8, 3. , 1.4, 0.1],\n",
       "        [4.3, 3. , 1.1, 0.1],\n",
       "        [5.8, 4. , 1.2, 0.2],\n",
       "        [5.7, 4.4, 1.5, 0.4],\n",
       "        [5.4, 3.9, 1.3, 0.4],\n",
       "        [5.1, 3.5, 1.4, 0.3],\n",
       "        [5.7, 3.8, 1.7, 0.3],\n",
       "        [5.1, 3.8, 1.5, 0.3],\n",
       "        [5.4, 3.4, 1.7, 0.2],\n",
       "        [5.1, 3.7, 1.5, 0.4],\n",
       "        [4.6, 3.6, 1. , 0.2],\n",
       "        [5.1, 3.3, 1.7, 0.5],\n",
       "        [4.8, 3.4, 1.9, 0.2],\n",
       "        [5. , 3. , 1.6, 0.2],\n",
       "        [5. , 3.4, 1.6, 0.4],\n",
       "        [5.2, 3.5, 1.5, 0.2],\n",
       "        [5.2, 3.4, 1.4, 0.2],\n",
       "        [4.7, 3.2, 1.6, 0.2],\n",
       "        [4.8, 3.1, 1.6, 0.2],\n",
       "        [5.4, 3.4, 1.5, 0.4],\n",
       "        [5.2, 4.1, 1.5, 0.1],\n",
       "        [5.5, 4.2, 1.4, 0.2],\n",
       "        [4.9, 3.1, 1.5, 0.2],\n",
       "        [5. , 3.2, 1.2, 0.2],\n",
       "        [5.5, 3.5, 1.3, 0.2],\n",
       "        [4.9, 3.6, 1.4, 0.1],\n",
       "        [4.4, 3. , 1.3, 0.2],\n",
       "        [5.1, 3.4, 1.5, 0.2],\n",
       "        [5. , 3.5, 1.3, 0.3],\n",
       "        [4.5, 2.3, 1.3, 0.3],\n",
       "        [4.4, 3.2, 1.3, 0.2],\n",
       "        [5. , 3.5, 1.6, 0.6],\n",
       "        [5.1, 3.8, 1.9, 0.4],\n",
       "        [4.8, 3. , 1.4, 0.3],\n",
       "        [5.1, 3.8, 1.6, 0.2],\n",
       "        [4.6, 3.2, 1.4, 0.2],\n",
       "        [5.3, 3.7, 1.5, 0.2],\n",
       "        [5. , 3.3, 1.4, 0.2],\n",
       "        [7. , 3.2, 4.7, 1.4],\n",
       "        [6.4, 3.2, 4.5, 1.5],\n",
       "        [6.9, 3.1, 4.9, 1.5],\n",
       "        [5.5, 2.3, 4. , 1.3],\n",
       "        [6.5, 2.8, 4.6, 1.5],\n",
       "        [5.7, 2.8, 4.5, 1.3],\n",
       "        [6.3, 3.3, 4.7, 1.6],\n",
       "        [4.9, 2.4, 3.3, 1. ],\n",
       "        [6.6, 2.9, 4.6, 1.3],\n",
       "        [5.2, 2.7, 3.9, 1.4],\n",
       "        [5. , 2. , 3.5, 1. ],\n",
       "        [5.9, 3. , 4.2, 1.5],\n",
       "        [6. , 2.2, 4. , 1. ],\n",
       "        [6.1, 2.9, 4.7, 1.4],\n",
       "        [5.6, 2.9, 3.6, 1.3],\n",
       "        [6.7, 3.1, 4.4, 1.4],\n",
       "        [5.6, 3. , 4.5, 1.5],\n",
       "        [5.8, 2.7, 4.1, 1. ],\n",
       "        [6.2, 2.2, 4.5, 1.5],\n",
       "        [5.6, 2.5, 3.9, 1.1],\n",
       "        [5.9, 3.2, 4.8, 1.8],\n",
       "        [6.1, 2.8, 4. , 1.3],\n",
       "        [6.3, 2.5, 4.9, 1.5],\n",
       "        [6.1, 2.8, 4.7, 1.2],\n",
       "        [6.4, 2.9, 4.3, 1.3],\n",
       "        [6.6, 3. , 4.4, 1.4],\n",
       "        [6.8, 2.8, 4.8, 1.4],\n",
       "        [6.7, 3. , 5. , 1.7],\n",
       "        [6. , 2.9, 4.5, 1.5],\n",
       "        [5.7, 2.6, 3.5, 1. ],\n",
       "        [5.5, 2.4, 3.8, 1.1],\n",
       "        [5.5, 2.4, 3.7, 1. ],\n",
       "        [5.8, 2.7, 3.9, 1.2],\n",
       "        [6. , 2.7, 5.1, 1.6],\n",
       "        [5.4, 3. , 4.5, 1.5],\n",
       "        [6. , 3.4, 4.5, 1.6],\n",
       "        [6.7, 3.1, 4.7, 1.5],\n",
       "        [6.3, 2.3, 4.4, 1.3],\n",
       "        [5.6, 3. , 4.1, 1.3],\n",
       "        [5.5, 2.5, 4. , 1.3],\n",
       "        [5.5, 2.6, 4.4, 1.2],\n",
       "        [6.1, 3. , 4.6, 1.4],\n",
       "        [5.8, 2.6, 4. , 1.2],\n",
       "        [5. , 2.3, 3.3, 1. ],\n",
       "        [5.6, 2.7, 4.2, 1.3],\n",
       "        [5.7, 3. , 4.2, 1.2],\n",
       "        [5.7, 2.9, 4.2, 1.3],\n",
       "        [6.2, 2.9, 4.3, 1.3],\n",
       "        [5.1, 2.5, 3. , 1.1],\n",
       "        [5.7, 2.8, 4.1, 1.3],\n",
       "        [6.3, 3.3, 6. , 2.5],\n",
       "        [5.8, 2.7, 5.1, 1.9],\n",
       "        [7.1, 3. , 5.9, 2.1],\n",
       "        [6.3, 2.9, 5.6, 1.8],\n",
       "        [6.5, 3. , 5.8, 2.2],\n",
       "        [7.6, 3. , 6.6, 2.1],\n",
       "        [4.9, 2.5, 4.5, 1.7],\n",
       "        [7.3, 2.9, 6.3, 1.8],\n",
       "        [6.7, 2.5, 5.8, 1.8],\n",
       "        [7.2, 3.6, 6.1, 2.5],\n",
       "        [6.5, 3.2, 5.1, 2. ],\n",
       "        [6.4, 2.7, 5.3, 1.9],\n",
       "        [6.8, 3. , 5.5, 2.1],\n",
       "        [5.7, 2.5, 5. , 2. ],\n",
       "        [5.8, 2.8, 5.1, 2.4],\n",
       "        [6.4, 3.2, 5.3, 2.3],\n",
       "        [6.5, 3. , 5.5, 1.8],\n",
       "        [7.7, 3.8, 6.7, 2.2],\n",
       "        [7.7, 2.6, 6.9, 2.3],\n",
       "        [6. , 2.2, 5. , 1.5],\n",
       "        [6.9, 3.2, 5.7, 2.3],\n",
       "        [5.6, 2.8, 4.9, 2. ],\n",
       "        [7.7, 2.8, 6.7, 2. ],\n",
       "        [6.3, 2.7, 4.9, 1.8],\n",
       "        [6.7, 3.3, 5.7, 2.1],\n",
       "        [7.2, 3.2, 6. , 1.8],\n",
       "        [6.2, 2.8, 4.8, 1.8],\n",
       "        [6.1, 3. , 4.9, 1.8],\n",
       "        [6.4, 2.8, 5.6, 2.1],\n",
       "        [7.2, 3. , 5.8, 1.6],\n",
       "        [7.4, 2.8, 6.1, 1.9],\n",
       "        [7.9, 3.8, 6.4, 2. ],\n",
       "        [6.4, 2.8, 5.6, 2.2],\n",
       "        [6.3, 2.8, 5.1, 1.5],\n",
       "        [6.1, 2.6, 5.6, 1.4],\n",
       "        [7.7, 3. , 6.1, 2.3],\n",
       "        [6.3, 3.4, 5.6, 2.4],\n",
       "        [6.4, 3.1, 5.5, 1.8],\n",
       "        [6. , 3. , 4.8, 1.8],\n",
       "        [6.9, 3.1, 5.4, 2.1],\n",
       "        [6.7, 3.1, 5.6, 2.4],\n",
       "        [6.9, 3.1, 5.1, 2.3],\n",
       "        [5.8, 2.7, 5.1, 1.9],\n",
       "        [6.8, 3.2, 5.9, 2.3],\n",
       "        [6.7, 3.3, 5.7, 2.5],\n",
       "        [6.7, 3. , 5.2, 2.3],\n",
       "        [6.3, 2.5, 5. , 1.9],\n",
       "        [6.5, 3. , 5.2, 2. ],\n",
       "        [6.2, 3.4, 5.4, 2.3],\n",
       "        [5.9, 3. , 5.1, 1.8]]),\n",
       " 'target': array([0, 0, 0, 0, 0, 0, 0, 0, 0, 0, 0, 0, 0, 0, 0, 0, 0, 0, 0, 0, 0, 0,\n",
       "        0, 0, 0, 0, 0, 0, 0, 0, 0, 0, 0, 0, 0, 0, 0, 0, 0, 0, 0, 0, 0, 0,\n",
       "        0, 0, 0, 0, 0, 0, 1, 1, 1, 1, 1, 1, 1, 1, 1, 1, 1, 1, 1, 1, 1, 1,\n",
       "        1, 1, 1, 1, 1, 1, 1, 1, 1, 1, 1, 1, 1, 1, 1, 1, 1, 1, 1, 1, 1, 1,\n",
       "        1, 1, 1, 1, 1, 1, 1, 1, 1, 1, 1, 1, 2, 2, 2, 2, 2, 2, 2, 2, 2, 2,\n",
       "        2, 2, 2, 2, 2, 2, 2, 2, 2, 2, 2, 2, 2, 2, 2, 2, 2, 2, 2, 2, 2, 2,\n",
       "        2, 2, 2, 2, 2, 2, 2, 2, 2, 2, 2, 2, 2, 2, 2, 2, 2, 2]),\n",
       " 'frame': None,\n",
       " 'target_names': array(['setosa', 'versicolor', 'virginica'], dtype='<U10'),\n",
       " 'DESCR': '.. _iris_dataset:\\n\\nIris plants dataset\\n--------------------\\n\\n**Data Set Characteristics:**\\n\\n    :Number of Instances: 150 (50 in each of three classes)\\n    :Number of Attributes: 4 numeric, predictive attributes and the class\\n    :Attribute Information:\\n        - sepal length in cm\\n        - sepal width in cm\\n        - petal length in cm\\n        - petal width in cm\\n        - class:\\n                - Iris-Setosa\\n                - Iris-Versicolour\\n                - Iris-Virginica\\n                \\n    :Summary Statistics:\\n\\n    ============== ==== ==== ======= ===== ====================\\n                    Min  Max   Mean    SD   Class Correlation\\n    ============== ==== ==== ======= ===== ====================\\n    sepal length:   4.3  7.9   5.84   0.83    0.7826\\n    sepal width:    2.0  4.4   3.05   0.43   -0.4194\\n    petal length:   1.0  6.9   3.76   1.76    0.9490  (high!)\\n    petal width:    0.1  2.5   1.20   0.76    0.9565  (high!)\\n    ============== ==== ==== ======= ===== ====================\\n\\n    :Missing Attribute Values: None\\n    :Class Distribution: 33.3% for each of 3 classes.\\n    :Creator: R.A. Fisher\\n    :Donor: Michael Marshall (MARSHALL%PLU@io.arc.nasa.gov)\\n    :Date: July, 1988\\n\\nThe famous Iris database, first used by Sir R.A. Fisher. The dataset is taken\\nfrom Fisher\\'s paper. Note that it\\'s the same as in R, but not as in the UCI\\nMachine Learning Repository, which has two wrong data points.\\n\\nThis is perhaps the best known database to be found in the\\npattern recognition literature.  Fisher\\'s paper is a classic in the field and\\nis referenced frequently to this day.  (See Duda & Hart, for example.)  The\\ndata set contains 3 classes of 50 instances each, where each class refers to a\\ntype of iris plant.  One class is linearly separable from the other 2; the\\nlatter are NOT linearly separable from each other.\\n\\n.. topic:: References\\n\\n   - Fisher, R.A. \"The use of multiple measurements in taxonomic problems\"\\n     Annual Eugenics, 7, Part II, 179-188 (1936); also in \"Contributions to\\n     Mathematical Statistics\" (John Wiley, NY, 1950).\\n   - Duda, R.O., & Hart, P.E. (1973) Pattern Classification and Scene Analysis.\\n     (Q327.D83) John Wiley & Sons.  ISBN 0-471-22361-1.  See page 218.\\n   - Dasarathy, B.V. (1980) \"Nosing Around the Neighborhood: A New System\\n     Structure and Classification Rule for Recognition in Partially Exposed\\n     Environments\".  IEEE Transactions on Pattern Analysis and Machine\\n     Intelligence, Vol. PAMI-2, No. 1, 67-71.\\n   - Gates, G.W. (1972) \"The Reduced Nearest Neighbor Rule\".  IEEE Transactions\\n     on Information Theory, May 1972, 431-433.\\n   - See also: 1988 MLC Proceedings, 54-64.  Cheeseman et al\"s AUTOCLASS II\\n     conceptual clustering system finds 3 classes in the data.\\n   - Many, many more ...',\n",
       " 'feature_names': ['sepal length (cm)',\n",
       "  'sepal width (cm)',\n",
       "  'petal length (cm)',\n",
       "  'petal width (cm)'],\n",
       " 'filename': 'C:\\\\Users\\\\Cheunt3\\\\Anaconda3\\\\lib\\\\site-packages\\\\sklearn\\\\datasets\\\\data\\\\iris.csv'}"
      ]
     },
     "execution_count": 3,
     "metadata": {},
     "output_type": "execute_result"
    }
   ],
   "source": [
    "iris"
   ]
  },
  {
   "cell_type": "code",
   "execution_count": 4,
   "id": "97e065ab",
   "metadata": {},
   "outputs": [
    {
     "data": {
      "text/plain": [
       "dict_keys(['data', 'target', 'frame', 'target_names', 'DESCR', 'feature_names', 'filename'])"
      ]
     },
     "execution_count": 4,
     "metadata": {},
     "output_type": "execute_result"
    }
   ],
   "source": [
    "iris.keys()"
   ]
  },
  {
   "cell_type": "code",
   "execution_count": 5,
   "id": "7b3954ed",
   "metadata": {},
   "outputs": [],
   "source": [
    "\n",
    "column = ['sepal length', 'sepal width', 'petal length', 'petal width']\n",
    "df = pd.DataFrame(iris['data'], columns = column)\n",
    "\n",
    "df['target'] = iris['target']"
   ]
  },
  {
   "cell_type": "code",
   "execution_count": null,
   "id": "52f64220",
   "metadata": {},
   "outputs": [],
   "source": []
  },
  {
   "cell_type": "code",
   "execution_count": 6,
   "id": "00d8a256",
   "metadata": {},
   "outputs": [
    {
     "data": {
      "text/html": [
       "<div>\n",
       "<style scoped>\n",
       "    .dataframe tbody tr th:only-of-type {\n",
       "        vertical-align: middle;\n",
       "    }\n",
       "\n",
       "    .dataframe tbody tr th {\n",
       "        vertical-align: top;\n",
       "    }\n",
       "\n",
       "    .dataframe thead th {\n",
       "        text-align: right;\n",
       "    }\n",
       "</style>\n",
       "<table border=\"1\" class=\"dataframe\">\n",
       "  <thead>\n",
       "    <tr style=\"text-align: right;\">\n",
       "      <th></th>\n",
       "      <th>sepal length</th>\n",
       "      <th>sepal width</th>\n",
       "      <th>petal length</th>\n",
       "      <th>petal width</th>\n",
       "      <th>target</th>\n",
       "    </tr>\n",
       "  </thead>\n",
       "  <tbody>\n",
       "    <tr>\n",
       "      <th>0</th>\n",
       "      <td>5.1</td>\n",
       "      <td>3.5</td>\n",
       "      <td>1.4</td>\n",
       "      <td>0.2</td>\n",
       "      <td>0</td>\n",
       "    </tr>\n",
       "    <tr>\n",
       "      <th>1</th>\n",
       "      <td>4.9</td>\n",
       "      <td>3.0</td>\n",
       "      <td>1.4</td>\n",
       "      <td>0.2</td>\n",
       "      <td>0</td>\n",
       "    </tr>\n",
       "    <tr>\n",
       "      <th>2</th>\n",
       "      <td>4.7</td>\n",
       "      <td>3.2</td>\n",
       "      <td>1.3</td>\n",
       "      <td>0.2</td>\n",
       "      <td>0</td>\n",
       "    </tr>\n",
       "    <tr>\n",
       "      <th>3</th>\n",
       "      <td>4.6</td>\n",
       "      <td>3.1</td>\n",
       "      <td>1.5</td>\n",
       "      <td>0.2</td>\n",
       "      <td>0</td>\n",
       "    </tr>\n",
       "    <tr>\n",
       "      <th>4</th>\n",
       "      <td>5.0</td>\n",
       "      <td>3.6</td>\n",
       "      <td>1.4</td>\n",
       "      <td>0.2</td>\n",
       "      <td>0</td>\n",
       "    </tr>\n",
       "  </tbody>\n",
       "</table>\n",
       "</div>"
      ],
      "text/plain": [
       "   sepal length  sepal width  petal length  petal width  target\n",
       "0           5.1          3.5           1.4          0.2       0\n",
       "1           4.9          3.0           1.4          0.2       0\n",
       "2           4.7          3.2           1.3          0.2       0\n",
       "3           4.6          3.1           1.5          0.2       0\n",
       "4           5.0          3.6           1.4          0.2       0"
      ]
     },
     "execution_count": 6,
     "metadata": {},
     "output_type": "execute_result"
    }
   ],
   "source": [
    "df.head()"
   ]
  },
  {
   "cell_type": "code",
   "execution_count": 7,
   "id": "934d745f",
   "metadata": {},
   "outputs": [
    {
     "data": {
      "text/html": [
       "<div>\n",
       "<style scoped>\n",
       "    .dataframe tbody tr th:only-of-type {\n",
       "        vertical-align: middle;\n",
       "    }\n",
       "\n",
       "    .dataframe tbody tr th {\n",
       "        vertical-align: top;\n",
       "    }\n",
       "\n",
       "    .dataframe thead th {\n",
       "        text-align: right;\n",
       "    }\n",
       "</style>\n",
       "<table border=\"1\" class=\"dataframe\">\n",
       "  <thead>\n",
       "    <tr style=\"text-align: right;\">\n",
       "      <th></th>\n",
       "      <th>1</th>\n",
       "    </tr>\n",
       "  </thead>\n",
       "  <tbody>\n",
       "    <tr>\n",
       "      <th>sepal length</th>\n",
       "      <td>4.9</td>\n",
       "    </tr>\n",
       "    <tr>\n",
       "      <th>sepal width</th>\n",
       "      <td>3.0</td>\n",
       "    </tr>\n",
       "    <tr>\n",
       "      <th>petal length</th>\n",
       "      <td>1.4</td>\n",
       "    </tr>\n",
       "    <tr>\n",
       "      <th>petal width</th>\n",
       "      <td>0.2</td>\n",
       "    </tr>\n",
       "    <tr>\n",
       "      <th>target</th>\n",
       "      <td>0.0</td>\n",
       "    </tr>\n",
       "  </tbody>\n",
       "</table>\n",
       "</div>"
      ],
      "text/plain": [
       "                1\n",
       "sepal length  4.9\n",
       "sepal width   3.0\n",
       "petal length  1.4\n",
       "petal width   0.2\n",
       "target        0.0"
      ]
     },
     "execution_count": 7,
     "metadata": {},
     "output_type": "execute_result"
    }
   ],
   "source": [
    "df.iloc[1, :].to_frame()"
   ]
  },
  {
   "cell_type": "code",
   "execution_count": null,
   "id": "0be4bbba",
   "metadata": {},
   "outputs": [],
   "source": []
  },
  {
   "cell_type": "code",
   "execution_count": 8,
   "id": "3d3fd000",
   "metadata": {},
   "outputs": [],
   "source": [
    "predict = df[column].corr(method = 'pearson')"
   ]
  },
  {
   "cell_type": "code",
   "execution_count": 9,
   "id": "d130bc91",
   "metadata": {},
   "outputs": [],
   "source": [
    "from scipy.stats import norm\n",
    "\n",
    "mu = df['sepal length'].mean()\n",
    "sigma = df['sepal length'].std(ddof=1)\n",
    "\n",
    "df['P(x <= sepal length)'] = df['sepal length'].apply(lambda x: norm.cdf(x, loc=mu, scale = sigma))\n",
    "\n"
   ]
  },
  {
   "cell_type": "code",
   "execution_count": 10,
   "id": "454d4d32",
   "metadata": {},
   "outputs": [
    {
     "data": {
      "text/html": [
       "<div>\n",
       "<style scoped>\n",
       "    .dataframe tbody tr th:only-of-type {\n",
       "        vertical-align: middle;\n",
       "    }\n",
       "\n",
       "    .dataframe tbody tr th {\n",
       "        vertical-align: top;\n",
       "    }\n",
       "\n",
       "    .dataframe thead th {\n",
       "        text-align: right;\n",
       "    }\n",
       "</style>\n",
       "<table border=\"1\" class=\"dataframe\">\n",
       "  <thead>\n",
       "    <tr style=\"text-align: right;\">\n",
       "      <th></th>\n",
       "      <th>count</th>\n",
       "      <th>mean</th>\n",
       "      <th>std</th>\n",
       "      <th>min</th>\n",
       "      <th>25%</th>\n",
       "      <th>50%</th>\n",
       "      <th>75%</th>\n",
       "      <th>max</th>\n",
       "    </tr>\n",
       "    <tr>\n",
       "      <th>target</th>\n",
       "      <th></th>\n",
       "      <th></th>\n",
       "      <th></th>\n",
       "      <th></th>\n",
       "      <th></th>\n",
       "      <th></th>\n",
       "      <th></th>\n",
       "      <th></th>\n",
       "    </tr>\n",
       "  </thead>\n",
       "  <tbody>\n",
       "    <tr>\n",
       "      <th>0</th>\n",
       "      <td>50.0</td>\n",
       "      <td>5.006</td>\n",
       "      <td>0.352490</td>\n",
       "      <td>4.3</td>\n",
       "      <td>4.800</td>\n",
       "      <td>5.0</td>\n",
       "      <td>5.2</td>\n",
       "      <td>5.8</td>\n",
       "    </tr>\n",
       "    <tr>\n",
       "      <th>1</th>\n",
       "      <td>50.0</td>\n",
       "      <td>5.936</td>\n",
       "      <td>0.516171</td>\n",
       "      <td>4.9</td>\n",
       "      <td>5.600</td>\n",
       "      <td>5.9</td>\n",
       "      <td>6.3</td>\n",
       "      <td>7.0</td>\n",
       "    </tr>\n",
       "    <tr>\n",
       "      <th>2</th>\n",
       "      <td>50.0</td>\n",
       "      <td>6.588</td>\n",
       "      <td>0.635880</td>\n",
       "      <td>4.9</td>\n",
       "      <td>6.225</td>\n",
       "      <td>6.5</td>\n",
       "      <td>6.9</td>\n",
       "      <td>7.9</td>\n",
       "    </tr>\n",
       "  </tbody>\n",
       "</table>\n",
       "</div>"
      ],
      "text/plain": [
       "        count   mean       std  min    25%  50%  75%  max\n",
       "target                                                   \n",
       "0        50.0  5.006  0.352490  4.3  4.800  5.0  5.2  5.8\n",
       "1        50.0  5.936  0.516171  4.9  5.600  5.9  6.3  7.0\n",
       "2        50.0  6.588  0.635880  4.9  6.225  6.5  6.9  7.9"
      ]
     },
     "execution_count": 10,
     "metadata": {},
     "output_type": "execute_result"
    }
   ],
   "source": [
    "df.groupby('target')['sepal length'].describe()"
   ]
  },
  {
   "cell_type": "code",
   "execution_count": 11,
   "id": "0236d750",
   "metadata": {},
   "outputs": [
    {
     "data": {
      "text/html": [
       "<div>\n",
       "<style scoped>\n",
       "    .dataframe tbody tr th:only-of-type {\n",
       "        vertical-align: middle;\n",
       "    }\n",
       "\n",
       "    .dataframe tbody tr th {\n",
       "        vertical-align: top;\n",
       "    }\n",
       "\n",
       "    .dataframe thead th {\n",
       "        text-align: right;\n",
       "    }\n",
       "</style>\n",
       "<table border=\"1\" class=\"dataframe\">\n",
       "  <thead>\n",
       "    <tr style=\"text-align: right;\">\n",
       "      <th></th>\n",
       "      <th>sepal length</th>\n",
       "      <th>sepal width</th>\n",
       "      <th>petal length</th>\n",
       "      <th>petal width</th>\n",
       "    </tr>\n",
       "  </thead>\n",
       "  <tbody>\n",
       "    <tr>\n",
       "      <th>sepal length</th>\n",
       "      <td>1.000000</td>\n",
       "      <td>-0.117570</td>\n",
       "      <td>0.871754</td>\n",
       "      <td>0.817941</td>\n",
       "    </tr>\n",
       "    <tr>\n",
       "      <th>sepal width</th>\n",
       "      <td>-0.117570</td>\n",
       "      <td>1.000000</td>\n",
       "      <td>-0.428440</td>\n",
       "      <td>-0.366126</td>\n",
       "    </tr>\n",
       "    <tr>\n",
       "      <th>petal length</th>\n",
       "      <td>0.871754</td>\n",
       "      <td>-0.428440</td>\n",
       "      <td>1.000000</td>\n",
       "      <td>0.962865</td>\n",
       "    </tr>\n",
       "    <tr>\n",
       "      <th>petal width</th>\n",
       "      <td>0.817941</td>\n",
       "      <td>-0.366126</td>\n",
       "      <td>0.962865</td>\n",
       "      <td>1.000000</td>\n",
       "    </tr>\n",
       "  </tbody>\n",
       "</table>\n",
       "</div>"
      ],
      "text/plain": [
       "              sepal length  sepal width  petal length  petal width\n",
       "sepal length      1.000000    -0.117570      0.871754     0.817941\n",
       "sepal width      -0.117570     1.000000     -0.428440    -0.366126\n",
       "petal length      0.871754    -0.428440      1.000000     0.962865\n",
       "petal width       0.817941    -0.366126      0.962865     1.000000"
      ]
     },
     "execution_count": 11,
     "metadata": {},
     "output_type": "execute_result"
    }
   ],
   "source": [
    "predict"
   ]
  },
  {
   "cell_type": "code",
   "execution_count": null,
   "id": "e07d0058",
   "metadata": {},
   "outputs": [],
   "source": []
  },
  {
   "cell_type": "code",
   "execution_count": null,
   "id": "41f61c5b",
   "metadata": {},
   "outputs": [],
   "source": []
  },
  {
   "cell_type": "code",
   "execution_count": 12,
   "id": "1e061df1",
   "metadata": {},
   "outputs": [
    {
     "data": {
      "text/plain": [
       "sepal length   -0.117570\n",
       "sepal width    -0.428440\n",
       "petal length   -0.428440\n",
       "petal width    -0.366126\n",
       "dtype: float64"
      ]
     },
     "execution_count": 12,
     "metadata": {},
     "output_type": "execute_result"
    }
   ],
   "source": [
    "predict.min()"
   ]
  },
  {
   "cell_type": "code",
   "execution_count": 13,
   "id": "305690c3",
   "metadata": {},
   "outputs": [
    {
     "data": {
      "text/plain": [
       "['sepal length (cm)',\n",
       " 'sepal width (cm)',\n",
       " 'petal length (cm)',\n",
       " 'petal width (cm)']"
      ]
     },
     "execution_count": 13,
     "metadata": {},
     "output_type": "execute_result"
    }
   ],
   "source": [
    "iris['feature_names']"
   ]
  },
  {
   "cell_type": "code",
   "execution_count": 14,
   "id": "2d1d18e8",
   "metadata": {},
   "outputs": [],
   "source": [
    "colnames = ['_'.join(i.split()[:-1]) for i in iris['feature_names']]"
   ]
  },
  {
   "cell_type": "code",
   "execution_count": 15,
   "id": "c0717196",
   "metadata": {},
   "outputs": [
    {
     "data": {
      "text/plain": [
       "['sepal_length', 'sepal_width', 'petal_length', 'petal_width']"
      ]
     },
     "execution_count": 15,
     "metadata": {},
     "output_type": "execute_result"
    }
   ],
   "source": [
    "colnames"
   ]
  },
  {
   "cell_type": "markdown",
   "id": "f5f390b7",
   "metadata": {},
   "source": [
    "# Exercise 1"
   ]
  },
  {
   "cell_type": "code",
   "execution_count": 16,
   "id": "0d2ccc60",
   "metadata": {},
   "outputs": [
    {
     "data": {
      "text/plain": [
       "<AxesSubplot:xlabel='sepal length', ylabel='sepal width'>"
      ]
     },
     "execution_count": 16,
     "metadata": {},
     "output_type": "execute_result"
    },
    {
     "data": {
      "image/png": "[encoded data removed]",
      "text/plain": [
       "<Figure size 432x288 with 1 Axes>"
      ]
     },
     "metadata": {
      "needs_background": "light"
     },
     "output_type": "display_data"
    }
   ],
   "source": [
    "df.plot.scatter(x='sepal length', y = 'sepal width', c='DarkBlue')"
   ]
  },
  {
   "cell_type": "code",
   "execution_count": null,
   "id": "05f2a7d9",
   "metadata": {},
   "outputs": [],
   "source": []
  },
  {
   "cell_type": "code",
   "execution_count": 17,
   "id": "e16c5277",
   "metadata": {},
   "outputs": [
    {
     "data": {
      "image/png": "[encoded data removed]",
      "text/plain": [
       "<Figure size 432x288 with 1 Axes>"
      ]
     },
     "metadata": {
      "needs_background": "light"
     },
     "output_type": "display_data"
    }
   ],
   "source": [
    "ax1 = predict.plot(kind='scatter', x='sepal length', y='sepal length', color='r')    \n",
    "ax2 = predict.plot(kind='scatter', x='sepal width', y='sepal width', color='g', ax=ax1)    \n",
    "ax3 = predict.plot(kind='scatter', x='petal length', y='petal length', color='b', ax=ax1)\n",
    "ax4 = predict.plot(kind='scatter', x='petal width', y='petal width', color='beige', ax=ax1)"
   ]
  },
  {
   "cell_type": "code",
   "execution_count": 18,
   "id": "5c57f422",
   "metadata": {
    "scrolled": true
   },
   "outputs": [
    {
     "data": {
      "image/png": "[encoded data removed]",
      "text/plain": [
       "<Figure size 432x432 with 16 Axes>"
      ]
     },
     "metadata": {
      "needs_background": "light"
     },
     "output_type": "display_data"
    }
   ],
   "source": [
    "from pandas.plotting import scatter_matrix\n",
    "_ = scatter_matrix(df.iloc[:, 0:4], alpha=0.9, figsize=(6,6), diagonal=\"kde\")"
   ]
  },
  {
   "cell_type": "code",
   "execution_count": null,
   "id": "7c508afd",
   "metadata": {},
   "outputs": [],
   "source": []
  },
  {
   "cell_type": "markdown",
   "id": "ce4516ba",
   "metadata": {},
   "source": [
    "# Challenge"
   ]
  },
  {
   "cell_type": "code",
   "execution_count": 19,
   "id": "402ceed3",
   "metadata": {},
   "outputs": [],
   "source": [
    "df2 = pd.read_csv('subjecta-concentrating-1.csv', delimiter =',')"
   ]
  },
  {
   "cell_type": "code",
   "execution_count": 20,
   "id": "57785c64",
   "metadata": {},
   "outputs": [
    {
     "data": {
      "text/html": [
       "<div>\n",
       "<style scoped>\n",
       "    .dataframe tbody tr th:only-of-type {\n",
       "        vertical-align: middle;\n",
       "    }\n",
       "\n",
       "    .dataframe tbody tr th {\n",
       "        vertical-align: top;\n",
       "    }\n",
       "\n",
       "    .dataframe thead th {\n",
       "        text-align: right;\n",
       "    }\n",
       "</style>\n",
       "<table border=\"1\" class=\"dataframe\">\n",
       "  <thead>\n",
       "    <tr style=\"text-align: right;\">\n",
       "      <th></th>\n",
       "      <th>timestamps</th>\n",
       "      <th>TP9</th>\n",
       "      <th>AF7</th>\n",
       "      <th>AF8</th>\n",
       "      <th>TP10</th>\n",
       "      <th>Right AUX</th>\n",
       "    </tr>\n",
       "  </thead>\n",
       "  <tbody>\n",
       "    <tr>\n",
       "      <th>0</th>\n",
       "      <td>1.533223e+09</td>\n",
       "      <td>59.105</td>\n",
       "      <td>28.320</td>\n",
       "      <td>15.137</td>\n",
       "      <td>12.207</td>\n",
       "      <td>54.199</td>\n",
       "    </tr>\n",
       "    <tr>\n",
       "      <th>1</th>\n",
       "      <td>1.533223e+09</td>\n",
       "      <td>62.012</td>\n",
       "      <td>30.273</td>\n",
       "      <td>43.945</td>\n",
       "      <td>11.719</td>\n",
       "      <td>79.102</td>\n",
       "    </tr>\n",
       "    <tr>\n",
       "      <th>2</th>\n",
       "      <td>1.533223e+09</td>\n",
       "      <td>44.922</td>\n",
       "      <td>30.273</td>\n",
       "      <td>-97.656</td>\n",
       "      <td>11.230</td>\n",
       "      <td>32.715</td>\n",
       "    </tr>\n",
       "    <tr>\n",
       "      <th>3</th>\n",
       "      <td>1.533223e+09</td>\n",
       "      <td>28.809</td>\n",
       "      <td>27.832</td>\n",
       "      <td>-110.352</td>\n",
       "      <td>9.277</td>\n",
       "      <td>29.785</td>\n",
       "    </tr>\n",
       "    <tr>\n",
       "      <th>4</th>\n",
       "      <td>1.533223e+09</td>\n",
       "      <td>36.156</td>\n",
       "      <td>28.809</td>\n",
       "      <td>-73.242</td>\n",
       "      <td>11.230</td>\n",
       "      <td>50.781</td>\n",
       "    </tr>\n",
       "    <tr>\n",
       "      <th>...</th>\n",
       "      <td>...</td>\n",
       "      <td>...</td>\n",
       "      <td>...</td>\n",
       "      <td>...</td>\n",
       "      <td>...</td>\n",
       "      <td>...</td>\n",
       "    </tr>\n",
       "    <tr>\n",
       "      <th>15187</th>\n",
       "      <td>1.533223e+09</td>\n",
       "      <td>25.391</td>\n",
       "      <td>33.203</td>\n",
       "      <td>-388.672</td>\n",
       "      <td>22.461</td>\n",
       "      <td>19.043</td>\n",
       "    </tr>\n",
       "    <tr>\n",
       "      <th>15188</th>\n",
       "      <td>1.533223e+09</td>\n",
       "      <td>35.645</td>\n",
       "      <td>33.203</td>\n",
       "      <td>-136.230</td>\n",
       "      <td>24.902</td>\n",
       "      <td>0.977</td>\n",
       "    </tr>\n",
       "    <tr>\n",
       "      <th>15189</th>\n",
       "      <td>1.533223e+09</td>\n",
       "      <td>48.828</td>\n",
       "      <td>31.250</td>\n",
       "      <td>258.789</td>\n",
       "      <td>38.086</td>\n",
       "      <td>-15.137</td>\n",
       "    </tr>\n",
       "    <tr>\n",
       "      <th>15190</th>\n",
       "      <td>1.533223e+09</td>\n",
       "      <td>50.293</td>\n",
       "      <td>31.250</td>\n",
       "      <td>264.160</td>\n",
       "      <td>39.551</td>\n",
       "      <td>-5.859</td>\n",
       "    </tr>\n",
       "    <tr>\n",
       "      <th>15191</th>\n",
       "      <td>1.533223e+09</td>\n",
       "      <td>45.410</td>\n",
       "      <td>30.273</td>\n",
       "      <td>27.344</td>\n",
       "      <td>39.062</td>\n",
       "      <td>49.805</td>\n",
       "    </tr>\n",
       "  </tbody>\n",
       "</table>\n",
       "<p>15192 rows × 6 columns</p>\n",
       "</div>"
      ],
      "text/plain": [
       "         timestamps     TP9     AF7      AF8    TP10  Right AUX\n",
       "0      1.533223e+09  59.105  28.320   15.137  12.207     54.199\n",
       "1      1.533223e+09  62.012  30.273   43.945  11.719     79.102\n",
       "2      1.533223e+09  44.922  30.273  -97.656  11.230     32.715\n",
       "3      1.533223e+09  28.809  27.832 -110.352   9.277     29.785\n",
       "4      1.533223e+09  36.156  28.809  -73.242  11.230     50.781\n",
       "...             ...     ...     ...      ...     ...        ...\n",
       "15187  1.533223e+09  25.391  33.203 -388.672  22.461     19.043\n",
       "15188  1.533223e+09  35.645  33.203 -136.230  24.902      0.977\n",
       "15189  1.533223e+09  48.828  31.250  258.789  38.086    -15.137\n",
       "15190  1.533223e+09  50.293  31.250  264.160  39.551     -5.859\n",
       "15191  1.533223e+09  45.410  30.273   27.344  39.062     49.805\n",
       "\n",
       "[15192 rows x 6 columns]"
      ]
     },
     "execution_count": 20,
     "metadata": {},
     "output_type": "execute_result"
    }
   ],
   "source": [
    "df2"
   ]
  },
  {
   "cell_type": "code",
   "execution_count": 21,
   "id": "6771a10a",
   "metadata": {},
   "outputs": [
    {
     "data": {
      "text/plain": [
       "timestamps    0\n",
       "TP9           0\n",
       "AF7           0\n",
       "AF8           0\n",
       "TP10          0\n",
       "Right AUX     0\n",
       "dtype: int64"
      ]
     },
     "execution_count": 21,
     "metadata": {},
     "output_type": "execute_result"
    }
   ],
   "source": [
    "df2.isnull().sum()"
   ]
  },
  {
   "cell_type": "code",
   "execution_count": 22,
   "id": "fa13c79b",
   "metadata": {},
   "outputs": [
    {
     "data": {
      "text/html": [
       "<div>\n",
       "<style scoped>\n",
       "    .dataframe tbody tr th:only-of-type {\n",
       "        vertical-align: middle;\n",
       "    }\n",
       "\n",
       "    .dataframe tbody tr th {\n",
       "        vertical-align: top;\n",
       "    }\n",
       "\n",
       "    .dataframe thead th {\n",
       "        text-align: right;\n",
       "    }\n",
       "</style>\n",
       "<table border=\"1\" class=\"dataframe\">\n",
       "  <thead>\n",
       "    <tr style=\"text-align: right;\">\n",
       "      <th></th>\n",
       "      <th>timestamps</th>\n",
       "      <th>TP9</th>\n",
       "      <th>AF7</th>\n",
       "      <th>AF8</th>\n",
       "      <th>TP10</th>\n",
       "      <th>Right AUX</th>\n",
       "    </tr>\n",
       "  </thead>\n",
       "  <tbody>\n",
       "    <tr>\n",
       "      <th>count</th>\n",
       "      <td>1.519200e+04</td>\n",
       "      <td>15192.000000</td>\n",
       "      <td>15192.000000</td>\n",
       "      <td>15192.000000</td>\n",
       "      <td>15192.000000</td>\n",
       "      <td>15192.000000</td>\n",
       "    </tr>\n",
       "    <tr>\n",
       "      <th>mean</th>\n",
       "      <td>1.533223e+09</td>\n",
       "      <td>37.435923</td>\n",
       "      <td>32.128337</td>\n",
       "      <td>-24.929599</td>\n",
       "      <td>15.277019</td>\n",
       "      <td>24.005905</td>\n",
       "    </tr>\n",
       "    <tr>\n",
       "      <th>std</th>\n",
       "      <td>1.713077e+01</td>\n",
       "      <td>27.892849</td>\n",
       "      <td>10.549507</td>\n",
       "      <td>160.286413</td>\n",
       "      <td>27.026038</td>\n",
       "      <td>34.776647</td>\n",
       "    </tr>\n",
       "    <tr>\n",
       "      <th>min</th>\n",
       "      <td>1.533223e+09</td>\n",
       "      <td>-207.031000</td>\n",
       "      <td>-36.133000</td>\n",
       "      <td>-499.023000</td>\n",
       "      <td>-219.727000</td>\n",
       "      <td>-128.906000</td>\n",
       "    </tr>\n",
       "    <tr>\n",
       "      <th>25%</th>\n",
       "      <td>1.533223e+09</td>\n",
       "      <td>25.879000</td>\n",
       "      <td>26.367000</td>\n",
       "      <td>-138.184000</td>\n",
       "      <td>3.418000</td>\n",
       "      <td>0.488000</td>\n",
       "    </tr>\n",
       "    <tr>\n",
       "      <th>50%</th>\n",
       "      <td>1.533223e+09</td>\n",
       "      <td>38.086000</td>\n",
       "      <td>31.738000</td>\n",
       "      <td>-40.039000</td>\n",
       "      <td>17.090000</td>\n",
       "      <td>24.414000</td>\n",
       "    </tr>\n",
       "    <tr>\n",
       "      <th>75%</th>\n",
       "      <td>1.533223e+09</td>\n",
       "      <td>50.781000</td>\n",
       "      <td>37.598000</td>\n",
       "      <td>61.523000</td>\n",
       "      <td>27.832000</td>\n",
       "      <td>47.852000</td>\n",
       "    </tr>\n",
       "    <tr>\n",
       "      <th>max</th>\n",
       "      <td>1.533223e+09</td>\n",
       "      <td>159.180000</td>\n",
       "      <td>111.816000</td>\n",
       "      <td>720.215000</td>\n",
       "      <td>138.672000</td>\n",
       "      <td>175.293000</td>\n",
       "    </tr>\n",
       "  </tbody>\n",
       "</table>\n",
       "</div>"
      ],
      "text/plain": [
       "         timestamps           TP9           AF7           AF8          TP10  \\\n",
       "count  1.519200e+04  15192.000000  15192.000000  15192.000000  15192.000000   \n",
       "mean   1.533223e+09     37.435923     32.128337    -24.929599     15.277019   \n",
       "std    1.713077e+01     27.892849     10.549507    160.286413     27.026038   \n",
       "min    1.533223e+09   -207.031000    -36.133000   -499.023000   -219.727000   \n",
       "25%    1.533223e+09     25.879000     26.367000   -138.184000      3.418000   \n",
       "50%    1.533223e+09     38.086000     31.738000    -40.039000     17.090000   \n",
       "75%    1.533223e+09     50.781000     37.598000     61.523000     27.832000   \n",
       "max    1.533223e+09    159.180000    111.816000    720.215000    138.672000   \n",
       "\n",
       "          Right AUX  \n",
       "count  15192.000000  \n",
       "mean      24.005905  \n",
       "std       34.776647  \n",
       "min     -128.906000  \n",
       "25%        0.488000  \n",
       "50%       24.414000  \n",
       "75%       47.852000  \n",
       "max      175.293000  "
      ]
     },
     "execution_count": 22,
     "metadata": {},
     "output_type": "execute_result"
    }
   ],
   "source": [
    "df2.describe()"
   ]
  },
  {
   "cell_type": "code",
   "execution_count": 23,
   "id": "c591f363",
   "metadata": {},
   "outputs": [],
   "source": [
    "df2['time'] = pd.to_datetime(df2.iloc[:, 0], unit = 's', origin = 'unix')"
   ]
  },
  {
   "cell_type": "code",
   "execution_count": 24,
   "id": "33d2bb60",
   "metadata": {},
   "outputs": [
    {
     "data": {
      "text/html": [
       "<div>\n",
       "<style scoped>\n",
       "    .dataframe tbody tr th:only-of-type {\n",
       "        vertical-align: middle;\n",
       "    }\n",
       "\n",
       "    .dataframe tbody tr th {\n",
       "        vertical-align: top;\n",
       "    }\n",
       "\n",
       "    .dataframe thead th {\n",
       "        text-align: right;\n",
       "    }\n",
       "</style>\n",
       "<table border=\"1\" class=\"dataframe\">\n",
       "  <thead>\n",
       "    <tr style=\"text-align: right;\">\n",
       "      <th></th>\n",
       "      <th>timestamps</th>\n",
       "      <th>TP9</th>\n",
       "      <th>AF7</th>\n",
       "      <th>AF8</th>\n",
       "      <th>TP10</th>\n",
       "      <th>Right AUX</th>\n",
       "      <th>time</th>\n",
       "    </tr>\n",
       "  </thead>\n",
       "  <tbody>\n",
       "    <tr>\n",
       "      <th>0</th>\n",
       "      <td>1.533223e+09</td>\n",
       "      <td>59.105</td>\n",
       "      <td>28.320</td>\n",
       "      <td>15.137</td>\n",
       "      <td>12.207</td>\n",
       "      <td>54.199</td>\n",
       "      <td>2018-08-02 15:09:19.839000064</td>\n",
       "    </tr>\n",
       "    <tr>\n",
       "      <th>1</th>\n",
       "      <td>1.533223e+09</td>\n",
       "      <td>62.012</td>\n",
       "      <td>30.273</td>\n",
       "      <td>43.945</td>\n",
       "      <td>11.719</td>\n",
       "      <td>79.102</td>\n",
       "      <td>2018-08-02 15:09:19.842999808</td>\n",
       "    </tr>\n",
       "    <tr>\n",
       "      <th>2</th>\n",
       "      <td>1.533223e+09</td>\n",
       "      <td>44.922</td>\n",
       "      <td>30.273</td>\n",
       "      <td>-97.656</td>\n",
       "      <td>11.230</td>\n",
       "      <td>32.715</td>\n",
       "      <td>2018-08-02 15:09:19.846999808</td>\n",
       "    </tr>\n",
       "    <tr>\n",
       "      <th>3</th>\n",
       "      <td>1.533223e+09</td>\n",
       "      <td>28.809</td>\n",
       "      <td>27.832</td>\n",
       "      <td>-110.352</td>\n",
       "      <td>9.277</td>\n",
       "      <td>29.785</td>\n",
       "      <td>2018-08-02 15:09:19.851000064</td>\n",
       "    </tr>\n",
       "    <tr>\n",
       "      <th>4</th>\n",
       "      <td>1.533223e+09</td>\n",
       "      <td>36.156</td>\n",
       "      <td>28.809</td>\n",
       "      <td>-73.242</td>\n",
       "      <td>11.230</td>\n",
       "      <td>50.781</td>\n",
       "      <td>2018-08-02 15:09:19.855000064</td>\n",
       "    </tr>\n",
       "    <tr>\n",
       "      <th>...</th>\n",
       "      <td>...</td>\n",
       "      <td>...</td>\n",
       "      <td>...</td>\n",
       "      <td>...</td>\n",
       "      <td>...</td>\n",
       "      <td>...</td>\n",
       "      <td>...</td>\n",
       "    </tr>\n",
       "    <tr>\n",
       "      <th>15187</th>\n",
       "      <td>1.533223e+09</td>\n",
       "      <td>25.391</td>\n",
       "      <td>33.203</td>\n",
       "      <td>-388.672</td>\n",
       "      <td>22.461</td>\n",
       "      <td>19.043</td>\n",
       "      <td>2018-08-02 15:10:19.160000000</td>\n",
       "    </tr>\n",
       "    <tr>\n",
       "      <th>15188</th>\n",
       "      <td>1.533223e+09</td>\n",
       "      <td>35.645</td>\n",
       "      <td>33.203</td>\n",
       "      <td>-136.230</td>\n",
       "      <td>24.902</td>\n",
       "      <td>0.977</td>\n",
       "      <td>2018-08-02 15:10:19.164000000</td>\n",
       "    </tr>\n",
       "    <tr>\n",
       "      <th>15189</th>\n",
       "      <td>1.533223e+09</td>\n",
       "      <td>48.828</td>\n",
       "      <td>31.250</td>\n",
       "      <td>258.789</td>\n",
       "      <td>38.086</td>\n",
       "      <td>-15.137</td>\n",
       "      <td>2018-08-02 15:10:19.168000000</td>\n",
       "    </tr>\n",
       "    <tr>\n",
       "      <th>15190</th>\n",
       "      <td>1.533223e+09</td>\n",
       "      <td>50.293</td>\n",
       "      <td>31.250</td>\n",
       "      <td>264.160</td>\n",
       "      <td>39.551</td>\n",
       "      <td>-5.859</td>\n",
       "      <td>2018-08-02 15:10:19.172000000</td>\n",
       "    </tr>\n",
       "    <tr>\n",
       "      <th>15191</th>\n",
       "      <td>1.533223e+09</td>\n",
       "      <td>45.410</td>\n",
       "      <td>30.273</td>\n",
       "      <td>27.344</td>\n",
       "      <td>39.062</td>\n",
       "      <td>49.805</td>\n",
       "      <td>2018-08-02 15:10:19.176000000</td>\n",
       "    </tr>\n",
       "  </tbody>\n",
       "</table>\n",
       "<p>15192 rows × 7 columns</p>\n",
       "</div>"
      ],
      "text/plain": [
       "         timestamps     TP9     AF7      AF8    TP10  Right AUX  \\\n",
       "0      1.533223e+09  59.105  28.320   15.137  12.207     54.199   \n",
       "1      1.533223e+09  62.012  30.273   43.945  11.719     79.102   \n",
       "2      1.533223e+09  44.922  30.273  -97.656  11.230     32.715   \n",
       "3      1.533223e+09  28.809  27.832 -110.352   9.277     29.785   \n",
       "4      1.533223e+09  36.156  28.809  -73.242  11.230     50.781   \n",
       "...             ...     ...     ...      ...     ...        ...   \n",
       "15187  1.533223e+09  25.391  33.203 -388.672  22.461     19.043   \n",
       "15188  1.533223e+09  35.645  33.203 -136.230  24.902      0.977   \n",
       "15189  1.533223e+09  48.828  31.250  258.789  38.086    -15.137   \n",
       "15190  1.533223e+09  50.293  31.250  264.160  39.551     -5.859   \n",
       "15191  1.533223e+09  45.410  30.273   27.344  39.062     49.805   \n",
       "\n",
       "                               time  \n",
       "0     2018-08-02 15:09:19.839000064  \n",
       "1     2018-08-02 15:09:19.842999808  \n",
       "2     2018-08-02 15:09:19.846999808  \n",
       "3     2018-08-02 15:09:19.851000064  \n",
       "4     2018-08-02 15:09:19.855000064  \n",
       "...                             ...  \n",
       "15187 2018-08-02 15:10:19.160000000  \n",
       "15188 2018-08-02 15:10:19.164000000  \n",
       "15189 2018-08-02 15:10:19.168000000  \n",
       "15190 2018-08-02 15:10:19.172000000  \n",
       "15191 2018-08-02 15:10:19.176000000  \n",
       "\n",
       "[15192 rows x 7 columns]"
      ]
     },
     "execution_count": 24,
     "metadata": {},
     "output_type": "execute_result"
    }
   ],
   "source": [
    "df2"
   ]
  },
  {
   "cell_type": "code",
   "execution_count": 25,
   "id": "6c8d6249",
   "metadata": {},
   "outputs": [
    {
     "data": {
      "text/plain": [
       "0        1.533223e+09\n",
       "1        1.533223e+09\n",
       "2        1.533223e+09\n",
       "3        1.533223e+09\n",
       "4        1.533223e+09\n",
       "             ...     \n",
       "15187    1.533223e+09\n",
       "15188    1.533223e+09\n",
       "15189    1.533223e+09\n",
       "15190    1.533223e+09\n",
       "15191    1.533223e+09\n",
       "Name: timestamps, Length: 15192, dtype: float64"
      ]
     },
     "execution_count": 25,
     "metadata": {},
     "output_type": "execute_result"
    }
   ],
   "source": [
    "df2.iloc[:, 0]"
   ]
  },
  {
   "cell_type": "code",
   "execution_count": 26,
   "id": "7b6511a2",
   "metadata": {
    "scrolled": true
   },
   "outputs": [
    {
     "data": {
      "text/html": [
       "<div>\n",
       "<style scoped>\n",
       "    .dataframe tbody tr th:only-of-type {\n",
       "        vertical-align: middle;\n",
       "    }\n",
       "\n",
       "    .dataframe tbody tr th {\n",
       "        vertical-align: top;\n",
       "    }\n",
       "\n",
       "    .dataframe thead th {\n",
       "        text-align: right;\n",
       "    }\n",
       "</style>\n",
       "<table border=\"1\" class=\"dataframe\">\n",
       "  <thead>\n",
       "    <tr style=\"text-align: right;\">\n",
       "      <th></th>\n",
       "      <th>timestamps</th>\n",
       "      <th>TP9</th>\n",
       "      <th>AF7</th>\n",
       "      <th>AF8</th>\n",
       "      <th>TP10</th>\n",
       "      <th>Right AUX</th>\n",
       "      <th>time</th>\n",
       "    </tr>\n",
       "  </thead>\n",
       "  <tbody>\n",
       "    <tr>\n",
       "      <th>0</th>\n",
       "      <td>1.533223e+09</td>\n",
       "      <td>59.105</td>\n",
       "      <td>28.320</td>\n",
       "      <td>15.137</td>\n",
       "      <td>12.207</td>\n",
       "      <td>54.199</td>\n",
       "      <td>2018-08-02 15:09:19.839000064</td>\n",
       "    </tr>\n",
       "    <tr>\n",
       "      <th>1</th>\n",
       "      <td>1.533223e+09</td>\n",
       "      <td>62.012</td>\n",
       "      <td>30.273</td>\n",
       "      <td>43.945</td>\n",
       "      <td>11.719</td>\n",
       "      <td>79.102</td>\n",
       "      <td>2018-08-02 15:09:19.842999808</td>\n",
       "    </tr>\n",
       "    <tr>\n",
       "      <th>2</th>\n",
       "      <td>1.533223e+09</td>\n",
       "      <td>44.922</td>\n",
       "      <td>30.273</td>\n",
       "      <td>-97.656</td>\n",
       "      <td>11.230</td>\n",
       "      <td>32.715</td>\n",
       "      <td>2018-08-02 15:09:19.846999808</td>\n",
       "    </tr>\n",
       "    <tr>\n",
       "      <th>3</th>\n",
       "      <td>1.533223e+09</td>\n",
       "      <td>28.809</td>\n",
       "      <td>27.832</td>\n",
       "      <td>-110.352</td>\n",
       "      <td>9.277</td>\n",
       "      <td>29.785</td>\n",
       "      <td>2018-08-02 15:09:19.851000064</td>\n",
       "    </tr>\n",
       "    <tr>\n",
       "      <th>4</th>\n",
       "      <td>1.533223e+09</td>\n",
       "      <td>36.156</td>\n",
       "      <td>28.809</td>\n",
       "      <td>-73.242</td>\n",
       "      <td>11.230</td>\n",
       "      <td>50.781</td>\n",
       "      <td>2018-08-02 15:09:19.855000064</td>\n",
       "    </tr>\n",
       "    <tr>\n",
       "      <th>...</th>\n",
       "      <td>...</td>\n",
       "      <td>...</td>\n",
       "      <td>...</td>\n",
       "      <td>...</td>\n",
       "      <td>...</td>\n",
       "      <td>...</td>\n",
       "      <td>...</td>\n",
       "    </tr>\n",
       "    <tr>\n",
       "      <th>246</th>\n",
       "      <td>1.533223e+09</td>\n",
       "      <td>83.984</td>\n",
       "      <td>47.363</td>\n",
       "      <td>68.848</td>\n",
       "      <td>30.273</td>\n",
       "      <td>-12.207</td>\n",
       "      <td>2018-08-02 15:09:20.800000000</td>\n",
       "    </tr>\n",
       "    <tr>\n",
       "      <th>247</th>\n",
       "      <td>1.533223e+09</td>\n",
       "      <td>76.172</td>\n",
       "      <td>43.457</td>\n",
       "      <td>97.656</td>\n",
       "      <td>27.344</td>\n",
       "      <td>-31.738</td>\n",
       "      <td>2018-08-02 15:09:20.804000000</td>\n",
       "    </tr>\n",
       "    <tr>\n",
       "      <th>248</th>\n",
       "      <td>1.533223e+09</td>\n",
       "      <td>67.383</td>\n",
       "      <td>40.039</td>\n",
       "      <td>-41.504</td>\n",
       "      <td>21.484</td>\n",
       "      <td>16.113</td>\n",
       "      <td>2018-08-02 15:09:20.808000000</td>\n",
       "    </tr>\n",
       "    <tr>\n",
       "      <th>249</th>\n",
       "      <td>1.533223e+09</td>\n",
       "      <td>53.223</td>\n",
       "      <td>36.133</td>\n",
       "      <td>-46.387</td>\n",
       "      <td>19.043</td>\n",
       "      <td>-11.719</td>\n",
       "      <td>2018-08-02 15:09:20.812000000</td>\n",
       "    </tr>\n",
       "    <tr>\n",
       "      <th>250</th>\n",
       "      <td>1.533223e+09</td>\n",
       "      <td>56.152</td>\n",
       "      <td>34.668</td>\n",
       "      <td>-14.160</td>\n",
       "      <td>20.508</td>\n",
       "      <td>11.230</td>\n",
       "      <td>2018-08-02 15:09:20.815000064</td>\n",
       "    </tr>\n",
       "  </tbody>\n",
       "</table>\n",
       "<p>251 rows × 7 columns</p>\n",
       "</div>"
      ],
      "text/plain": [
       "       timestamps     TP9     AF7      AF8    TP10  Right AUX  \\\n",
       "0    1.533223e+09  59.105  28.320   15.137  12.207     54.199   \n",
       "1    1.533223e+09  62.012  30.273   43.945  11.719     79.102   \n",
       "2    1.533223e+09  44.922  30.273  -97.656  11.230     32.715   \n",
       "3    1.533223e+09  28.809  27.832 -110.352   9.277     29.785   \n",
       "4    1.533223e+09  36.156  28.809  -73.242  11.230     50.781   \n",
       "..            ...     ...     ...      ...     ...        ...   \n",
       "246  1.533223e+09  83.984  47.363   68.848  30.273    -12.207   \n",
       "247  1.533223e+09  76.172  43.457   97.656  27.344    -31.738   \n",
       "248  1.533223e+09  67.383  40.039  -41.504  21.484     16.113   \n",
       "249  1.533223e+09  53.223  36.133  -46.387  19.043    -11.719   \n",
       "250  1.533223e+09  56.152  34.668  -14.160  20.508     11.230   \n",
       "\n",
       "                             time  \n",
       "0   2018-08-02 15:09:19.839000064  \n",
       "1   2018-08-02 15:09:19.842999808  \n",
       "2   2018-08-02 15:09:19.846999808  \n",
       "3   2018-08-02 15:09:19.851000064  \n",
       "4   2018-08-02 15:09:19.855000064  \n",
       "..                            ...  \n",
       "246 2018-08-02 15:09:20.800000000  \n",
       "247 2018-08-02 15:09:20.804000000  \n",
       "248 2018-08-02 15:09:20.808000000  \n",
       "249 2018-08-02 15:09:20.812000000  \n",
       "250 2018-08-02 15:09:20.815000064  \n",
       "\n",
       "[251 rows x 7 columns]"
      ]
     },
     "execution_count": 26,
     "metadata": {},
     "output_type": "execute_result"
    }
   ],
   "source": [
    "df2.head(251)"
   ]
  },
  {
   "cell_type": "code",
   "execution_count": null,
   "id": "c4937385",
   "metadata": {},
   "outputs": [],
   "source": []
  },
  {
   "cell_type": "code",
   "execution_count": 27,
   "id": "f3e93b9d",
   "metadata": {},
   "outputs": [],
   "source": [
    "\n",
    "startTime = df2.iloc[0, :].timestamps\n",
    "endTime = df2.iloc[251, :].timestamps"
   ]
  },
  {
   "cell_type": "code",
   "execution_count": 28,
   "id": "b7998831",
   "metadata": {},
   "outputs": [
    {
     "data": {
      "text/plain": [
       "1.0"
      ]
     },
     "execution_count": 28,
     "metadata": {},
     "output_type": "execute_result"
    }
   ],
   "source": [
    "(round(endTime - startTime, 0))"
   ]
  },
  {
   "cell_type": "code",
   "execution_count": 29,
   "id": "92b85f03",
   "metadata": {
    "scrolled": true
   },
   "outputs": [
    {
     "data": {
      "text/plain": [
       "TP9     73.187352\n",
       "AF7     36.525396\n",
       "AF8    -15.578116\n",
       "TP10    29.353500\n",
       "dtype: float64"
      ]
     },
     "execution_count": 29,
     "metadata": {},
     "output_type": "execute_result"
    }
   ],
   "source": [
    "df2.iloc[1:251, 1:5].mean()"
   ]
  },
  {
   "cell_type": "code",
   "execution_count": 30,
   "id": "45ffb588",
   "metadata": {},
   "outputs": [
    {
     "data": {
      "text/plain": [
       "TP9     19.120265\n",
       "AF7     11.280255\n",
       "AF8     65.048312\n",
       "TP10    11.145916\n",
       "dtype: float64"
      ]
     },
     "execution_count": 30,
     "metadata": {},
     "output_type": "execute_result"
    }
   ],
   "source": [
    "df2.iloc[1:251, 1:5].std()"
   ]
  },
  {
   "cell_type": "code",
   "execution_count": 31,
   "id": "3c157edb",
   "metadata": {},
   "outputs": [
    {
     "data": {
      "text/plain": [
       "TP9    -0.217486\n",
       "AF7     0.521538\n",
       "AF8     0.179613\n",
       "TP10   -0.253029\n",
       "dtype: float64"
      ]
     },
     "execution_count": 31,
     "metadata": {},
     "output_type": "execute_result"
    }
   ],
   "source": [
    "df2.iloc[1:251, 1:5].skew()"
   ]
  },
  {
   "cell_type": "code",
   "execution_count": 32,
   "id": "3a3beca2",
   "metadata": {},
   "outputs": [
    {
     "data": {
      "text/plain": [
       "TP9    -0.460342\n",
       "AF7     0.288991\n",
       "AF8    -0.855297\n",
       "TP10   -0.290459\n",
       "dtype: float64"
      ]
     },
     "execution_count": 32,
     "metadata": {},
     "output_type": "execute_result"
    }
   ],
   "source": [
    "df2.iloc[1:251, 1:5].kurtosis()"
   ]
  },
  {
   "cell_type": "code",
   "execution_count": null,
   "id": "8205d671",
   "metadata": {},
   "outputs": [],
   "source": []
  },
  {
   "cell_type": "code",
   "execution_count": 43,
   "id": "5135037f",
   "metadata": {},
   "outputs": [
    {
     "data": {
      "text/html": [
       "<div>\n",
       "<style scoped>\n",
       "    .dataframe tbody tr th:only-of-type {\n",
       "        vertical-align: middle;\n",
       "    }\n",
       "\n",
       "    .dataframe tbody tr th {\n",
       "        vertical-align: top;\n",
       "    }\n",
       "\n",
       "    .dataframe thead th {\n",
       "        text-align: right;\n",
       "    }\n",
       "</style>\n",
       "<table border=\"1\" class=\"dataframe\">\n",
       "  <thead>\n",
       "    <tr style=\"text-align: right;\">\n",
       "      <th></th>\n",
       "      <th>TP9</th>\n",
       "      <th>AF7</th>\n",
       "      <th>AF8</th>\n",
       "      <th>TP10</th>\n",
       "    </tr>\n",
       "  </thead>\n",
       "  <tbody>\n",
       "    <tr>\n",
       "      <th>0</th>\n",
       "      <td>NaN</td>\n",
       "      <td>NaN</td>\n",
       "      <td>NaN</td>\n",
       "      <td>NaN</td>\n",
       "    </tr>\n",
       "    <tr>\n",
       "      <th>1</th>\n",
       "      <td>NaN</td>\n",
       "      <td>NaN</td>\n",
       "      <td>NaN</td>\n",
       "      <td>NaN</td>\n",
       "    </tr>\n",
       "    <tr>\n",
       "      <th>2</th>\n",
       "      <td>NaN</td>\n",
       "      <td>NaN</td>\n",
       "      <td>NaN</td>\n",
       "      <td>NaN</td>\n",
       "    </tr>\n",
       "    <tr>\n",
       "      <th>3</th>\n",
       "      <td>NaN</td>\n",
       "      <td>NaN</td>\n",
       "      <td>NaN</td>\n",
       "      <td>NaN</td>\n",
       "    </tr>\n",
       "    <tr>\n",
       "      <th>4</th>\n",
       "      <td>NaN</td>\n",
       "      <td>NaN</td>\n",
       "      <td>NaN</td>\n",
       "      <td>NaN</td>\n",
       "    </tr>\n",
       "    <tr>\n",
       "      <th>...</th>\n",
       "      <td>...</td>\n",
       "      <td>...</td>\n",
       "      <td>...</td>\n",
       "      <td>...</td>\n",
       "    </tr>\n",
       "    <tr>\n",
       "      <th>15187</th>\n",
       "      <td>27.208992</td>\n",
       "      <td>27.824208</td>\n",
       "      <td>86.894528</td>\n",
       "      <td>22.808624</td>\n",
       "    </tr>\n",
       "    <tr>\n",
       "      <th>15188</th>\n",
       "      <td>27.152352</td>\n",
       "      <td>27.843740</td>\n",
       "      <td>84.927732</td>\n",
       "      <td>22.798856</td>\n",
       "    </tr>\n",
       "    <tr>\n",
       "      <th>15189</th>\n",
       "      <td>27.197272</td>\n",
       "      <td>27.876944</td>\n",
       "      <td>84.095700</td>\n",
       "      <td>22.822292</td>\n",
       "    </tr>\n",
       "    <tr>\n",
       "      <th>15190</th>\n",
       "      <td>27.324224</td>\n",
       "      <td>27.921864</td>\n",
       "      <td>84.212888</td>\n",
       "      <td>22.869168</td>\n",
       "    </tr>\n",
       "    <tr>\n",
       "      <th>15191</th>\n",
       "      <td>27.453128</td>\n",
       "      <td>27.953112</td>\n",
       "      <td>84.687500</td>\n",
       "      <td>22.941432</td>\n",
       "    </tr>\n",
       "  </tbody>\n",
       "</table>\n",
       "<p>15192 rows × 4 columns</p>\n",
       "</div>"
      ],
      "text/plain": [
       "             TP9        AF7        AF8       TP10\n",
       "0            NaN        NaN        NaN        NaN\n",
       "1            NaN        NaN        NaN        NaN\n",
       "2            NaN        NaN        NaN        NaN\n",
       "3            NaN        NaN        NaN        NaN\n",
       "4            NaN        NaN        NaN        NaN\n",
       "...          ...        ...        ...        ...\n",
       "15187  27.208992  27.824208  86.894528  22.808624\n",
       "15188  27.152352  27.843740  84.927732  22.798856\n",
       "15189  27.197272  27.876944  84.095700  22.822292\n",
       "15190  27.324224  27.921864  84.212888  22.869168\n",
       "15191  27.453128  27.953112  84.687500  22.941432\n",
       "\n",
       "[15192 rows x 4 columns]"
      ]
     },
     "execution_count": 43,
     "metadata": {},
     "output_type": "execute_result"
    }
   ],
   "source": [
    "#Notes\n",
    "\n",
    "#We need 250 rows for sliding window\n",
    "#Window size = 250\n",
    "#Feature columns = df2.iloc[:, 1:5]\n",
    "\n",
    "df2.iloc[:, 1:5].rolling(window = 250).mean()"
   ]
  },
  {
   "cell_type": "code",
   "execution_count": 38,
   "id": "1a70c185",
   "metadata": {},
   "outputs": [
    {
     "name": "stdout",
     "output_type": "stream",
     "text": [
      "TP9    37.435923\n",
      "dtype: float64\n",
      "TP9    37.435923\n",
      "AF7    32.128337\n",
      "dtype: float64\n",
      "TP9    37.435923\n",
      "AF7    32.128337\n",
      "AF8   -24.929599\n",
      "dtype: float64\n",
      "TP9     37.435923\n",
      "AF7     32.128337\n",
      "AF8    -24.929599\n",
      "TP10    15.277019\n",
      "dtype: float64\n"
     ]
    }
   ],
   "source": [
    "for window in df2.iloc[:, 1:5].mean().rolling(window = 250):\n",
    "    print(window)"
   ]
  },
  {
   "cell_type": "code",
   "execution_count": 37,
   "id": "e346c435",
   "metadata": {},
   "outputs": [
    {
     "data": {
      "text/plain": [
       "TP9    NaN\n",
       "AF7    NaN\n",
       "AF8    NaN\n",
       "TP10   NaN\n",
       "dtype: float64"
      ]
     },
     "execution_count": 37,
     "metadata": {},
     "output_type": "execute_result"
    }
   ],
   "source": [
    "df2.iloc[:, 1:5].mean().rolling(window = 250).sum()\n"
   ]
  },
  {
   "cell_type": "code",
   "execution_count": null,
   "id": "3f4dbb92",
   "metadata": {},
   "outputs": [],
   "source": []
  },
  {
   "cell_type": "code",
   "execution_count": null,
   "id": "9e94707d",
   "metadata": {},
   "outputs": [],
   "source": [
    "#John Solution"
   ]
  },
  {
   "cell_type": "code",
   "execution_count": 40,
   "id": "873ec39a",
   "metadata": {},
   "outputs": [
    {
     "data": {
      "text/plain": [
       "Index(['timestamps', 'TP9', 'AF7', 'AF8', 'TP10', 'Right AUX', 'time'], dtype='object')"
      ]
     },
     "execution_count": 40,
     "metadata": {},
     "output_type": "execute_result"
    }
   ],
   "source": [
    "df2.keys()"
   ]
  },
  {
   "cell_type": "code",
   "execution_count": 41,
   "id": "78ea48d4",
   "metadata": {},
   "outputs": [],
   "source": [
    "df2['TP9_mean'] = df2['TP9'].rolling(250).mean()"
   ]
  },
  {
   "cell_type": "code",
   "execution_count": 42,
   "id": "11b57cdc",
   "metadata": {},
   "outputs": [
    {
     "data": {
      "text/html": [
       "<div>\n",
       "<style scoped>\n",
       "    .dataframe tbody tr th:only-of-type {\n",
       "        vertical-align: middle;\n",
       "    }\n",
       "\n",
       "    .dataframe tbody tr th {\n",
       "        vertical-align: top;\n",
       "    }\n",
       "\n",
       "    .dataframe thead th {\n",
       "        text-align: right;\n",
       "    }\n",
       "</style>\n",
       "<table border=\"1\" class=\"dataframe\">\n",
       "  <thead>\n",
       "    <tr style=\"text-align: right;\">\n",
       "      <th></th>\n",
       "      <th>timestamps</th>\n",
       "      <th>TP9</th>\n",
       "      <th>AF7</th>\n",
       "      <th>AF8</th>\n",
       "      <th>TP10</th>\n",
       "      <th>Right AUX</th>\n",
       "      <th>time</th>\n",
       "      <th>TP9_mean</th>\n",
       "    </tr>\n",
       "  </thead>\n",
       "  <tbody>\n",
       "    <tr>\n",
       "      <th>0</th>\n",
       "      <td>1.533223e+09</td>\n",
       "      <td>59.105</td>\n",
       "      <td>28.320</td>\n",
       "      <td>15.137</td>\n",
       "      <td>12.207</td>\n",
       "      <td>54.199</td>\n",
       "      <td>2018-08-02 15:09:19.839000064</td>\n",
       "      <td>NaN</td>\n",
       "    </tr>\n",
       "    <tr>\n",
       "      <th>1</th>\n",
       "      <td>1.533223e+09</td>\n",
       "      <td>62.012</td>\n",
       "      <td>30.273</td>\n",
       "      <td>43.945</td>\n",
       "      <td>11.719</td>\n",
       "      <td>79.102</td>\n",
       "      <td>2018-08-02 15:09:19.842999808</td>\n",
       "      <td>NaN</td>\n",
       "    </tr>\n",
       "    <tr>\n",
       "      <th>2</th>\n",
       "      <td>1.533223e+09</td>\n",
       "      <td>44.922</td>\n",
       "      <td>30.273</td>\n",
       "      <td>-97.656</td>\n",
       "      <td>11.230</td>\n",
       "      <td>32.715</td>\n",
       "      <td>2018-08-02 15:09:19.846999808</td>\n",
       "      <td>NaN</td>\n",
       "    </tr>\n",
       "    <tr>\n",
       "      <th>3</th>\n",
       "      <td>1.533223e+09</td>\n",
       "      <td>28.809</td>\n",
       "      <td>27.832</td>\n",
       "      <td>-110.352</td>\n",
       "      <td>9.277</td>\n",
       "      <td>29.785</td>\n",
       "      <td>2018-08-02 15:09:19.851000064</td>\n",
       "      <td>NaN</td>\n",
       "    </tr>\n",
       "    <tr>\n",
       "      <th>4</th>\n",
       "      <td>1.533223e+09</td>\n",
       "      <td>36.156</td>\n",
       "      <td>28.809</td>\n",
       "      <td>-73.242</td>\n",
       "      <td>11.230</td>\n",
       "      <td>50.781</td>\n",
       "      <td>2018-08-02 15:09:19.855000064</td>\n",
       "      <td>NaN</td>\n",
       "    </tr>\n",
       "    <tr>\n",
       "      <th>...</th>\n",
       "      <td>...</td>\n",
       "      <td>...</td>\n",
       "      <td>...</td>\n",
       "      <td>...</td>\n",
       "      <td>...</td>\n",
       "      <td>...</td>\n",
       "      <td>...</td>\n",
       "      <td>...</td>\n",
       "    </tr>\n",
       "    <tr>\n",
       "      <th>15187</th>\n",
       "      <td>1.533223e+09</td>\n",
       "      <td>25.391</td>\n",
       "      <td>33.203</td>\n",
       "      <td>-388.672</td>\n",
       "      <td>22.461</td>\n",
       "      <td>19.043</td>\n",
       "      <td>2018-08-02 15:10:19.160000000</td>\n",
       "      <td>27.208992</td>\n",
       "    </tr>\n",
       "    <tr>\n",
       "      <th>15188</th>\n",
       "      <td>1.533223e+09</td>\n",
       "      <td>35.645</td>\n",
       "      <td>33.203</td>\n",
       "      <td>-136.230</td>\n",
       "      <td>24.902</td>\n",
       "      <td>0.977</td>\n",
       "      <td>2018-08-02 15:10:19.164000000</td>\n",
       "      <td>27.152352</td>\n",
       "    </tr>\n",
       "    <tr>\n",
       "      <th>15189</th>\n",
       "      <td>1.533223e+09</td>\n",
       "      <td>48.828</td>\n",
       "      <td>31.250</td>\n",
       "      <td>258.789</td>\n",
       "      <td>38.086</td>\n",
       "      <td>-15.137</td>\n",
       "      <td>2018-08-02 15:10:19.168000000</td>\n",
       "      <td>27.197272</td>\n",
       "    </tr>\n",
       "    <tr>\n",
       "      <th>15190</th>\n",
       "      <td>1.533223e+09</td>\n",
       "      <td>50.293</td>\n",
       "      <td>31.250</td>\n",
       "      <td>264.160</td>\n",
       "      <td>39.551</td>\n",
       "      <td>-5.859</td>\n",
       "      <td>2018-08-02 15:10:19.172000000</td>\n",
       "      <td>27.324224</td>\n",
       "    </tr>\n",
       "    <tr>\n",
       "      <th>15191</th>\n",
       "      <td>1.533223e+09</td>\n",
       "      <td>45.410</td>\n",
       "      <td>30.273</td>\n",
       "      <td>27.344</td>\n",
       "      <td>39.062</td>\n",
       "      <td>49.805</td>\n",
       "      <td>2018-08-02 15:10:19.176000000</td>\n",
       "      <td>27.453128</td>\n",
       "    </tr>\n",
       "  </tbody>\n",
       "</table>\n",
       "<p>15192 rows × 8 columns</p>\n",
       "</div>"
      ],
      "text/plain": [
       "         timestamps     TP9     AF7      AF8    TP10  Right AUX  \\\n",
       "0      1.533223e+09  59.105  28.320   15.137  12.207     54.199   \n",
       "1      1.533223e+09  62.012  30.273   43.945  11.719     79.102   \n",
       "2      1.533223e+09  44.922  30.273  -97.656  11.230     32.715   \n",
       "3      1.533223e+09  28.809  27.832 -110.352   9.277     29.785   \n",
       "4      1.533223e+09  36.156  28.809  -73.242  11.230     50.781   \n",
       "...             ...     ...     ...      ...     ...        ...   \n",
       "15187  1.533223e+09  25.391  33.203 -388.672  22.461     19.043   \n",
       "15188  1.533223e+09  35.645  33.203 -136.230  24.902      0.977   \n",
       "15189  1.533223e+09  48.828  31.250  258.789  38.086    -15.137   \n",
       "15190  1.533223e+09  50.293  31.250  264.160  39.551     -5.859   \n",
       "15191  1.533223e+09  45.410  30.273   27.344  39.062     49.805   \n",
       "\n",
       "                               time   TP9_mean  \n",
       "0     2018-08-02 15:09:19.839000064        NaN  \n",
       "1     2018-08-02 15:09:19.842999808        NaN  \n",
       "2     2018-08-02 15:09:19.846999808        NaN  \n",
       "3     2018-08-02 15:09:19.851000064        NaN  \n",
       "4     2018-08-02 15:09:19.855000064        NaN  \n",
       "...                             ...        ...  \n",
       "15187 2018-08-02 15:10:19.160000000  27.208992  \n",
       "15188 2018-08-02 15:10:19.164000000  27.152352  \n",
       "15189 2018-08-02 15:10:19.168000000  27.197272  \n",
       "15190 2018-08-02 15:10:19.172000000  27.324224  \n",
       "15191 2018-08-02 15:10:19.176000000  27.453128  \n",
       "\n",
       "[15192 rows x 8 columns]"
      ]
     },
     "execution_count": 42,
     "metadata": {},
     "output_type": "execute_result"
    }
   ],
   "source": []
  },
  {
   "cell_type": "code",
   "execution_count": 44,
   "id": "967e9258",
   "metadata": {},
   "outputs": [],
   "source": [
    "def statMoment(x, k):\n",
    "    mu_k = np.mean((x - np.mean(x)) ** k)\n",
    "    sigma_k = (x.std(ddof = 0)) ** k\n",
    "    \n",
    "    return mu_k / sigma_k"
   ]
  },
  {
   "cell_type": "code",
   "execution_count": 46,
   "id": "a8038db0",
   "metadata": {},
   "outputs": [
    {
     "data": {
      "text/plain": [
       "<AxesSubplot:>"
      ]
     },
     "execution_count": 46,
     "metadata": {},
     "output_type": "execute_result"
    },
    {
     "data": {
      "image/png": "[encoded data removed]",
      "text/plain": [
       "<Figure size 432x288 with 1 Axes>"
      ]
     },
     "metadata": {
      "needs_background": "light"
     },
     "output_type": "display_data"
    }
   ],
   "source": [
    "df2['TP9_skewness'] = df2['TP9'].rolling(250).apply(lambda x: statMoment(x, 3))\n",
    "df2['TP9_skewness'].plot()"
   ]
  },
  {
   "cell_type": "code",
   "execution_count": 47,
   "id": "eb641cc9",
   "metadata": {},
   "outputs": [
    {
     "data": {
      "text/plain": [
       "<AxesSubplot:>"
      ]
     },
     "execution_count": 47,
     "metadata": {},
     "output_type": "execute_result"
    },
    {
     "data": {
      "image/png": "[encoded data removed]",
      "text/plain": [
       "<Figure size 432x288 with 1 Axes>"
      ]
     },
     "metadata": {
      "needs_background": "light"
     },
     "output_type": "display_data"
    }
   ],
   "source": [
    "df2['TP9_kurtosis'] = df2['TP9'].rolling(250).apply(lambda x: statMoment(x, 4))\n",
    "df2['TP9_kurtosis'].plot()"
   ]
  },
  {
   "cell_type": "code",
   "execution_count": 48,
   "id": "f45af30d",
   "metadata": {},
   "outputs": [
    {
     "data": {
      "text/plain": [
       "<AxesSubplot:>"
      ]
     },
     "execution_count": 48,
     "metadata": {},
     "output_type": "execute_result"
    },
    {
     "data": {
      "image/png": "[encoded data removed]",
      "text/plain": [
       "<Figure size 432x288 with 1 Axes>"
      ]
     },
     "metadata": {
      "needs_background": "light"
     },
     "output_type": "display_data"
    }
   ],
   "source": [
    "TP9_mean = df2['TP9'].rolling(250).mean()[::125]\n",
    "TP9_mean.plot()"
   ]
  },
  {
   "cell_type": "code",
   "execution_count": null,
   "id": "750fc964",
   "metadata": {},
   "outputs": [],
   "source": []
  }
 ],
 "metadata": {
  "kernelspec": {
   "display_name": "Python 3 (ipykernel)",
   "language": "python",
   "name": "python3"
  },
  "language_info": {
   "codemirror_mode": {
    "name": "ipython",
    "version": 3
   },
   "file_extension": ".py",
   "mimetype": "text/x-python",
   "name": "python",
   "nbconvert_exporter": "python",
   "pygments_lexer": "ipython3",
   "version": "3.9.7"
  }
 },
 "nbformat": 4,
 "nbformat_minor": 5
}
